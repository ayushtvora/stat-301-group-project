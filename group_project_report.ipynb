{
 "cells": [
  {
   "cell_type": "markdown",
   "id": "c3eade57-dce7-4a4e-8f46-6eb5ab5d6489",
   "metadata": {},
   "source": [
    "# World University Rankings 2023 #"
   ]
  },
  {
   "cell_type": "markdown",
   "id": "353d8e3b-4c8a-4f90-a781-895daebda60b",
   "metadata": {},
   "source": [
    "## STAT 301 Group Project "
   ]
  },
  {
   "cell_type": "markdown",
   "id": "c45fa6ea-9204-41a1-88b3-9ce0408bdbe1",
   "metadata": {},
   "source": [
    "## By: Ayush Vora, Kaichi Nakajima, ZiXun Fang"
   ]
  },
  {
   "cell_type": "markdown",
   "id": "2ffd0964-29ee-4701-953b-697c59d20644",
   "metadata": {},
   "source": [
    "## 1. Introduction"
   ]
  },
  {
   "cell_type": "markdown",
   "id": "beed7e01-7d7a-4e89-ae87-c349f4a96e0b",
   "metadata": {},
   "source": [
    "### Background Information"
   ]
  },
  {
   "cell_type": "markdown",
   "id": "7be4e065-9271-4f9b-8bf1-a0ad8f8109b7",
   "metadata": {},
   "source": [
    "The World University Rankings Reports (WUR) are annual publications that rank global higher education institutions based on several performance indicators (teaching, research, knowledge transfer and international outlook) and are designed to help students and researchers identify well-performing institutions and make wise education decisions. Quacquarelli Symonds（QS), Times Higher Education (THE) and Shanghai Ranking Consultancy (the Academic Ranking of World Universities; ARWU) are the three longest and most influential global ranking institutions (Wiki, 2024). \n",
    "\n",
    "The 2023 World University Rankings dataset is the largest and most diverse ranking dataset. It contains data about 1,799 universities across 104 countries based on an analysis of over 121 million citations across over 15 million research publications and results from over 40,000 survey responses from global scholars.\n",
    "\n",
    "The dataset includes 13 calibrated performance indicators:\n",
    "1. University Rank\n",
    "2. Name of University\n",
    "3. Location\n",
    "4. Number of Students\n",
    "5. Number of Students per Staff\n",
    "6. Percentage of International Students (%)\n",
    "7. Female: Male Ratio (%)\n",
    "8. Overall Score: Comprehensive response variable derived from various indicators\n",
    "9. Teaching Score: the quality of teaching and campus environment\n",
    "10. Researching Score: Academic and Employer Reputation\n",
    "11. Citations Score: Number of times its publications are cited by others\n",
    "12. Industry Income Score: Institution's ability to attract funds\n",
    "13. International Outlook Score: Global engagement and diversity Outlook Score"
   ]
  },
  {
   "cell_type": "markdown",
   "id": "4d744804-8ec0-428e-af25-1adb26f1f401",
   "metadata": {},
   "source": [
    "### Research Question and Existing Literatures"
   ]
  },
  {
   "cell_type": "markdown",
   "id": "10eff8ca-f185-47b5-adec-9ee2cd2aff52",
   "metadata": {},
   "source": [
    "The question that we plan to answer is, **Which metrics are most relavent for determining the overall score of a University**. Along with statistical methods to answer this, we will be looking at current research in this topic to see what others have to say on the matter. One paper that will be referred to is \"A Critical Review on World University Ranking in Terms of Top Four Ranking Systems\" by Anowar et al. This paper covers four of the most common ranking systems of universities around the world, and analyzes some of the most common metrics used by these ranking systems. The second paper is \"University ranking using research, educational and environmental indicators\" by Lukman et al. who try to find correlations between different ranking tables and their scores in other metrics."
   ]
  },
  {
   "cell_type": "markdown",
   "id": "904f27c0-e93f-421b-a673-d3554ea3a70f",
   "metadata": {},
   "source": [
    "## Methods and Results"
   ]
  },
  {
   "cell_type": "markdown",
   "id": "1e3f2f23-cd7d-4b50-9ede-c12d68f351b1",
   "metadata": {},
   "source": [
    "### Exploratory Data Analysis (EDA)"
   ]
  },
  {
   "cell_type": "markdown",
   "id": "c975731b-2a11-4cac-a9ca-a7f62f8a7ef9",
   "metadata": {},
   "source": [
    "To start off, we will be loading the appropriate libraries, and tidying the dataset. Not all of the variables above are important to us, including\n",
    "- University Rank (Same metric as overall score; highest overall score = #1 ranking, second highest = #2, etc.)\n",
    "- Name of University and Location (These are non-factor strings, so will not be important in statistical analysis)"
   ]
  },
  {
   "cell_type": "code",
   "execution_count": 1,
   "id": "6bc7ae89-e99c-4fd6-85d5-e1cf8f02640e",
   "metadata": {},
   "outputs": [
    {
     "name": "stderr",
     "output_type": "stream",
     "text": [
      "Warning message:\n",
      "“package ‘dplyr’ was built under R version 4.3.2”\n",
      "Warning message:\n",
      "“package ‘stringr’ was built under R version 4.3.2”\n",
      "── \u001b[1mAttaching core tidyverse packages\u001b[22m ──────────────────────── tidyverse 2.0.0 ──\n",
      "\u001b[32m✔\u001b[39m \u001b[34mdplyr    \u001b[39m 1.1.4     \u001b[32m✔\u001b[39m \u001b[34mreadr    \u001b[39m 2.1.4\n",
      "\u001b[32m✔\u001b[39m \u001b[34mforcats  \u001b[39m 1.0.0     \u001b[32m✔\u001b[39m \u001b[34mstringr  \u001b[39m 1.5.1\n",
      "\u001b[32m✔\u001b[39m \u001b[34mggplot2  \u001b[39m 3.5.1     \u001b[32m✔\u001b[39m \u001b[34mtibble   \u001b[39m 3.2.1\n",
      "\u001b[32m✔\u001b[39m \u001b[34mlubridate\u001b[39m 1.9.3     \u001b[32m✔\u001b[39m \u001b[34mtidyr    \u001b[39m 1.3.0\n",
      "\u001b[32m✔\u001b[39m \u001b[34mpurrr    \u001b[39m 1.0.2     \n",
      "── \u001b[1mConflicts\u001b[22m ────────────────────────────────────────── tidyverse_conflicts() ──\n",
      "\u001b[31m✖\u001b[39m \u001b[34mdplyr\u001b[39m::\u001b[32mfilter()\u001b[39m masks \u001b[34mstats\u001b[39m::filter()\n",
      "\u001b[31m✖\u001b[39m \u001b[34mdplyr\u001b[39m::\u001b[32mlag()\u001b[39m    masks \u001b[34mstats\u001b[39m::lag()\n",
      "\u001b[36mℹ\u001b[39m Use the conflicted package (\u001b[3m\u001b[34m<http://conflicted.r-lib.org/>\u001b[39m\u001b[23m) to force all conflicts to become errors\n",
      "Warning message:\n",
      "“package ‘GGally’ was built under R version 4.3.2”\n",
      "Registered S3 method overwritten by 'GGally':\n",
      "  method from   \n",
      "  +.gg   ggplot2\n",
      "\n",
      "Loading required package: carData\n",
      "\n",
      "\n",
      "Attaching package: ‘car’\n",
      "\n",
      "\n",
      "The following object is masked from ‘package:dplyr’:\n",
      "\n",
      "    recode\n",
      "\n",
      "\n",
      "The following object is masked from ‘package:purrr’:\n",
      "\n",
      "    some\n",
      "\n",
      "\n"
     ]
    },
    {
     "ename": "ERROR",
     "evalue": "Error: package or namespace load failed for ‘rsample’ in get(Info[i, 1], envir = env):\n read failed on /opt/conda/lib/R/library/globals/R/globals.rdb\n",
     "output_type": "error",
     "traceback": [
      "Error: package or namespace load failed for ‘rsample’ in get(Info[i, 1], envir = env):\n read failed on /opt/conda/lib/R/library/globals/R/globals.rdb\nTraceback:\n",
      "1. library(rsample)",
      "2. tryCatch({\n .     attr(package, \"LibPath\") <- which.lib.loc\n .     ns <- loadNamespace(package, lib.loc)\n .     env <- attachNamespace(ns, pos = pos, deps, exclude, include.only)\n . }, error = function(e) {\n .     P <- if (!is.null(cc <- conditionCall(e))) \n .         paste(\" in\", deparse(cc)[1L])\n .     else \"\"\n .     msg <- gettextf(\"package or namespace load failed for %s%s:\\n %s\", \n .         sQuote(package), P, conditionMessage(e))\n .     if (logical.return && !quietly) \n .         message(paste(\"Error:\", msg), domain = NA)\n .     else stop(msg, call. = FALSE, domain = NA)\n . })",
      "3. tryCatchList(expr, classes, parentenv, handlers)",
      "4. tryCatchOne(expr, names, parentenv, handlers[[1L]])",
      "5. value[[3L]](cond)",
      "6. stop(msg, call. = FALSE, domain = NA)"
     ]
    }
   ],
   "source": [
    "library(tidyverse)\n",
    "library(repr)\n",
    "library(broom)\n",
    "library(GGally)\n",
    "library(car)\n",
    "library(rsample)\n",
    "library(glmnet)"
   ]
  },
  {
   "cell_type": "code",
   "execution_count": null,
   "id": "36ea1a05-8099-4811-8e93-a3e5b56d9dd5",
   "metadata": {},
   "outputs": [],
   "source": [
    "# Main Developer: ZiXun \n",
    "# Collaborator: Ayush (cleaned code)\n",
    "\n",
    "#loading and fixing column names\n",
    "university_data <- read_csv(\"uni_rankings_2023.csv\")\n",
    "colnames(university_data) <- c(\"university_rank\", \"name_of_university\", \"location\", \"no_of_student\", \"no_of_student_per_staff\", \n",
    "                               \"international_student\", \"female_male_ratio\", \"overall_score\", \"teaching_score\", \"research_score\",\n",
    "                               \"citations_score\",\"industry_income_score\", \"international_outlook_score\")\n",
    "\n",
    "# changing data from chr to dbl\n",
    "university_data_cleaned <- university_data |>\n",
    "    mutate(international_student = as.numeric(gsub(\"%\", \"\", international_student)) / 100,\n",
    "        female_male_ratio = as.numeric(sub(\":.*\", \"\", female_male_ratio))/as.numeric(sub(\".*:\", \"\", female_male_ratio)),\n",
    "        overall_score = as.numeric(overall_score),\n",
    "        teaching_score = as.numeric(teaching_score),\n",
    "        research_score = as.numeric(research_score),\n",
    "        citations_score = as.numeric(citations_score),\n",
    "        industry_income_score = as.numeric(industry_income_score),\n",
    "        international_outlook_score = as.numeric(international_outlook_score)) |>\n",
    "    drop_na() |>\n",
    "    select(- university_rank, - name_of_university, - location)\n",
    "\n",
    "head(university_data_cleaned)"
   ]
  },
  {
   "cell_type": "markdown",
   "id": "66f52d39-db3f-4bf7-9ce2-6c0926e0276e",
   "metadata": {},
   "source": [
    "**Table 1:** A tidied dataset, with manipulatable data and unnecessary columns removed"
   ]
  },
  {
   "cell_type": "markdown",
   "id": "c7d246db-4603-41a7-8a2d-fb5f32825126",
   "metadata": {},
   "source": [
    "We then naively fit a model using all of these variables to explore any interesting trends that emerge. Additionally, now is a good chance to check whether our model follows the correct model assumptions, including heteroscedasticity, normality of residuals, so on."
   ]
  },
  {
   "cell_type": "code",
   "execution_count": null,
   "id": "e9c63040-4f84-4586-9da3-f37d4d7bcffd",
   "metadata": {},
   "outputs": [],
   "source": [
    "# Main Developer: ZiXun \n",
    "university_lm <- lm(overall_score ~ ., data = university_data_cleaned)\n",
    "\n",
    "university_lm_results <- \n",
    "     tidy(university_lm, conf.int = TRUE) |>\n",
    "     mutate_if(is.numeric, round, 2)\n",
    "\n",
    "university_lm_results"
   ]
  },
  {
   "cell_type": "markdown",
   "id": "73ca2750-289b-44e9-b23f-dcbfe0963147",
   "metadata": {},
   "source": [
    "**Table 2:** The results of a linear model using all variables"
   ]
  },
  {
   "cell_type": "markdown",
   "id": "4e15ee9d-6f8e-4eac-aa69-4afcd6e1c0df",
   "metadata": {},
   "source": [
    "#### Checking Heteroscedasticity"
   ]
  },
  {
   "cell_type": "code",
   "execution_count": null,
   "id": "f8a99fe9-32c5-4d42-8e44-78b4ac6cd5df",
   "metadata": {},
   "outputs": [],
   "source": [
    "# Main Developer: ZiXun\n",
    "plot(university_lm, 1, main = \"University Linear Model: Checking Heteroscedasticity\")"
   ]
  },
  {
   "cell_type": "markdown",
   "id": "57d371ea-9224-44ae-9561-df5b85bc7e9a",
   "metadata": {},
   "source": [
    "**Figure 1:** A residual plot of the full linear model"
   ]
  },
  {
   "cell_type": "markdown",
   "id": "0ac58b08-52a5-4688-a756-5723ca624227",
   "metadata": {},
   "source": [
    "Based on this graph, it seems that the residuals are quite random and centered around 0, indicating that the heteroscedasticity assumption is met"
   ]
  },
  {
   "cell_type": "markdown",
   "id": "55816109-4e12-4c03-9968-3992133f337c",
   "metadata": {},
   "source": [
    "#### Normality of Residuals"
   ]
  },
  {
   "cell_type": "code",
   "execution_count": null,
   "id": "ea1919fe-cb8f-4232-a9d0-c674aaac5e50",
   "metadata": {},
   "outputs": [],
   "source": [
    "# Main Developer: ZiXun\n",
    "plot(university_lm, 2, main = \"university_lm\")"
   ]
  },
  {
   "cell_type": "markdown",
   "id": "3ea7c6b7-4ae1-4552-91f5-1f16b4e885a8",
   "metadata": {},
   "source": [
    "**Figure 2:** A Q-Q Plot of the full linear model"
   ]
  },
  {
   "cell_type": "markdown",
   "id": "8b255317-1965-42d4-98f0-67660354b91e",
   "metadata": {},
   "source": [
    "Based on this graph, it seems that the residuals are not normally distributed, but instead have lighter tails. However, because our sample size is quite large, we can rely on the Central Limit Theorem instead, satisfying our assumption. Either way, it is always good to check."
   ]
  },
  {
   "cell_type": "markdown",
   "id": "22a30cfc-6f25-452d-9775-64bf68bd81fd",
   "metadata": {},
   "source": [
    "#### Residuals Histogram"
   ]
  },
  {
   "cell_type": "code",
   "execution_count": null,
   "id": "4aa0dc48-b690-4357-ad45-1baf6103ff0c",
   "metadata": {},
   "outputs": [],
   "source": [
    "# Main Developer: ZiXun\n",
    "hist(residuals(object = university_lm),\n",
    "  breaks = 10,\n",
    "  main = \"Histogram of Residuals for University Rankings Linear Model\",\n",
    "  xlab = \"Residuals\")"
   ]
  },
  {
   "cell_type": "markdown",
   "id": "751bfcb6-41cc-4184-8cf6-136eabade827",
   "metadata": {},
   "source": [
    "**Figure 3:** A histogram of the residuals of the full model"
   ]
  },
  {
   "cell_type": "markdown",
   "id": "12a50613-b02a-4505-a560-3a39db183bc1",
   "metadata": {},
   "source": [
    "#### Correlation Between Each Variable"
   ]
  },
  {
   "cell_type": "markdown",
   "id": "8d01d91a-4a19-46c2-9c0e-33ea11809134",
   "metadata": {},
   "source": [
    "Below we plot each of the variables against each other in a pairs plot. Here, we can see the correlation between each of the variables. It seems that the variables most associated with the overall score is the number of students per staff, the international student rate, the teaching score, the research score, the citations score, and the international outlook score. It is important to note that just because there is a correlation with them does not imply that the will necessarily be used in our final model. It is possible that there may be a high correlation between the above values, so only some of them are needed for a successful model. This will be explored further below. Additionally, there is a heatmap indicating similar information below."
   ]
  },
  {
   "cell_type": "code",
   "execution_count": null,
   "id": "be4a3319-6d54-4b9e-b719-251b8a584179",
   "metadata": {},
   "outputs": [],
   "source": [
    "# Main Developer: ZiXun\n",
    "# Collaborator: Ayush (cleaned)\n",
    "options(repr.plot.width = 15, repr.plot.height = 12) \n",
    "\n",
    "university_data_pair_plot <- university_data_cleaned |>\n",
    "    ggpairs(progress = FALSE) +\n",
    "    theme(text = element_text(size = 15))\n",
    "\n",
    "university_data_pair_plot"
   ]
  },
  {
   "cell_type": "markdown",
   "id": "cf6cf69a-78ac-49d7-adf5-82aa6b11121e",
   "metadata": {},
   "source": [
    "**Figure 3:** A pairwise scatterplot of each of the variables in the full linear model."
   ]
  },
  {
   "cell_type": "code",
   "execution_count": 2,
   "id": "ef48c1c5-3953-4549-90a9-47550fd0c2c2",
   "metadata": {},
   "outputs": [
    {
     "ename": "ERROR",
     "evalue": "Error in eval(expr, envir, enclos): object 'university_data_cleaned' not found\n",
     "output_type": "error",
     "traceback": [
      "Error in eval(expr, envir, enclos): object 'university_data_cleaned' not found\nTraceback:\n",
      "1. pivot_longer(as_tibble(cor(university_data_cleaned), rownames = \"var1\"), \n .     -var1, names_to = \"var2\", values_to = \"corr\")",
      "2. as_tibble(cor(university_data_cleaned), rownames = \"var1\")",
      "3. cor(university_data_cleaned)",
      "4. is.data.frame(x)"
     ]
    }
   ],
   "source": [
    "# Main Developer: ZiXun\n",
    "# Collaborator: Ayush (cleaned)\n",
    "\n",
    "plot_corr_matrix_university <- \n",
    "    university_data_cleaned |>\n",
    "    cor() |>\n",
    "    as_tibble(rownames = 'var1') |>\n",
    "    pivot_longer(-var1, names_to = \"var2\", values_to = \"corr\") |>\n",
    "    ggplot(aes(x = var1, y = var2)) +\n",
    "    geom_tile(aes(fill = corr), color = \"white\") +\n",
    "    scale_fill_distiller(\"Correlation Coefficient \\n\", palette =  \"YlOrRd\", direction = 1, limits = c(-1,1)) +\n",
    "     labs(x = \"\", y = \"\") +\n",
    "     theme_minimal() +\n",
    "     theme(\n",
    "         axis.text.x = element_text(angle = 45, vjust = 1, size = 14, hjust = 1),\n",
    "         axis.text.y = element_text(vjust = 1, size = 14, hjust = 1),\n",
    "         legend.title = element_text(size = 18),\n",
    "         legend.text = element_text(size = 12),\n",
    "         legend.key.size = unit(1.5, \"cm\")) +\n",
    "     coord_fixed() +\n",
    "     geom_text(aes(x = var1, y = var2, label = round(corr, 2)), color = \"black\", size = 6)\n",
    "\n",
    "plot_corr_matrix_university"
   ]
  },
  {
   "cell_type": "markdown",
   "id": "a790c599-0944-4abe-a7f4-7dce37da0bcc",
   "metadata": {},
   "source": [
    "**Figure 4:** A correlation heatmap of each of the variables in the full model"
   ]
  },
  {
   "cell_type": "markdown",
   "id": "626f0568-89be-4c9a-91fe-2861c9cbc0ca",
   "metadata": {},
   "source": [
    "### 2. Methods: Plan"
   ]
  },
  {
   "cell_type": "markdown",
   "id": "2c8b0ddf-20a1-47ea-ba6b-80e62b2e2877",
   "metadata": {},
   "source": [
    "To start off, we will verify the VIFs of the full model to identify if multicollinearity exists."
   ]
  },
  {
   "cell_type": "code",
   "execution_count": 9,
   "id": "faa89fb0-2db9-405f-ad78-c867319ffcb5",
   "metadata": {},
   "outputs": [
    {
     "data": {
      "text/html": [
       "<style>\n",
       ".dl-inline {width: auto; margin:0; padding: 0}\n",
       ".dl-inline>dt, .dl-inline>dd {float: none; width: auto; display: inline-block}\n",
       ".dl-inline>dt::after {content: \":\\0020\"; padding-right: .5ex}\n",
       ".dl-inline>dt:not(:first-of-type) {padding-left: .5ex}\n",
       "</style><dl class=dl-inline><dt>no_of_student</dt><dd>1.4215810333363</dd><dt>no_of_student_per_staff</dt><dd>1.4595951187658</dd><dt>international_student</dt><dd>3.00596229867457</dd><dt>female_male_ratio</dt><dd>1.59456070204609</dd><dt>teaching_score</dt><dd>9.42861107914553</dd><dt>research_score</dt><dd>9.26724527607537</dd><dt>citations_score</dt><dd>1.61694127118814</dd><dt>industry_income_score</dt><dd>1.53760390695446</dd><dt>international_outlook_score</dt><dd>3.12597890691303</dd></dl>\n"
      ],
      "text/latex": [
       "\\begin{description*}\n",
       "\\item[no\\textbackslash{}\\_of\\textbackslash{}\\_student] 1.4215810333363\n",
       "\\item[no\\textbackslash{}\\_of\\textbackslash{}\\_student\\textbackslash{}\\_per\\textbackslash{}\\_staff] 1.4595951187658\n",
       "\\item[international\\textbackslash{}\\_student] 3.00596229867457\n",
       "\\item[female\\textbackslash{}\\_male\\textbackslash{}\\_ratio] 1.59456070204609\n",
       "\\item[teaching\\textbackslash{}\\_score] 9.42861107914553\n",
       "\\item[research\\textbackslash{}\\_score] 9.26724527607537\n",
       "\\item[citations\\textbackslash{}\\_score] 1.61694127118814\n",
       "\\item[industry\\textbackslash{}\\_income\\textbackslash{}\\_score] 1.53760390695446\n",
       "\\item[international\\textbackslash{}\\_outlook\\textbackslash{}\\_score] 3.12597890691303\n",
       "\\end{description*}\n"
      ],
      "text/markdown": [
       "no_of_student\n",
       ":   1.4215810333363no_of_student_per_staff\n",
       ":   1.4595951187658international_student\n",
       ":   3.00596229867457female_male_ratio\n",
       ":   1.59456070204609teaching_score\n",
       ":   9.42861107914553research_score\n",
       ":   9.26724527607537citations_score\n",
       ":   1.61694127118814industry_income_score\n",
       ":   1.53760390695446international_outlook_score\n",
       ":   3.12597890691303\n",
       "\n"
      ],
      "text/plain": [
       "              no_of_student     no_of_student_per_staff \n",
       "                   1.421581                    1.459595 \n",
       "      international_student           female_male_ratio \n",
       "                   3.005962                    1.594561 \n",
       "             teaching_score              research_score \n",
       "                   9.428611                    9.267245 \n",
       "            citations_score       industry_income_score \n",
       "                   1.616941                    1.537604 \n",
       "international_outlook_score \n",
       "                   3.125979 "
      ]
     },
     "metadata": {},
     "output_type": "display_data"
    }
   ],
   "source": [
    "# Main Developer: Kaichi\n",
    "vif(university_lm)"
   ]
  },
  {
   "cell_type": "markdown",
   "id": "5df9625b-5832-497e-a66d-2dc91d3ec121",
   "metadata": {},
   "source": [
    "Research score and teaching score have concerningly high variance inflation factors, indicating we should remove these variables from the model. However, upon closer inspection, the two variables are highly correlated to each other. Thus, removing the variable with the highest vif should suffice."
   ]
  },
  {
   "cell_type": "code",
   "execution_count": 10,
   "id": "226ff524-ea80-4f94-a059-49fbda49e6f4",
   "metadata": {},
   "outputs": [
    {
     "data": {
      "text/html": [
       "<style>\n",
       ".dl-inline {width: auto; margin:0; padding: 0}\n",
       ".dl-inline>dt, .dl-inline>dd {float: none; width: auto; display: inline-block}\n",
       ".dl-inline>dt::after {content: \":\\0020\"; padding-right: .5ex}\n",
       ".dl-inline>dt:not(:first-of-type) {padding-left: .5ex}\n",
       "</style><dl class=dl-inline><dt>no_of_student</dt><dd>1.3839670888683</dd><dt>no_of_student_per_staff</dt><dd>1.3889492352708</dd><dt>international_student</dt><dd>2.99945544485571</dd><dt>female_male_ratio</dt><dd>1.44659340604117</dd><dt>research_score</dt><dd>1.50052834105538</dd><dt>citations_score</dt><dd>1.58051215853554</dd><dt>industry_income_score</dt><dd>1.49800838045304</dd><dt>international_outlook_score</dt><dd>2.76520732419341</dd></dl>\n"
      ],
      "text/latex": [
       "\\begin{description*}\n",
       "\\item[no\\textbackslash{}\\_of\\textbackslash{}\\_student] 1.3839670888683\n",
       "\\item[no\\textbackslash{}\\_of\\textbackslash{}\\_student\\textbackslash{}\\_per\\textbackslash{}\\_staff] 1.3889492352708\n",
       "\\item[international\\textbackslash{}\\_student] 2.99945544485571\n",
       "\\item[female\\textbackslash{}\\_male\\textbackslash{}\\_ratio] 1.44659340604117\n",
       "\\item[research\\textbackslash{}\\_score] 1.50052834105538\n",
       "\\item[citations\\textbackslash{}\\_score] 1.58051215853554\n",
       "\\item[industry\\textbackslash{}\\_income\\textbackslash{}\\_score] 1.49800838045304\n",
       "\\item[international\\textbackslash{}\\_outlook\\textbackslash{}\\_score] 2.76520732419341\n",
       "\\end{description*}\n"
      ],
      "text/markdown": [
       "no_of_student\n",
       ":   1.3839670888683no_of_student_per_staff\n",
       ":   1.3889492352708international_student\n",
       ":   2.99945544485571female_male_ratio\n",
       ":   1.44659340604117research_score\n",
       ":   1.50052834105538citations_score\n",
       ":   1.58051215853554industry_income_score\n",
       ":   1.49800838045304international_outlook_score\n",
       ":   2.76520732419341\n",
       "\n"
      ],
      "text/plain": [
       "              no_of_student     no_of_student_per_staff \n",
       "                   1.383967                    1.388949 \n",
       "      international_student           female_male_ratio \n",
       "                   2.999455                    1.446593 \n",
       "             research_score             citations_score \n",
       "                   1.500528                    1.580512 \n",
       "      industry_income_score international_outlook_score \n",
       "                   1.498008                    2.765207 "
      ]
     },
     "metadata": {},
     "output_type": "display_data"
    }
   ],
   "source": [
    "# Main Developer: Kaichi\n",
    "\n",
    "teaching_removed_lm <- lm(overall_score ~ . - teaching_score, data = university_data_cleaned)\n",
    "vif(teaching_removed_lm)"
   ]
  },
  {
   "cell_type": "markdown",
   "id": "33572df2-e87b-4a29-9fb8-677588b6b758",
   "metadata": {},
   "source": [
    "However, using only the VIF may not result in the best fitted model; thus, we will use regularization techniques to select the best variables to include in our final model. Since this data has a large number of covariates where multicollinearity could potentially be an issue and we want to find the relevant variables with the highest association with `overall_score`, we will run Lasso regularization to select our varaiables for the final model. "
   ]
  },
  {
   "cell_type": "markdown",
   "id": "002c4926-0c0e-443e-83c6-610b3ae7d2ba",
   "metadata": {},
   "source": [
    "First we will standardize the training set so that an equal penalty is applied to all variables when running lasso."
   ]
  },
  {
   "cell_type": "code",
   "execution_count": 11,
   "id": "cee5f39c-6879-4886-95ba-2ed1c7defc9a",
   "metadata": {},
   "outputs": [
    {
     "data": {
      "text/html": [
       "<table class=\"dataframe\">\n",
       "<caption>A tibble: 6 × 10</caption>\n",
       "<thead>\n",
       "\t<tr><th scope=col>no_of_student</th><th scope=col>no_of_student_per_staff</th><th scope=col>international_student</th><th scope=col>female_male_ratio</th><th scope=col>overall_score</th><th scope=col>teaching_score</th><th scope=col>research_score</th><th scope=col>citations_score</th><th scope=col>industry_income_score</th><th scope=col>international_outlook_score</th></tr>\n",
       "\t<tr><th scope=col>&lt;dbl&gt;</th><th scope=col>&lt;dbl&gt;</th><th scope=col>&lt;dbl&gt;</th><th scope=col>&lt;dbl&gt;</th><th scope=col>&lt;dbl&gt;</th><th scope=col>&lt;dbl&gt;</th><th scope=col>&lt;dbl&gt;</th><th scope=col>&lt;dbl&gt;</th><th scope=col>&lt;dbl&gt;</th><th scope=col>&lt;dbl&gt;</th></tr>\n",
       "</thead>\n",
       "<tbody>\n",
       "\t<tr><td>-0.3983546</td><td>-0.5576823</td><td> 1.30517312</td><td>-0.5662087</td><td>96.4</td><td>2.285459</td><td>2.138132</td><td>1.1657643</td><td> 0.6875956</td><td>1.3080749</td></tr>\n",
       "\t<tr><td>-0.3360481</td><td>-0.6462550</td><td> 0.01285609</td><td>-0.3501393</td><td>95.2</td><td>2.438543</td><td>2.100368</td><td>1.1926635</td><td>-0.6435130</td><td>0.3976797</td></tr>\n",
       "\t<tr><td>-0.4510651</td><td>-0.4956814</td><td> 1.07711717</td><td>-0.6681283</td><td>94.8</td><td>2.199731</td><td>2.127342</td><td>0.9864362</td><td>-0.3972055</td><td>1.2848801</td></tr>\n",
       "\t<tr><td>-0.7227943</td><td>-0.8676867</td><td>-0.06316255</td><td>-0.7662730</td><td>94.8</td><td>2.401803</td><td>1.976287</td><td>1.2374955</td><td> 0.1687777</td><td>0.3570888</td></tr>\n",
       "\t<tr><td>-1.0437199</td><td>-0.7702567</td><td> 0.62100528</td><td>-1.2864402</td><td>94.2</td><td>2.187485</td><td>1.809048</td><td>1.2374955</td><td> 1.5260891</td><td>0.9079649</td></tr>\n",
       "\t<tr><td>-1.6639464</td><td>-0.9474021</td><td> 0.69702393</td><td>-1.5093690</td><td>94.1</td><td>2.199731</td><td>1.992472</td><td>1.0133354</td><td> 1.4684427</td><td>0.5774392</td></tr>\n",
       "</tbody>\n",
       "</table>\n"
      ],
      "text/latex": [
       "A tibble: 6 × 10\n",
       "\\begin{tabular}{llllllllll}\n",
       " no\\_of\\_student & no\\_of\\_student\\_per\\_staff & international\\_student & female\\_male\\_ratio & overall\\_score & teaching\\_score & research\\_score & citations\\_score & industry\\_income\\_score & international\\_outlook\\_score\\\\\n",
       " <dbl> & <dbl> & <dbl> & <dbl> & <dbl> & <dbl> & <dbl> & <dbl> & <dbl> & <dbl>\\\\\n",
       "\\hline\n",
       "\t -0.3983546 & -0.5576823 &  1.30517312 & -0.5662087 & 96.4 & 2.285459 & 2.138132 & 1.1657643 &  0.6875956 & 1.3080749\\\\\n",
       "\t -0.3360481 & -0.6462550 &  0.01285609 & -0.3501393 & 95.2 & 2.438543 & 2.100368 & 1.1926635 & -0.6435130 & 0.3976797\\\\\n",
       "\t -0.4510651 & -0.4956814 &  1.07711717 & -0.6681283 & 94.8 & 2.199731 & 2.127342 & 0.9864362 & -0.3972055 & 1.2848801\\\\\n",
       "\t -0.7227943 & -0.8676867 & -0.06316255 & -0.7662730 & 94.8 & 2.401803 & 1.976287 & 1.2374955 &  0.1687777 & 0.3570888\\\\\n",
       "\t -1.0437199 & -0.7702567 &  0.62100528 & -1.2864402 & 94.2 & 2.187485 & 1.809048 & 1.2374955 &  1.5260891 & 0.9079649\\\\\n",
       "\t -1.6639464 & -0.9474021 &  0.69702393 & -1.5093690 & 94.1 & 2.199731 & 1.992472 & 1.0133354 &  1.4684427 & 0.5774392\\\\\n",
       "\\end{tabular}\n"
      ],
      "text/markdown": [
       "\n",
       "A tibble: 6 × 10\n",
       "\n",
       "| no_of_student &lt;dbl&gt; | no_of_student_per_staff &lt;dbl&gt; | international_student &lt;dbl&gt; | female_male_ratio &lt;dbl&gt; | overall_score &lt;dbl&gt; | teaching_score &lt;dbl&gt; | research_score &lt;dbl&gt; | citations_score &lt;dbl&gt; | industry_income_score &lt;dbl&gt; | international_outlook_score &lt;dbl&gt; |\n",
       "|---|---|---|---|---|---|---|---|---|---|\n",
       "| -0.3983546 | -0.5576823 |  1.30517312 | -0.5662087 | 96.4 | 2.285459 | 2.138132 | 1.1657643 |  0.6875956 | 1.3080749 |\n",
       "| -0.3360481 | -0.6462550 |  0.01285609 | -0.3501393 | 95.2 | 2.438543 | 2.100368 | 1.1926635 | -0.6435130 | 0.3976797 |\n",
       "| -0.4510651 | -0.4956814 |  1.07711717 | -0.6681283 | 94.8 | 2.199731 | 2.127342 | 0.9864362 | -0.3972055 | 1.2848801 |\n",
       "| -0.7227943 | -0.8676867 | -0.06316255 | -0.7662730 | 94.8 | 2.401803 | 1.976287 | 1.2374955 |  0.1687777 | 0.3570888 |\n",
       "| -1.0437199 | -0.7702567 |  0.62100528 | -1.2864402 | 94.2 | 2.187485 | 1.809048 | 1.2374955 |  1.5260891 | 0.9079649 |\n",
       "| -1.6639464 | -0.9474021 |  0.69702393 | -1.5093690 | 94.1 | 2.199731 | 1.992472 | 1.0133354 |  1.4684427 | 0.5774392 |\n",
       "\n"
      ],
      "text/plain": [
       "  no_of_student no_of_student_per_staff international_student female_male_ratio\n",
       "1 -0.3983546    -0.5576823               1.30517312           -0.5662087       \n",
       "2 -0.3360481    -0.6462550               0.01285609           -0.3501393       \n",
       "3 -0.4510651    -0.4956814               1.07711717           -0.6681283       \n",
       "4 -0.7227943    -0.8676867              -0.06316255           -0.7662730       \n",
       "5 -1.0437199    -0.7702567               0.62100528           -1.2864402       \n",
       "6 -1.6639464    -0.9474021               0.69702393           -1.5093690       \n",
       "  overall_score teaching_score research_score citations_score\n",
       "1 96.4          2.285459       2.138132       1.1657643      \n",
       "2 95.2          2.438543       2.100368       1.1926635      \n",
       "3 94.8          2.199731       2.127342       0.9864362      \n",
       "4 94.8          2.401803       1.976287       1.2374955      \n",
       "5 94.2          2.187485       1.809048       1.2374955      \n",
       "6 94.1          2.199731       1.992472       1.0133354      \n",
       "  industry_income_score international_outlook_score\n",
       "1  0.6875956            1.3080749                  \n",
       "2 -0.6435130            0.3976797                  \n",
       "3 -0.3972055            1.2848801                  \n",
       "4  0.1687777            0.3570888                  \n",
       "5  1.5260891            0.9079649                  \n",
       "6  1.4684427            0.5774392                  "
      ]
     },
     "metadata": {},
     "output_type": "display_data"
    }
   ],
   "source": [
    "# Main Developer: Kaichi\n",
    "# Collaborator: Ayush (simplified)\n",
    "\n",
    "uni_standardized <- university_data_cleaned |>\n",
    "mutate(no_of_student = (no_of_student - mean(no_of_student)) / sd(no_of_student),\n",
    "       no_of_student_per_staff = (no_of_student_per_staff - mean(no_of_student_per_staff)) / sd(no_of_student_per_staff),\n",
    "       international_student = (international_student - mean(international_student)) / sd(international_student),\n",
    "       female_male_ratio = (female_male_ratio - mean(female_male_ratio)) / sd(female_male_ratio),\n",
    "       teaching_score = (teaching_score - mean(teaching_score)) / sd(teaching_score),\n",
    "       research_score = (research_score - mean(research_score)) / sd(research_score),\n",
    "       citations_score = (citations_score - mean(citations_score)) / sd(citations_score),\n",
    "       industry_income_score = (industry_income_score - mean(industry_income_score)) / sd(industry_income_score),\n",
    "       international_outlook_score = (international_outlook_score - mean(international_outlook_score)) / sd(international_outlook_score)\n",
    "       )\n",
    "head(uni_standardized)"
   ]
  },
  {
   "cell_type": "markdown",
   "id": "3d0f09ce-f18d-4662-b632-3ca85fa9911b",
   "metadata": {},
   "source": [
    "**Table 3:** The standardized dataset"
   ]
  },
  {
   "cell_type": "markdown",
   "id": "6e8f93cf-76ce-4f8b-bc79-0c1118998c6f",
   "metadata": {},
   "source": [
    "Next we will split our data into training (70%) and testing (30%) data."
   ]
  },
  {
   "cell_type": "code",
   "execution_count": 12,
   "id": "3e61fd25-385e-472d-80a2-b3f5b39eebd4",
   "metadata": {},
   "outputs": [],
   "source": [
    "# Main Developer: Kaichi\n",
    "# Collaborator: Ayush (Added seed)\n",
    "\n",
    "set.seed(1)\n",
    "data_split <- initial_split(uni_standardized, prop = 0.7) #splits the dataset into a 7:3 ratio\n",
    "uni_training <- training(data_split) #creates training data which includes 70% of original data\n",
    "uni_testing <- testing(data_split) #creates testing data which includes 30% of original data"
   ]
  },
  {
   "cell_type": "markdown",
   "id": "5c43fdcb-2587-49d5-93e8-dfe9ab58c250",
   "metadata": {},
   "source": [
    "Now we will run Lasso regularization on `uni_training` since the training data is used to train the model to fit the data and penalize large coefficients. By running lasso on the training data we will be able to find the value of the L1 penalty term ($\\lambda$) that provides the lowest cross-validation MSE."
   ]
  },
  {
   "cell_type": "code",
   "execution_count": 13,
   "id": "acdc921b-8f49-4049-81b8-42bd501fc3c8",
   "metadata": {},
   "outputs": [
    {
     "data": {
      "text/plain": [
       "\n",
       "Call:  cv.glmnet(x = as.matrix(select(uni_training, -overall_score)),      y = uni_training$overall_score, alpha = 1) \n",
       "\n",
       "Measure: Mean-Squared Error \n",
       "\n",
       "    Lambda Index Measure      SE Nonzero\n",
       "min 0.1649    46  0.1406 0.02488       5\n",
       "1se 0.1810    45  0.1625 0.02995       5"
      ]
     },
     "metadata": {},
     "output_type": "display_data"
    }
   ],
   "source": [
    "# Main Developer: Kaichi\n",
    "# Collaborator: Ayush (Debugged)\n",
    "\n",
    "#run the lasso regression on the training set\n",
    "uni_lasso <- cv.glmnet(uni_training |> select(-overall_score) |> as.matrix(), uni_training$overall_score, alpha=1)\n",
    "uni_lasso"
   ]
  },
  {
   "cell_type": "markdown",
   "id": "6e78fb1a-4da4-4f09-8eba-eafee4b98314",
   "metadata": {},
   "source": [
    "**Table 4:** The results of the lasso regression"
   ]
  },
  {
   "cell_type": "markdown",
   "id": "32dff110-de78-4375-a0dc-af7923e378e8",
   "metadata": {},
   "source": [
    "Now that we ran the model, we will extract the coefficients of the model with the lowest cross-validation MSE and the names of the covariates."
   ]
  },
  {
   "cell_type": "code",
   "execution_count": 14,
   "id": "5c976dc9-9448-42e3-99ad-ea74f6edbad7",
   "metadata": {},
   "outputs": [
    {
     "data": {
      "text/plain": [
       "10 x 1 sparse Matrix of class \"dgCMatrix\"\n",
       "                                    s1\n",
       "(Intercept)                 67.3872908\n",
       "no_of_student                .        \n",
       "no_of_student_per_staff      .        \n",
       "international_student        .        \n",
       "female_male_ratio            .        \n",
       "teaching_score               4.5351661\n",
       "research_score               5.8463406\n",
       "citations_score              3.2012634\n",
       "industry_income_score        0.2329708\n",
       "international_outlook_score  1.0858038"
      ]
     },
     "metadata": {},
     "output_type": "display_data"
    }
   ],
   "source": [
    "# Main Developer: Kaichi\n",
    "lasso_coef <- coef(uni_lasso, s = uni_lasso$lambda.min)\n",
    "lasso_coef"
   ]
  },
  {
   "cell_type": "markdown",
   "id": "6920e819-cc4f-4aaf-9fd2-22477f78edd8",
   "metadata": {},
   "source": [
    "**Table 5**: Coefficients of Model with Lowest MSE"
   ]
  },
  {
   "cell_type": "code",
   "execution_count": 15,
   "id": "54daaefe-e248-4a2d-8d21-6bc1747aa826",
   "metadata": {},
   "outputs": [
    {
     "data": {
      "text/html": [
       "<style>\n",
       ".list-inline {list-style: none; margin:0; padding: 0}\n",
       ".list-inline>li {display: inline-block}\n",
       ".list-inline>li:not(:last-child)::after {content: \"\\00b7\"; padding: 0 .5ex}\n",
       "</style>\n",
       "<ol class=list-inline><li>'teaching_score'</li><li>'research_score'</li><li>'citations_score'</li><li>'industry_income_score'</li><li>'international_outlook_score'</li></ol>\n"
      ],
      "text/latex": [
       "\\begin{enumerate*}\n",
       "\\item 'teaching\\_score'\n",
       "\\item 'research\\_score'\n",
       "\\item 'citations\\_score'\n",
       "\\item 'industry\\_income\\_score'\n",
       "\\item 'international\\_outlook\\_score'\n",
       "\\end{enumerate*}\n"
      ],
      "text/markdown": [
       "1. 'teaching_score'\n",
       "2. 'research_score'\n",
       "3. 'citations_score'\n",
       "4. 'industry_income_score'\n",
       "5. 'international_outlook_score'\n",
       "\n",
       "\n"
      ],
      "text/plain": [
       "[1] \"teaching_score\"              \"research_score\"             \n",
       "[3] \"citations_score\"             \"industry_income_score\"      \n",
       "[5] \"international_outlook_score\""
      ]
     },
     "metadata": {},
     "output_type": "display_data"
    }
   ],
   "source": [
    "# Main Developer: Kaichi\n",
    "\n",
    "#obtain the selected covariates\n",
    "lasso_selected_covariates <-\n",
    "    as_tibble(\n",
    "        as.matrix(lasso_coef),\n",
    "        rownames='covariate') |>\n",
    "        filter(covariate != '(Intercept)' & abs(s1) !=0) |>\n",
    "        pull(covariate)\n",
    "lasso_selected_covariates"
   ]
  },
  {
   "cell_type": "markdown",
   "id": "0d76830b-29f2-42f4-a8f9-92efab479c37",
   "metadata": {},
   "source": [
    "Lasso regression should remove variables with high multicollinearity and is able to fit models on datasets with high multicollinearity. To verify this, we will check the variance inflation factor (VIF) of the lasso model"
   ]
  },
  {
   "cell_type": "code",
   "execution_count": 16,
   "id": "94151849-5397-45b9-8e59-1438cae271b7",
   "metadata": {},
   "outputs": [
    {
     "data": {
      "text/html": [
       "<style>\n",
       ".dl-inline {width: auto; margin:0; padding: 0}\n",
       ".dl-inline>dt, .dl-inline>dd {float: none; width: auto; display: inline-block}\n",
       ".dl-inline>dt::after {content: \":\\0020\"; padding-right: .5ex}\n",
       ".dl-inline>dt:not(:first-of-type) {padding-left: .5ex}\n",
       "</style><dl class=dl-inline><dt>teaching_score</dt><dd>6.94246700734387</dd><dt>research_score</dt><dd>7.23487401755478</dd><dt>citations_score</dt><dd>1.31054567864322</dd><dt>industry_income_score</dt><dd>1.32246607062572</dd><dt>international_outlook_score</dt><dd>1.40333794989833</dd></dl>\n"
      ],
      "text/latex": [
       "\\begin{description*}\n",
       "\\item[teaching\\textbackslash{}\\_score] 6.94246700734387\n",
       "\\item[research\\textbackslash{}\\_score] 7.23487401755478\n",
       "\\item[citations\\textbackslash{}\\_score] 1.31054567864322\n",
       "\\item[industry\\textbackslash{}\\_income\\textbackslash{}\\_score] 1.32246607062572\n",
       "\\item[international\\textbackslash{}\\_outlook\\textbackslash{}\\_score] 1.40333794989833\n",
       "\\end{description*}\n"
      ],
      "text/markdown": [
       "teaching_score\n",
       ":   6.94246700734387research_score\n",
       ":   7.23487401755478citations_score\n",
       ":   1.31054567864322industry_income_score\n",
       ":   1.32246607062572international_outlook_score\n",
       ":   1.40333794989833\n",
       "\n"
      ],
      "text/plain": [
       "             teaching_score              research_score \n",
       "                   6.942467                    7.234874 \n",
       "            citations_score       industry_income_score \n",
       "                   1.310546                    1.322466 \n",
       "international_outlook_score \n",
       "                   1.403338 "
      ]
     },
     "metadata": {},
     "output_type": "display_data"
    }
   ],
   "source": [
    "# Main Developer: Kaichi\n",
    "\n",
    "lasso_vif <- vif(lm(overall_score ~ . , data = uni_training |>\n",
    "        select(contains(lasso_selected_covariates), overall_score)))\n",
    "lasso_vif"
   ]
  },
  {
   "cell_type": "markdown",
   "id": "e832340c-60e2-4a1d-a0d2-551205a23b69",
   "metadata": {},
   "source": [
    "Most of the variables selected in this model have low vif values indicating there is no issue of multicollinearity. However, `teaching_score` and `reasearch_score` both have high vif values which point to multicollinearity. Despite the high multicollinearity, the model could still be effective since lasso regression includeds variables that have high multicollinearity if they contribute significantly to the model. To verify the effectiveness of the model, we will fit an oridinary least squares model with the lasso selected variables and evaluate the $R^2$ value to determine the models effectiveness. To fit the OLS we will use the testing data which was kept separate from the training process as it provides an unbiased evaluation when comparing different models and a measure of how well the model does on unseen data. "
   ]
  },
  {
   "cell_type": "code",
   "execution_count": 17,
   "id": "909eef42-2011-4f6f-a95a-cc3112436d7a",
   "metadata": {},
   "outputs": [
    {
     "data": {
      "text/plain": [
       "\n",
       "Call:\n",
       "lm(formula = overall_score ~ ., data = select(uni_testing, contains(lasso_selected_covariates), \n",
       "    overall_score))\n",
       "\n",
       "Residuals:\n",
       "      Min        1Q    Median        3Q       Max \n",
       "-0.063792 -0.022312 -0.000363  0.027356  0.062368 \n",
       "\n",
       "Coefficients:\n",
       "                             Estimate Std. Error  t value Pr(>|t|)    \n",
       "(Intercept)                 67.384581   0.005415 12444.53   <2e-16 ***\n",
       "teaching_score               4.888486   0.015168   322.28   <2e-16 ***\n",
       "research_score               5.567482   0.015678   355.11   <2e-16 ***\n",
       "citations_score              3.349393   0.006508   514.65   <2e-16 ***\n",
       "industry_income_score        0.471453   0.005528    85.29   <2e-16 ***\n",
       "international_outlook_score  1.298947   0.006789   191.33   <2e-16 ***\n",
       "---\n",
       "Signif. codes:  0 ‘***’ 0.001 ‘**’ 0.01 ‘*’ 0.05 ‘.’ 0.1 ‘ ’ 1\n",
       "\n",
       "Residual standard error: 0.03433 on 35 degrees of freedom\n",
       "Multiple R-squared:      1,\tAdjusted R-squared:      1 \n",
       "F-statistic: 9.825e+05 on 5 and 35 DF,  p-value: < 2.2e-16\n"
      ]
     },
     "metadata": {},
     "output_type": "display_data"
    }
   ],
   "source": [
    "# Main Developer: Kaichi\n",
    "\n",
    "#fit OLS model using lasso selected covariates\n",
    "lasso_cov_model <- lm(overall_score ~ ., data = uni_testing |> select(contains(lasso_selected_covariates), overall_score))\n",
    "summary(lasso_cov_model)"
   ]
  },
  {
   "cell_type": "markdown",
   "id": "dcd436c5-56cc-46c7-ba52-a553e835dc24",
   "metadata": {},
   "source": [
    "**Table 6**: Summary of OLS Model Using Lasso Selected Variables"
   ]
  },
  {
   "cell_type": "markdown",
   "id": "2a1a96fb-17bd-4fd8-88d1-84f48461390d",
   "metadata": {},
   "source": [
    "We will now compare it to the full OLS model."
   ]
  },
  {
   "cell_type": "code",
   "execution_count": 18,
   "id": "d14e2fca-2cbe-4d1d-aa04-068de0ab45ab",
   "metadata": {},
   "outputs": [
    {
     "data": {
      "text/plain": [
       "\n",
       "Call:\n",
       "lm(formula = overall_score ~ ., data = uni_testing)\n",
       "\n",
       "Residuals:\n",
       "      Min        1Q    Median        3Q       Max \n",
       "-0.048367 -0.015832 -0.001447  0.016559  0.058282 \n",
       "\n",
       "Coefficients:\n",
       "                             Estimate Std. Error   t value Pr(>|t|)    \n",
       "(Intercept)                 67.386159   0.004917 13704.502   <2e-16 ***\n",
       "no_of_student               -0.001181   0.007688    -0.154   0.8789    \n",
       "no_of_student_per_staff      0.003751   0.006970     0.538   0.5943    \n",
       "international_student        0.023697   0.011845     2.000   0.0543 .  \n",
       "female_male_ratio           -0.016696   0.007190    -2.322   0.0270 *  \n",
       "teaching_score               4.879402   0.015420   316.439   <2e-16 ***\n",
       "research_score               5.569986   0.016572   336.101   <2e-16 ***\n",
       "citations_score              3.351905   0.007552   443.841   <2e-16 ***\n",
       "industry_income_score        0.469835   0.005861    80.161   <2e-16 ***\n",
       "international_outlook_score  1.279536   0.010745   119.086   <2e-16 ***\n",
       "---\n",
       "Signif. codes:  0 ‘***’ 0.001 ‘**’ 0.01 ‘*’ 0.05 ‘.’ 0.1 ‘ ’ 1\n",
       "\n",
       "Residual standard error: 0.03062 on 31 degrees of freedom\n",
       "Multiple R-squared:      1,\tAdjusted R-squared:      1 \n",
       "F-statistic: 6.862e+05 on 9 and 31 DF,  p-value: < 2.2e-16\n"
      ]
     },
     "metadata": {},
     "output_type": "display_data"
    }
   ],
   "source": [
    "summary(lm(overall_score ~., data = uni_testing))"
   ]
  },
  {
   "cell_type": "markdown",
   "id": "c1507336-fe47-417b-b4b2-510c1ab3efda",
   "metadata": {},
   "source": [
    "**Table 7**: Summary of Full OLS Model"
   ]
  },
  {
   "cell_type": "markdown",
   "id": "3f8bb3b3-c0bd-4362-bf1f-fd7b34074ca1",
   "metadata": {},
   "source": [
    "The adjusted $R^2$ in the full model is the same as the model with the lasso selected variables which implies that both the full model and model with lasso selected variables explain the variance `overall_score` equally than the model with both of the $R^2$ being 1. The $R^2$ being 1 implies that both models perfectly explain the variance of `overall_score`. Since the $R^2$ between the full model and lasso model was relatively the same, it justifies the variables selected with the lasso model since it implies that the variables removed did not make a significant impact to the models ability to explain the variance in `overall_score`. This result is also consistent with the result of the $p$-values in the full model as the variables that were removed in the lasso regression are also shown as insignificant in the full model."
   ]
  },
  {
   "cell_type": "markdown",
   "id": "362e2d69-7720-49a1-b637-40340c89d76e",
   "metadata": {},
   "source": [
    "If we were to write this model as a formula, it would be\n",
    "$$\\hat Y = 67.3846 + 4.8885x_t + 5.5675x_r + 3.3494x_c + 0.4715x_i + 1.2989x_o$$\n",
    "where $Y$ is the overall score of a university, $x_t$ is the teaching score, $x_r$ is the research score, $x_c$ is the citations score, $x_i$ is the industry income score, and $x_o$ is the international outlook score."
   ]
  },
  {
   "cell_type": "markdown",
   "id": "bca1ffd6-88fb-4a95-a221-3548a8703033",
   "metadata": {},
   "source": [
    "The formula implies that for an increase of 1 in the teaching score, the expected increase in overall score is 4.8885 holding on other variables constant. Similaraly, for an increase in research score by 1, the expected increase in overall score is 5.5675. This will be the same for the rest of the covariates. Since the values of the covariates are centered in this case, the intercept value 67.3846 is the expected value of the overall score when all covariates are at their mean values."
   ]
  },
  {
   "cell_type": "markdown",
   "id": "f17da039-93fe-4a4a-9390-af3560765555",
   "metadata": {},
   "source": [
    "## 3. Discussion"
   ]
  },
  {
   "cell_type": "markdown",
   "id": "b374731a-33a2-4c43-b428-bc8f9562c798",
   "metadata": {},
   "source": [
    "Looking at the model above, it appears that the most important metrics for determining a university's overall score is their specific scores in other metrics, including teaching, research, citations, industry income, and international outlook. Other metrics such as the number of students per staff, male to female ratio, and international student rate are less important here. Using the model formula above, we can also determine which of the scores are most important for determining a university's overall score. Research score seems to be the most important, followed by teaching score, citation score, international outlook score, and finally industry income score."
   ]
  },
  {
   "cell_type": "markdown",
   "id": "97062ac0-2231-4ffe-bf78-59413c4c030e",
   "metadata": {},
   "source": [
    "The information collected here aligns with current research on the topic as well. When looking at the paper by Lukman et al. mentioned above, they conclude that three of the primary indicators of university rankings include, in order of priority, research performance, educational performance, and environmental performance. Although we do not have an environmental score in our model, we can see that they also see that a stronger prowess in research is correlated to a higher overall ranking, compared to a stronger teaching score."
   ]
  },
  {
   "cell_type": "markdown",
   "id": "f481a08a-8c49-401c-91cd-4398d1645983",
   "metadata": {},
   "source": [
    "The paper by Anowar et al. mentioned above describe many metrics that can help determine a university's ranking, such as peer opinion, international score, citations, employer reputation, and visibility. However, they group these topics into one of two categories: research and education. Anowar et al. show that the three other scores we have (citation, international outlook, and industry outcome) can be grouped in with the other two scores. Citation and industry outcome can be added to the research score with high weightage, while the international outlook can be added to the research score with a smaller weightage."
   ]
  },
  {
   "cell_type": "markdown",
   "id": "006afb84-384a-40bd-a675-f23d869f7700",
   "metadata": {},
   "source": [
    "Based on that paper, we can start looking at other possible questions to answer. Firstly, how can we incorporate some of our metrics, such as citation score and industry outcome score, into current variables, such as research score? This can possibly be done using a weighted average, but we would need to explore how to weigh it fairly. If we are able to do so, we can simplify our model further, as there would be less parameters. Another question is, if we were to use some of the ommited metrics, such as location, could we create a new, more accurate model? We could possibly group each country in the `location` column by continent, and possibly explore trends (are North America schools higher rated than Africa schools, for example)."
   ]
  },
  {
   "cell_type": "markdown",
   "id": "e3f93615-a47d-4c61-9678-d4fb817ef002",
   "metadata": {},
   "source": [
    "One way that our model could potentially be improved is exploring interaction terms. Although it would not make much sense in the context, we can explore how different interaction terms between variables would fit into our model. If there is a benefit to adding them, we would have a more accurate model. Looking at figure 3, the pairwise plot, we can see that some of the variables, such as the citations score, have a non-linear relationship with overall score. It would be beneficial to account for this by applying a transformation in the variable. Doing so would increase the linearity in the model. We would have to experiment to see what transformation would be the best for the model."
   ]
  },
  {
   "cell_type": "markdown",
   "id": "60ce3ae4-9d1b-41f7-8e53-da9d23694317",
   "metadata": {},
   "source": [
    "## 4. References"
   ]
  },
  {
   "cell_type": "markdown",
   "id": "89c91cb0-d672-4cd8-8950-264a48003862",
   "metadata": {},
   "source": [
    "\n",
    "Anowar, F., Helal, M. A., Afroj, S., Sultana, S., Sarker, F., & Mamun, K. A. (2014). A Critical Review on World University Ranking in Terms of Top Four Ranking Systems. *Lecture Notes in Electrical Engineering*, 559–566. https://doi.org/10.1007/978-3-319-06764-3_72 \n",
    "\n",
    "Lukman, R., Krajnc, D., & Glavič, P. (2010). University ranking using research, educational and environmental indicators. *Journal of Cleaner Production*, 18(7), 619–628. https://doi.org/10.1016/j.jclepro.2009.09.015 \n",
    "\n",
    "*World University Rankings 2023*. (2023, August 31). Kaggle. https://www.kaggle.com/datasets/alitaqi000/world-university-rankings-2023"
   ]
  }
 ],
 "metadata": {
  "kernelspec": {
   "display_name": "R",
   "language": "R",
   "name": "ir"
  },
  "language_info": {
   "codemirror_mode": "r",
   "file_extension": ".r",
   "mimetype": "text/x-r-source",
   "name": "R",
   "pygments_lexer": "r",
   "version": "4.3.1"
  }
 },
 "nbformat": 4,
 "nbformat_minor": 5
}
