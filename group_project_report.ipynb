{
 "cells": [
  {
   "cell_type": "markdown",
   "id": "c3eade57-dce7-4a4e-8f46-6eb5ab5d6489",
   "metadata": {},
   "source": [
    "# World University Rankings 2023 #"
   ]
  },
  {
   "cell_type": "markdown",
   "id": "353d8e3b-4c8a-4f90-a781-895daebda60b",
   "metadata": {},
   "source": [
    "## STAT 301 Group Project "
   ]
  },
  {
   "cell_type": "markdown",
   "id": "2ffd0964-29ee-4701-953b-697c59d20644",
   "metadata": {},
   "source": [
    "### Introduction"
   ]
  },
  {
   "cell_type": "markdown",
   "id": "7be4e065-9271-4f9b-8bf1-a0ad8f8109b7",
   "metadata": {},
   "source": [
    "Start with relevant background information on the topic to prepare those unfamiliar for the rest of your proposal.\n",
    "\n",
    "Formulate one or two questions for investigation and detail the dataset that will be utilized to address these questions.\n",
    "\n",
    "Additionally, align your question/objectives with the existing literature. To contextualize your study, include a minimum of two scientific publications (these should be listed in the References section).\n",
    "\n"
   ]
  },
  {
   "cell_type": "markdown",
   "id": "904f27c0-e93f-421b-a673-d3554ea3a70f",
   "metadata": {},
   "source": [
    "### Methods and Results"
   ]
  },
  {
   "cell_type": "markdown",
   "id": "a0066357-63bf-4aef-ac6d-3975b7b4722d",
   "metadata": {},
   "source": [
    "In this section, you will include:\n",
    "\n",
    "**a) “Exploratory Data Analysis (EDA)”**\n",
    "\n",
    "- Demonstrate that the dataset can be read into R.\n",
    "- Clean and wrangle your data into a tidy format.\n",
    "- Plot the relevant raw data, tailoring your plot to address your question.\n",
    "  - Make sure to explore the association of the explanatory variables with the response.\n",
    "- Any summary tables that are relevant to your analysis.\n",
    "- Be sure not to print output that takes up a lot of screen space.\n",
    "- Your EDA must be comprehensive with high quality plots.\n",
    "\n",
    "**b) “Methods: Plan”**\n",
    "\n",
    "- Describe in written English the methods you used to perform your analysis from beginning to end, and narrate the code that does the analysis.\n",
    "- If included, describe the “Feature Selection” process and how and why you choose the covariates of your final model.\n",
    "- Make sure to interpret/explain the results you obtain. It’s not enough to just say, “I fitted a linear model with these covariates, and my R-square is 0.87”.\n",
    "  - If inference is the aim of your project, a detailed interpretation of your fitted model is required, as well as a discussion of relevant quantities (e.g., are the coefficients significant? How does the model fit the data)?\n",
    "  - A careful model assessment must be conducted.\n",
    "  - If prediction is the project's aim, describe the test data used or how it was created.\n",
    "- Ensure your tables and/or figures are labelled with a figure/table number."
   ]
  },
  {
   "cell_type": "code",
   "execution_count": 6,
   "id": "6bc7ae89-e99c-4fd6-85d5-e1cf8f02640e",
   "metadata": {},
   "outputs": [],
   "source": [
    "library(tidyverse)\n",
    "library(repr)\n",
    "library(broom)\n",
    "library(GGally)\n",
    "library(car)\n",
    "library(rsample)\n",
    "library(leaps)\n",
    "library(glmnet)"
   ]
  },
  {
   "cell_type": "code",
   "execution_count": 95,
   "id": "36ea1a05-8099-4811-8e93-a3e5b56d9dd5",
   "metadata": {},
   "outputs": [
    {
     "name": "stderr",
     "output_type": "stream",
     "text": [
      "\u001b[1mRows: \u001b[22m\u001b[34m2341\u001b[39m \u001b[1mColumns: \u001b[22m\u001b[34m13\u001b[39m\n",
      "\u001b[36m──\u001b[39m \u001b[1mColumn specification\u001b[22m \u001b[36m────────────────────────────────────────────────────────\u001b[39m\n",
      "\u001b[1mDelimiter:\u001b[22m \",\"\n",
      "\u001b[31mchr\u001b[39m (11): University Rank, Name of University, Location, International Stude...\n",
      "\u001b[32mdbl\u001b[39m  (1): No of student per staff\n",
      "\u001b[32mnum\u001b[39m  (1): No of student\n",
      "\n",
      "\u001b[36mℹ\u001b[39m Use `spec()` to retrieve the full column specification for this data.\n",
      "\u001b[36mℹ\u001b[39m Specify the column types or set `show_col_types = FALSE` to quiet this message.\n"
     ]
    },
    {
     "data": {
      "text/html": [
       "<table class=\"dataframe\">\n",
       "<caption>A tibble: 6 × 13</caption>\n",
       "<thead>\n",
       "\t<tr><th scope=col>university_rank</th><th scope=col>name_of_university</th><th scope=col>location</th><th scope=col>no_of_student</th><th scope=col>no_of_student_per_staff</th><th scope=col>international_student</th><th scope=col>female_male_ratio</th><th scope=col>overall_score</th><th scope=col>teaching_score</th><th scope=col>research_score</th><th scope=col>citations_score</th><th scope=col>industry_income_score</th><th scope=col>international_outlook_score</th></tr>\n",
       "\t<tr><th scope=col>&lt;chr&gt;</th><th scope=col>&lt;chr&gt;</th><th scope=col>&lt;chr&gt;</th><th scope=col>&lt;dbl&gt;</th><th scope=col>&lt;dbl&gt;</th><th scope=col>&lt;chr&gt;</th><th scope=col>&lt;chr&gt;</th><th scope=col>&lt;chr&gt;</th><th scope=col>&lt;chr&gt;</th><th scope=col>&lt;chr&gt;</th><th scope=col>&lt;chr&gt;</th><th scope=col>&lt;chr&gt;</th><th scope=col>&lt;chr&gt;</th></tr>\n",
       "</thead>\n",
       "<tbody>\n",
       "\t<tr><td>1</td><td>University of Oxford                 </td><td>United Kingdom</td><td>20965</td><td>10.6</td><td>42%</td><td>48 : 52</td><td>96.4</td><td>92.3</td><td>99.7</td><td>99.0</td><td>74.9</td><td>96.2</td></tr>\n",
       "\t<tr><td>2</td><td>Harvard University                   </td><td>United States </td><td>21887</td><td> 9.6</td><td>25%</td><td>50 : 50</td><td>95.2</td><td>94.8</td><td>99.0</td><td>99.3</td><td>49.5</td><td>80.5</td></tr>\n",
       "\t<tr><td>3</td><td>University of Cambridge              </td><td>United Kingdom</td><td>20185</td><td>11.3</td><td>39%</td><td>47 : 53</td><td>94.8</td><td>90.9</td><td>99.5</td><td>97.0</td><td>54.2</td><td>95.8</td></tr>\n",
       "\t<tr><td>3</td><td>Stanford University                  </td><td>United States </td><td>16164</td><td> 7.1</td><td>24%</td><td>46 : 54</td><td>94.8</td><td>94.2</td><td>96.7</td><td>99.8</td><td>65.0</td><td>79.8</td></tr>\n",
       "\t<tr><td>5</td><td>Massachusetts Institute of Technology</td><td>United States </td><td>11415</td><td> 8.2</td><td>33%</td><td>40 : 60</td><td>94.2</td><td>90.7</td><td>93.6</td><td>99.8</td><td>90.9</td><td>89.3</td></tr>\n",
       "\t<tr><td>6</td><td>California Institute of Technology   </td><td>United States </td><td> 2237</td><td> 6.2</td><td>34%</td><td>37 : 63</td><td>94.1</td><td>90.9</td><td>97.0</td><td>97.3</td><td>89.8</td><td>83.6</td></tr>\n",
       "</tbody>\n",
       "</table>\n"
      ],
      "text/latex": [
       "A tibble: 6 × 13\n",
       "\\begin{tabular}{lllllllllllll}\n",
       " university\\_rank & name\\_of\\_university & location & no\\_of\\_student & no\\_of\\_student\\_per\\_staff & international\\_student & female\\_male\\_ratio & overall\\_score & teaching\\_score & research\\_score & citations\\_score & industry\\_income\\_score & international\\_outlook\\_score\\\\\n",
       " <chr> & <chr> & <chr> & <dbl> & <dbl> & <chr> & <chr> & <chr> & <chr> & <chr> & <chr> & <chr> & <chr>\\\\\n",
       "\\hline\n",
       "\t 1 & University of Oxford                  & United Kingdom & 20965 & 10.6 & 42\\% & 48 : 52 & 96.4 & 92.3 & 99.7 & 99.0 & 74.9 & 96.2\\\\\n",
       "\t 2 & Harvard University                    & United States  & 21887 &  9.6 & 25\\% & 50 : 50 & 95.2 & 94.8 & 99.0 & 99.3 & 49.5 & 80.5\\\\\n",
       "\t 3 & University of Cambridge               & United Kingdom & 20185 & 11.3 & 39\\% & 47 : 53 & 94.8 & 90.9 & 99.5 & 97.0 & 54.2 & 95.8\\\\\n",
       "\t 3 & Stanford University                   & United States  & 16164 &  7.1 & 24\\% & 46 : 54 & 94.8 & 94.2 & 96.7 & 99.8 & 65.0 & 79.8\\\\\n",
       "\t 5 & Massachusetts Institute of Technology & United States  & 11415 &  8.2 & 33\\% & 40 : 60 & 94.2 & 90.7 & 93.6 & 99.8 & 90.9 & 89.3\\\\\n",
       "\t 6 & California Institute of Technology    & United States  &  2237 &  6.2 & 34\\% & 37 : 63 & 94.1 & 90.9 & 97.0 & 97.3 & 89.8 & 83.6\\\\\n",
       "\\end{tabular}\n"
      ],
      "text/markdown": [
       "\n",
       "A tibble: 6 × 13\n",
       "\n",
       "| university_rank &lt;chr&gt; | name_of_university &lt;chr&gt; | location &lt;chr&gt; | no_of_student &lt;dbl&gt; | no_of_student_per_staff &lt;dbl&gt; | international_student &lt;chr&gt; | female_male_ratio &lt;chr&gt; | overall_score &lt;chr&gt; | teaching_score &lt;chr&gt; | research_score &lt;chr&gt; | citations_score &lt;chr&gt; | industry_income_score &lt;chr&gt; | international_outlook_score &lt;chr&gt; |\n",
       "|---|---|---|---|---|---|---|---|---|---|---|---|---|\n",
       "| 1 | University of Oxford                  | United Kingdom | 20965 | 10.6 | 42% | 48 : 52 | 96.4 | 92.3 | 99.7 | 99.0 | 74.9 | 96.2 |\n",
       "| 2 | Harvard University                    | United States  | 21887 |  9.6 | 25% | 50 : 50 | 95.2 | 94.8 | 99.0 | 99.3 | 49.5 | 80.5 |\n",
       "| 3 | University of Cambridge               | United Kingdom | 20185 | 11.3 | 39% | 47 : 53 | 94.8 | 90.9 | 99.5 | 97.0 | 54.2 | 95.8 |\n",
       "| 3 | Stanford University                   | United States  | 16164 |  7.1 | 24% | 46 : 54 | 94.8 | 94.2 | 96.7 | 99.8 | 65.0 | 79.8 |\n",
       "| 5 | Massachusetts Institute of Technology | United States  | 11415 |  8.2 | 33% | 40 : 60 | 94.2 | 90.7 | 93.6 | 99.8 | 90.9 | 89.3 |\n",
       "| 6 | California Institute of Technology    | United States  |  2237 |  6.2 | 34% | 37 : 63 | 94.1 | 90.9 | 97.0 | 97.3 | 89.8 | 83.6 |\n",
       "\n"
      ],
      "text/plain": [
       "  university_rank name_of_university                    location      \n",
       "1 1               University of Oxford                  United Kingdom\n",
       "2 2               Harvard University                    United States \n",
       "3 3               University of Cambridge               United Kingdom\n",
       "4 3               Stanford University                   United States \n",
       "5 5               Massachusetts Institute of Technology United States \n",
       "6 6               California Institute of Technology    United States \n",
       "  no_of_student no_of_student_per_staff international_student female_male_ratio\n",
       "1 20965         10.6                    42%                   48 : 52          \n",
       "2 21887          9.6                    25%                   50 : 50          \n",
       "3 20185         11.3                    39%                   47 : 53          \n",
       "4 16164          7.1                    24%                   46 : 54          \n",
       "5 11415          8.2                    33%                   40 : 60          \n",
       "6  2237          6.2                    34%                   37 : 63          \n",
       "  overall_score teaching_score research_score citations_score\n",
       "1 96.4          92.3           99.7           99.0           \n",
       "2 95.2          94.8           99.0           99.3           \n",
       "3 94.8          90.9           99.5           97.0           \n",
       "4 94.8          94.2           96.7           99.8           \n",
       "5 94.2          90.7           93.6           99.8           \n",
       "6 94.1          90.9           97.0           97.3           \n",
       "  industry_income_score international_outlook_score\n",
       "1 74.9                  96.2                       \n",
       "2 49.5                  80.5                       \n",
       "3 54.2                  95.8                       \n",
       "4 65.0                  79.8                       \n",
       "5 90.9                  89.3                       \n",
       "6 89.8                  83.6                       "
      ]
     },
     "metadata": {},
     "output_type": "display_data"
    },
    {
     "name": "stderr",
     "output_type": "stream",
     "text": [
      "Warning message:\n",
      "“\u001b[1m\u001b[22mThere were 8 warnings in `mutate()`.\n",
      "The first warning was:\n",
      "\u001b[1m\u001b[22m\u001b[36mℹ\u001b[39m In argument: `overall_score = ifelse(...)`.\n",
      "Caused by warning in `apply()`:\n",
      "\u001b[33m!\u001b[39m NAs introduced by coercion\n",
      "\u001b[1m\u001b[22m\u001b[36mℹ\u001b[39m Run `dplyr::last_dplyr_warnings()` to see the 7 remaining warnings.”\n"
     ]
    },
    {
     "data": {
      "text/html": [
       "1481"
      ],
      "text/latex": [
       "1481"
      ],
      "text/markdown": [
       "1481"
      ],
      "text/plain": [
       "[1] 1481"
      ]
     },
     "metadata": {},
     "output_type": "display_data"
    },
    {
     "data": {
      "text/html": [
       "<table class=\"dataframe\">\n",
       "<caption>A tibble: 6 × 13</caption>\n",
       "<thead>\n",
       "\t<tr><th scope=col>university_rank</th><th scope=col>name_of_university</th><th scope=col>location</th><th scope=col>no_of_student</th><th scope=col>no_of_student_per_staff</th><th scope=col>international_student</th><th scope=col>female_male_ratio</th><th scope=col>overall_score</th><th scope=col>teaching_score</th><th scope=col>research_score</th><th scope=col>citations_score</th><th scope=col>industry_income_score</th><th scope=col>international_outlook_score</th></tr>\n",
       "\t<tr><th scope=col>&lt;chr&gt;</th><th scope=col>&lt;chr&gt;</th><th scope=col>&lt;chr&gt;</th><th scope=col>&lt;dbl&gt;</th><th scope=col>&lt;dbl&gt;</th><th scope=col>&lt;dbl&gt;</th><th scope=col>&lt;dbl&gt;</th><th scope=col>&lt;dbl&gt;</th><th scope=col>&lt;dbl&gt;</th><th scope=col>&lt;dbl&gt;</th><th scope=col>&lt;dbl&gt;</th><th scope=col>&lt;dbl&gt;</th><th scope=col>&lt;dbl&gt;</th></tr>\n",
       "</thead>\n",
       "<tbody>\n",
       "\t<tr><td>1</td><td>University of Oxford                 </td><td>United Kingdom</td><td>20965</td><td>10.6</td><td>0.42</td><td>0.9230769</td><td>96.4</td><td>92.3</td><td>99.7</td><td>99.0</td><td>74.9</td><td>96.2</td></tr>\n",
       "\t<tr><td>2</td><td>Harvard University                   </td><td>United States </td><td>21887</td><td> 9.6</td><td>0.25</td><td>1.0000000</td><td>95.2</td><td>94.8</td><td>99.0</td><td>99.3</td><td>49.5</td><td>80.5</td></tr>\n",
       "\t<tr><td>3</td><td>University of Cambridge              </td><td>United Kingdom</td><td>20185</td><td>11.3</td><td>0.39</td><td>0.8867925</td><td>94.8</td><td>90.9</td><td>99.5</td><td>97.0</td><td>54.2</td><td>95.8</td></tr>\n",
       "\t<tr><td>3</td><td>Stanford University                  </td><td>United States </td><td>16164</td><td> 7.1</td><td>0.24</td><td>0.8518519</td><td>94.8</td><td>94.2</td><td>96.7</td><td>99.8</td><td>65.0</td><td>79.8</td></tr>\n",
       "\t<tr><td>5</td><td>Massachusetts Institute of Technology</td><td>United States </td><td>11415</td><td> 8.2</td><td>0.33</td><td>0.6666667</td><td>94.2</td><td>90.7</td><td>93.6</td><td>99.8</td><td>90.9</td><td>89.3</td></tr>\n",
       "\t<tr><td>6</td><td>California Institute of Technology   </td><td>United States </td><td> 2237</td><td> 6.2</td><td>0.34</td><td>0.5873016</td><td>94.1</td><td>90.9</td><td>97.0</td><td>97.3</td><td>89.8</td><td>83.6</td></tr>\n",
       "</tbody>\n",
       "</table>\n"
      ],
      "text/latex": [
       "A tibble: 6 × 13\n",
       "\\begin{tabular}{lllllllllllll}\n",
       " university\\_rank & name\\_of\\_university & location & no\\_of\\_student & no\\_of\\_student\\_per\\_staff & international\\_student & female\\_male\\_ratio & overall\\_score & teaching\\_score & research\\_score & citations\\_score & industry\\_income\\_score & international\\_outlook\\_score\\\\\n",
       " <chr> & <chr> & <chr> & <dbl> & <dbl> & <dbl> & <dbl> & <dbl> & <dbl> & <dbl> & <dbl> & <dbl> & <dbl>\\\\\n",
       "\\hline\n",
       "\t 1 & University of Oxford                  & United Kingdom & 20965 & 10.6 & 0.42 & 0.9230769 & 96.4 & 92.3 & 99.7 & 99.0 & 74.9 & 96.2\\\\\n",
       "\t 2 & Harvard University                    & United States  & 21887 &  9.6 & 0.25 & 1.0000000 & 95.2 & 94.8 & 99.0 & 99.3 & 49.5 & 80.5\\\\\n",
       "\t 3 & University of Cambridge               & United Kingdom & 20185 & 11.3 & 0.39 & 0.8867925 & 94.8 & 90.9 & 99.5 & 97.0 & 54.2 & 95.8\\\\\n",
       "\t 3 & Stanford University                   & United States  & 16164 &  7.1 & 0.24 & 0.8518519 & 94.8 & 94.2 & 96.7 & 99.8 & 65.0 & 79.8\\\\\n",
       "\t 5 & Massachusetts Institute of Technology & United States  & 11415 &  8.2 & 0.33 & 0.6666667 & 94.2 & 90.7 & 93.6 & 99.8 & 90.9 & 89.3\\\\\n",
       "\t 6 & California Institute of Technology    & United States  &  2237 &  6.2 & 0.34 & 0.5873016 & 94.1 & 90.9 & 97.0 & 97.3 & 89.8 & 83.6\\\\\n",
       "\\end{tabular}\n"
      ],
      "text/markdown": [
       "\n",
       "A tibble: 6 × 13\n",
       "\n",
       "| university_rank &lt;chr&gt; | name_of_university &lt;chr&gt; | location &lt;chr&gt; | no_of_student &lt;dbl&gt; | no_of_student_per_staff &lt;dbl&gt; | international_student &lt;dbl&gt; | female_male_ratio &lt;dbl&gt; | overall_score &lt;dbl&gt; | teaching_score &lt;dbl&gt; | research_score &lt;dbl&gt; | citations_score &lt;dbl&gt; | industry_income_score &lt;dbl&gt; | international_outlook_score &lt;dbl&gt; |\n",
       "|---|---|---|---|---|---|---|---|---|---|---|---|---|\n",
       "| 1 | University of Oxford                  | United Kingdom | 20965 | 10.6 | 0.42 | 0.9230769 | 96.4 | 92.3 | 99.7 | 99.0 | 74.9 | 96.2 |\n",
       "| 2 | Harvard University                    | United States  | 21887 |  9.6 | 0.25 | 1.0000000 | 95.2 | 94.8 | 99.0 | 99.3 | 49.5 | 80.5 |\n",
       "| 3 | University of Cambridge               | United Kingdom | 20185 | 11.3 | 0.39 | 0.8867925 | 94.8 | 90.9 | 99.5 | 97.0 | 54.2 | 95.8 |\n",
       "| 3 | Stanford University                   | United States  | 16164 |  7.1 | 0.24 | 0.8518519 | 94.8 | 94.2 | 96.7 | 99.8 | 65.0 | 79.8 |\n",
       "| 5 | Massachusetts Institute of Technology | United States  | 11415 |  8.2 | 0.33 | 0.6666667 | 94.2 | 90.7 | 93.6 | 99.8 | 90.9 | 89.3 |\n",
       "| 6 | California Institute of Technology    | United States  |  2237 |  6.2 | 0.34 | 0.5873016 | 94.1 | 90.9 | 97.0 | 97.3 | 89.8 | 83.6 |\n",
       "\n"
      ],
      "text/plain": [
       "  university_rank name_of_university                    location      \n",
       "1 1               University of Oxford                  United Kingdom\n",
       "2 2               Harvard University                    United States \n",
       "3 3               University of Cambridge               United Kingdom\n",
       "4 3               Stanford University                   United States \n",
       "5 5               Massachusetts Institute of Technology United States \n",
       "6 6               California Institute of Technology    United States \n",
       "  no_of_student no_of_student_per_staff international_student female_male_ratio\n",
       "1 20965         10.6                    0.42                  0.9230769        \n",
       "2 21887          9.6                    0.25                  1.0000000        \n",
       "3 20185         11.3                    0.39                  0.8867925        \n",
       "4 16164          7.1                    0.24                  0.8518519        \n",
       "5 11415          8.2                    0.33                  0.6666667        \n",
       "6  2237          6.2                    0.34                  0.5873016        \n",
       "  overall_score teaching_score research_score citations_score\n",
       "1 96.4          92.3           99.7           99.0           \n",
       "2 95.2          94.8           99.0           99.3           \n",
       "3 94.8          90.9           99.5           97.0           \n",
       "4 94.8          94.2           96.7           99.8           \n",
       "5 94.2          90.7           93.6           99.8           \n",
       "6 94.1          90.9           97.0           97.3           \n",
       "  industry_income_score international_outlook_score\n",
       "1 74.9                  96.2                       \n",
       "2 49.5                  80.5                       \n",
       "3 54.2                  95.8                       \n",
       "4 65.0                  79.8                       \n",
       "5 90.9                  89.3                       \n",
       "6 89.8                  83.6                       "
      ]
     },
     "metadata": {},
     "output_type": "display_data"
    }
   ],
   "source": [
    "# part a\n",
    "#loading and fixing column names\n",
    "university_data <- read_csv(\"uni_rankings_2023.csv\")\n",
    "colnames(university_data) <- c(\"university_rank\", \"name_of_university\", \"location\", \"no_of_student\", \"no_of_student_per_staff\", \n",
    "                               \"international_student\", \"female_male_ratio\", \"overall_score\", \"teaching_score\", \"research_score\",\n",
    "                               \"citations_score\",\"industry_income_score\", \"international_outlook_score\")\n",
    "head(university_data)\n",
    "\n",
    "# changing columns with strings into numerical data\n",
    "\n",
    "university_data_cleaned <- university_data |>\n",
    "mutate(international_student = as.numeric(gsub(\"%\", \"\", international_student)) / 100,\n",
    "      female_male_ratio = as.numeric(sub(\":.*\", \"\", female_male_ratio))/as.numeric(sub(\".*:\", \"\", female_male_ratio)),\n",
    "      overall_score = ifelse(grepl(\"–\", overall_score),\n",
    "                      rowMeans(apply(do.call(rbind, strsplit(gsub(\"–\", \"-\", overall_score), \"-\")), 2, as.numeric), na.rm = TRUE),\n",
    "                      as.numeric(overall_score)), #coded with help from hyperskill.org, stackoverflow, chatgpt\n",
    "      teaching_score = as.numeric(teaching_score),\n",
    "      research_score = as.numeric(research_score),\n",
    "      citations_score = as.numeric(citations_score),\n",
    "      industry_income_score = as.numeric(industry_income_score),\n",
    "      international_outlook_score = as.numeric(international_outlook_score)) |>\n",
    "drop_na()\n",
    "\n",
    "#filtering all rows to removw Inf and NaN\n",
    "university_data_cleaned <- university_data_cleaned %>%\n",
    "  filter_all(all_vars(!is.infinite(.) & !is.nan(.)))\n",
    "\n",
    "#number of rows\n",
    "nrow(university_data_cleaned)\n",
    "\n",
    "head(university_data_cleaned)"
   ]
  },
  {
   "cell_type": "markdown",
   "id": "626f0568-89be-4c9a-91fe-2861c9cbc0ca",
   "metadata": {},
   "source": [
    "### part b"
   ]
  },
  {
   "cell_type": "markdown",
   "id": "2c8b0ddf-20a1-47ea-ba6b-80e62b2e2877",
   "metadata": {},
   "source": [
    "We will first fit the full linear model."
   ]
  },
  {
   "cell_type": "code",
   "execution_count": 96,
   "id": "6ac02adf-9cfa-4f19-a860-5e854ceaaf0c",
   "metadata": {},
   "outputs": [
    {
     "data": {
      "text/html": [
       "<table class=\"dataframe\">\n",
       "<caption>A tibble: 10 × 5</caption>\n",
       "<thead>\n",
       "\t<tr><th scope=col>term</th><th scope=col>estimate</th><th scope=col>std.error</th><th scope=col>statistic</th><th scope=col>p.value</th></tr>\n",
       "\t<tr><th scope=col>&lt;chr&gt;</th><th scope=col>&lt;dbl&gt;</th><th scope=col>&lt;dbl&gt;</th><th scope=col>&lt;dbl&gt;</th><th scope=col>&lt;dbl&gt;</th></tr>\n",
       "</thead>\n",
       "<tbody>\n",
       "\t<tr><td>(Intercept)                </td><td>-1.838826e-01</td><td>2.461143e-01</td><td> -0.7471430</td><td> 4.550967e-01</td></tr>\n",
       "\t<tr><td>no_of_student              </td><td>-7.673500e-07</td><td>1.527197e-06</td><td> -0.5024565</td><td> 6.154217e-01</td></tr>\n",
       "\t<tr><td>no_of_student_per_staff    </td><td>-1.652109e-03</td><td>3.904165e-03</td><td> -0.4231657</td><td> 6.722362e-01</td></tr>\n",
       "\t<tr><td>international_student      </td><td>-1.339878e-01</td><td>6.096873e-01</td><td> -0.2197648</td><td> 8.260849e-01</td></tr>\n",
       "\t<tr><td>female_male_ratio          </td><td> 2.273331e-02</td><td>6.805780e-02</td><td>  0.3340294</td><td> 7.384050e-01</td></tr>\n",
       "\t<tr><td>teaching_score             </td><td> 2.960917e-01</td><td>7.275665e-03</td><td> 40.6961716</td><td>3.549477e-243</td></tr>\n",
       "\t<tr><td>research_score             </td><td> 3.041641e-01</td><td>6.680447e-03</td><td> 45.5304958</td><td>3.617794e-283</td></tr>\n",
       "\t<tr><td>citations_score            </td><td> 3.008538e-01</td><td>1.845641e-03</td><td>163.0077605</td><td> 0.000000e+00</td></tr>\n",
       "\t<tr><td>industry_income_score      </td><td> 2.254527e-02</td><td>3.752397e-03</td><td>  6.0082307</td><td> 2.360366e-09</td></tr>\n",
       "\t<tr><td>international_outlook_score</td><td> 7.886454e-02</td><td>3.602904e-03</td><td> 21.8891590</td><td> 3.617990e-92</td></tr>\n",
       "</tbody>\n",
       "</table>\n"
      ],
      "text/latex": [
       "A tibble: 10 × 5\n",
       "\\begin{tabular}{lllll}\n",
       " term & estimate & std.error & statistic & p.value\\\\\n",
       " <chr> & <dbl> & <dbl> & <dbl> & <dbl>\\\\\n",
       "\\hline\n",
       "\t (Intercept)                 & -1.838826e-01 & 2.461143e-01 &  -0.7471430 &  4.550967e-01\\\\\n",
       "\t no\\_of\\_student               & -7.673500e-07 & 1.527197e-06 &  -0.5024565 &  6.154217e-01\\\\\n",
       "\t no\\_of\\_student\\_per\\_staff     & -1.652109e-03 & 3.904165e-03 &  -0.4231657 &  6.722362e-01\\\\\n",
       "\t international\\_student       & -1.339878e-01 & 6.096873e-01 &  -0.2197648 &  8.260849e-01\\\\\n",
       "\t female\\_male\\_ratio           &  2.273331e-02 & 6.805780e-02 &   0.3340294 &  7.384050e-01\\\\\n",
       "\t teaching\\_score              &  2.960917e-01 & 7.275665e-03 &  40.6961716 & 3.549477e-243\\\\\n",
       "\t research\\_score              &  3.041641e-01 & 6.680447e-03 &  45.5304958 & 3.617794e-283\\\\\n",
       "\t citations\\_score             &  3.008538e-01 & 1.845641e-03 & 163.0077605 &  0.000000e+00\\\\\n",
       "\t industry\\_income\\_score       &  2.254527e-02 & 3.752397e-03 &   6.0082307 &  2.360366e-09\\\\\n",
       "\t international\\_outlook\\_score &  7.886454e-02 & 3.602904e-03 &  21.8891590 &  3.617990e-92\\\\\n",
       "\\end{tabular}\n"
      ],
      "text/markdown": [
       "\n",
       "A tibble: 10 × 5\n",
       "\n",
       "| term &lt;chr&gt; | estimate &lt;dbl&gt; | std.error &lt;dbl&gt; | statistic &lt;dbl&gt; | p.value &lt;dbl&gt; |\n",
       "|---|---|---|---|---|\n",
       "| (Intercept)                 | -1.838826e-01 | 2.461143e-01 |  -0.7471430 |  4.550967e-01 |\n",
       "| no_of_student               | -7.673500e-07 | 1.527197e-06 |  -0.5024565 |  6.154217e-01 |\n",
       "| no_of_student_per_staff     | -1.652109e-03 | 3.904165e-03 |  -0.4231657 |  6.722362e-01 |\n",
       "| international_student       | -1.339878e-01 | 6.096873e-01 |  -0.2197648 |  8.260849e-01 |\n",
       "| female_male_ratio           |  2.273331e-02 | 6.805780e-02 |   0.3340294 |  7.384050e-01 |\n",
       "| teaching_score              |  2.960917e-01 | 7.275665e-03 |  40.6961716 | 3.549477e-243 |\n",
       "| research_score              |  3.041641e-01 | 6.680447e-03 |  45.5304958 | 3.617794e-283 |\n",
       "| citations_score             |  3.008538e-01 | 1.845641e-03 | 163.0077605 |  0.000000e+00 |\n",
       "| industry_income_score       |  2.254527e-02 | 3.752397e-03 |   6.0082307 |  2.360366e-09 |\n",
       "| international_outlook_score |  7.886454e-02 | 3.602904e-03 |  21.8891590 |  3.617990e-92 |\n",
       "\n"
      ],
      "text/plain": [
       "   term                        estimate      std.error    statistic  \n",
       "1  (Intercept)                 -1.838826e-01 2.461143e-01  -0.7471430\n",
       "2  no_of_student               -7.673500e-07 1.527197e-06  -0.5024565\n",
       "3  no_of_student_per_staff     -1.652109e-03 3.904165e-03  -0.4231657\n",
       "4  international_student       -1.339878e-01 6.096873e-01  -0.2197648\n",
       "5  female_male_ratio            2.273331e-02 6.805780e-02   0.3340294\n",
       "6  teaching_score               2.960917e-01 7.275665e-03  40.6961716\n",
       "7  research_score               3.041641e-01 6.680447e-03  45.5304958\n",
       "8  citations_score              3.008538e-01 1.845641e-03 163.0077605\n",
       "9  industry_income_score        2.254527e-02 3.752397e-03   6.0082307\n",
       "10 international_outlook_score  7.886454e-02 3.602904e-03  21.8891590\n",
       "   p.value      \n",
       "1   4.550967e-01\n",
       "2   6.154217e-01\n",
       "3   6.722362e-01\n",
       "4   8.260849e-01\n",
       "5   7.384050e-01\n",
       "6  3.549477e-243\n",
       "7  3.617794e-283\n",
       "8   0.000000e+00\n",
       "9   2.360366e-09\n",
       "10  3.617990e-92"
      ]
     },
     "metadata": {},
     "output_type": "display_data"
    }
   ],
   "source": [
    "# fitting the linear model\n",
    "university_lm <- lm(overall_score ~ . - university_rank - name_of_university - location, data = university_data_cleaned)\n",
    "uni_tidy_lm <- tidy(university_lm)\n",
    "uni_tidy_lm"
   ]
  },
  {
   "cell_type": "code",
   "execution_count": 97,
   "id": "faa89fb0-2db9-405f-ad78-c867319ffcb5",
   "metadata": {},
   "outputs": [
    {
     "data": {
      "text/html": [
       "<style>\n",
       ".dl-inline {width: auto; margin:0; padding: 0}\n",
       ".dl-inline>dt, .dl-inline>dd {float: none; width: auto; display: inline-block}\n",
       ".dl-inline>dt::after {content: \":\\0020\"; padding-right: .5ex}\n",
       ".dl-inline>dt:not(:first-of-type) {padding-left: .5ex}\n",
       "</style><dl class=dl-inline><dt>no_of_student</dt><dd>1.20101043336224</dd><dt>no_of_student_per_staff</dt><dd>1.29136905257069</dd><dt>international_student</dt><dd>3.18431851507366</dd><dt>female_male_ratio</dt><dd>1.09316969302451</dd><dt>teaching_score</dt><dd>5.34259212581671</dd><dt>research_score</dt><dd>7.09682605607374</dd><dt>citations_score</dt><dd>1.5957091208518</dd><dt>industry_income_score</dt><dd>1.57678569534773</dd><dt>international_outlook_score</dt><dd>3.83809343184764</dd></dl>\n"
      ],
      "text/latex": [
       "\\begin{description*}\n",
       "\\item[no\\textbackslash{}\\_of\\textbackslash{}\\_student] 1.20101043336224\n",
       "\\item[no\\textbackslash{}\\_of\\textbackslash{}\\_student\\textbackslash{}\\_per\\textbackslash{}\\_staff] 1.29136905257069\n",
       "\\item[international\\textbackslash{}\\_student] 3.18431851507366\n",
       "\\item[female\\textbackslash{}\\_male\\textbackslash{}\\_ratio] 1.09316969302451\n",
       "\\item[teaching\\textbackslash{}\\_score] 5.34259212581671\n",
       "\\item[research\\textbackslash{}\\_score] 7.09682605607374\n",
       "\\item[citations\\textbackslash{}\\_score] 1.5957091208518\n",
       "\\item[industry\\textbackslash{}\\_income\\textbackslash{}\\_score] 1.57678569534773\n",
       "\\item[international\\textbackslash{}\\_outlook\\textbackslash{}\\_score] 3.83809343184764\n",
       "\\end{description*}\n"
      ],
      "text/markdown": [
       "no_of_student\n",
       ":   1.20101043336224no_of_student_per_staff\n",
       ":   1.29136905257069international_student\n",
       ":   3.18431851507366female_male_ratio\n",
       ":   1.09316969302451teaching_score\n",
       ":   5.34259212581671research_score\n",
       ":   7.09682605607374citations_score\n",
       ":   1.5957091208518industry_income_score\n",
       ":   1.57678569534773international_outlook_score\n",
       ":   3.83809343184764\n",
       "\n"
      ],
      "text/plain": [
       "              no_of_student     no_of_student_per_staff \n",
       "                   1.201010                    1.291369 \n",
       "      international_student           female_male_ratio \n",
       "                   3.184319                    1.093170 \n",
       "             teaching_score              research_score \n",
       "                   5.342592                    7.096826 \n",
       "            citations_score       industry_income_score \n",
       "                   1.595709                    1.576786 \n",
       "international_outlook_score \n",
       "                   3.838093 "
      ]
     },
     "metadata": {},
     "output_type": "display_data"
    }
   ],
   "source": [
    "# check their vifs\n",
    "university_vif <- vif(university_lm)\n",
    "university_vif"
   ]
  },
  {
   "cell_type": "markdown",
   "id": "5df9625b-5832-497e-a66d-2dc91d3ec121",
   "metadata": {},
   "source": [
    "Research score and teaching score have concerningly high variance inflation factors, indicating we should remove these variables from the model. However, upon closer inspection, the two variables are highly correlated to each other, thus, removing the variable with the highest vif should suffice."
   ]
  },
  {
   "cell_type": "code",
   "execution_count": 98,
   "id": "226ff524-ea80-4f94-a059-49fbda49e6f4",
   "metadata": {},
   "outputs": [
    {
     "data": {
      "text/plain": [
       "\n",
       "Call:\n",
       "lm(formula = overall_score ~ . - university_rank - name_of_university - \n",
       "    location - teaching_score, data = university_data_cleaned)\n",
       "\n",
       "Coefficients:\n",
       "                (Intercept)                no_of_student  \n",
       "                  5.234e+00                    2.676e-06  \n",
       "    no_of_student_per_staff        international_student  \n",
       "                 -4.840e-02                    3.042e+00  \n",
       "          female_male_ratio               research_score  \n",
       "                  1.093e-01                    5.278e-01  \n",
       "            citations_score        industry_income_score  \n",
       "                  3.108e-01                    5.800e-03  \n",
       "international_outlook_score  \n",
       "                  3.814e-02  \n"
      ]
     },
     "metadata": {},
     "output_type": "display_data"
    },
    {
     "data": {
      "text/html": [
       "<style>\n",
       ".dl-inline {width: auto; margin:0; padding: 0}\n",
       ".dl-inline>dt, .dl-inline>dd {float: none; width: auto; display: inline-block}\n",
       ".dl-inline>dt::after {content: \":\\0020\"; padding-right: .5ex}\n",
       ".dl-inline>dt:not(:first-of-type) {padding-left: .5ex}\n",
       "</style><dl class=dl-inline><dt>no_of_student</dt><dd>1.19732485870084</dd><dt>no_of_student_per_staff</dt><dd>1.17959272977267</dd><dt>international_student</dt><dd>3.13215772987006</dd><dt>female_male_ratio</dt><dd>1.09210184626839</dd><dt>research_score</dt><dd>2.29392363590913</dd><dt>citations_score</dt><dd>1.56764649000817</dd><dt>industry_income_score</dt><dd>1.55782627291215</dd><dt>international_outlook_score</dt><dd>3.54196245825413</dd></dl>\n"
      ],
      "text/latex": [
       "\\begin{description*}\n",
       "\\item[no\\textbackslash{}\\_of\\textbackslash{}\\_student] 1.19732485870084\n",
       "\\item[no\\textbackslash{}\\_of\\textbackslash{}\\_student\\textbackslash{}\\_per\\textbackslash{}\\_staff] 1.17959272977267\n",
       "\\item[international\\textbackslash{}\\_student] 3.13215772987006\n",
       "\\item[female\\textbackslash{}\\_male\\textbackslash{}\\_ratio] 1.09210184626839\n",
       "\\item[research\\textbackslash{}\\_score] 2.29392363590913\n",
       "\\item[citations\\textbackslash{}\\_score] 1.56764649000817\n",
       "\\item[industry\\textbackslash{}\\_income\\textbackslash{}\\_score] 1.55782627291215\n",
       "\\item[international\\textbackslash{}\\_outlook\\textbackslash{}\\_score] 3.54196245825413\n",
       "\\end{description*}\n"
      ],
      "text/markdown": [
       "no_of_student\n",
       ":   1.19732485870084no_of_student_per_staff\n",
       ":   1.17959272977267international_student\n",
       ":   3.13215772987006female_male_ratio\n",
       ":   1.09210184626839research_score\n",
       ":   2.29392363590913citations_score\n",
       ":   1.56764649000817industry_income_score\n",
       ":   1.55782627291215international_outlook_score\n",
       ":   3.54196245825413\n",
       "\n"
      ],
      "text/plain": [
       "              no_of_student     no_of_student_per_staff \n",
       "                   1.197325                    1.179593 \n",
       "      international_student           female_male_ratio \n",
       "                   3.132158                    1.092102 \n",
       "             research_score             citations_score \n",
       "                   2.293924                    1.567646 \n",
       "      industry_income_score international_outlook_score \n",
       "                   1.557826                    3.541962 "
      ]
     },
     "metadata": {},
     "output_type": "display_data"
    }
   ],
   "source": [
    "teaching_removed_lm <- lm(overall_score ~ . - university_rank - name_of_university - location - teaching_score, \n",
    "                          data = university_data_cleaned)\n",
    "teaching_removed_lm\n",
    "teaching_removed_vif <- vif(teaching_removed_lm)\n",
    "teaching_removed_vif"
   ]
  },
  {
   "cell_type": "markdown",
   "id": "33572df2-e87b-4a29-9fb8-677588b6b758",
   "metadata": {},
   "source": [
    "However, using only the vif may not result in the best fitted model; thus, we will use regularization techniques to select the best variables to include in our final model. Since this data has a large number of covariates where multicollinearity could potentially be an issue and we want to find the best variables to predict future values of `overall_score`, we will run Lasso regularization to select our varaiables for the final model. "
   ]
  },
  {
   "cell_type": "markdown",
   "id": "6e8f93cf-76ce-4f8b-bc79-0c1118998c6f",
   "metadata": {},
   "source": [
    "First we will split our data into training(70%) and testing(30%) data."
   ]
  },
  {
   "cell_type": "code",
   "execution_count": 99,
   "id": "3e61fd25-385e-472d-80a2-b3f5b39eebd4",
   "metadata": {},
   "outputs": [
    {
     "data": {
      "text/html": [
       "<table class=\"dataframe\">\n",
       "<caption>A tibble: 6 × 13</caption>\n",
       "<thead>\n",
       "\t<tr><th scope=col>university_rank</th><th scope=col>name_of_university</th><th scope=col>location</th><th scope=col>no_of_student</th><th scope=col>no_of_student_per_staff</th><th scope=col>international_student</th><th scope=col>female_male_ratio</th><th scope=col>overall_score</th><th scope=col>teaching_score</th><th scope=col>research_score</th><th scope=col>citations_score</th><th scope=col>industry_income_score</th><th scope=col>international_outlook_score</th></tr>\n",
       "\t<tr><th scope=col>&lt;chr&gt;</th><th scope=col>&lt;chr&gt;</th><th scope=col>&lt;chr&gt;</th><th scope=col>&lt;dbl&gt;</th><th scope=col>&lt;dbl&gt;</th><th scope=col>&lt;dbl&gt;</th><th scope=col>&lt;dbl&gt;</th><th scope=col>&lt;dbl&gt;</th><th scope=col>&lt;dbl&gt;</th><th scope=col>&lt;dbl&gt;</th><th scope=col>&lt;dbl&gt;</th><th scope=col>&lt;dbl&gt;</th><th scope=col>&lt;dbl&gt;</th></tr>\n",
       "</thead>\n",
       "<tbody>\n",
       "\t<tr><td>183      </td><td>Autonomous University of Barcelona</td><td>Spain      </td><td>31933</td><td>12.7</td><td>0.16</td><td>1.5000000</td><td>55.60</td><td>35.1</td><td>38.8</td><td>91.1</td><td>43.0</td><td>67.1</td></tr>\n",
       "\t<tr><td>156      </td><td>TU Dresden                        </td><td>Germany    </td><td>30382</td><td>30.8</td><td>0.16</td><td>0.8181818</td><td>57.40</td><td>48.8</td><td>50.7</td><td>69.1</td><td>92.4</td><td>60.5</td></tr>\n",
       "\t<tr><td>601–800  </td><td>Konkuk University                 </td><td>South Korea</td><td>13375</td><td>26.2</td><td>0.14</td><td>0.9607843</td><td>36.60</td><td>30.6</td><td>37.8</td><td>30.5</td><td>45.8</td><td>42.1</td></tr>\n",
       "\t<tr><td>90       </td><td>Sorbonne University               </td><td>France     </td><td>41443</td><td>13.9</td><td>0.21</td><td>1.4390244</td><td>64.50</td><td>58.7</td><td>58.3</td><td>76.6</td><td>40.0</td><td>72.3</td></tr>\n",
       "\t<tr><td>501–600  </td><td>University of Tsukuba             </td><td>Japan      </td><td>15725</td><td>12.7</td><td>0.16</td><td>0.6129032</td><td>40.65</td><td>43.9</td><td>37.8</td><td>38.5</td><td>43.7</td><td>43.0</td></tr>\n",
       "\t<tr><td>1001–1200</td><td>University of Szeged              </td><td>Hungary    </td><td>20023</td><td>12.5</td><td>0.22</td><td>1.2222222</td><td>27.05</td><td>23.2</td><td>15.5</td><td>33.3</td><td>39.6</td><td>60.8</td></tr>\n",
       "</tbody>\n",
       "</table>\n"
      ],
      "text/latex": [
       "A tibble: 6 × 13\n",
       "\\begin{tabular}{lllllllllllll}\n",
       " university\\_rank & name\\_of\\_university & location & no\\_of\\_student & no\\_of\\_student\\_per\\_staff & international\\_student & female\\_male\\_ratio & overall\\_score & teaching\\_score & research\\_score & citations\\_score & industry\\_income\\_score & international\\_outlook\\_score\\\\\n",
       " <chr> & <chr> & <chr> & <dbl> & <dbl> & <dbl> & <dbl> & <dbl> & <dbl> & <dbl> & <dbl> & <dbl> & <dbl>\\\\\n",
       "\\hline\n",
       "\t 183       & Autonomous University of Barcelona & Spain       & 31933 & 12.7 & 0.16 & 1.5000000 & 55.60 & 35.1 & 38.8 & 91.1 & 43.0 & 67.1\\\\\n",
       "\t 156       & TU Dresden                         & Germany     & 30382 & 30.8 & 0.16 & 0.8181818 & 57.40 & 48.8 & 50.7 & 69.1 & 92.4 & 60.5\\\\\n",
       "\t 601–800   & Konkuk University                  & South Korea & 13375 & 26.2 & 0.14 & 0.9607843 & 36.60 & 30.6 & 37.8 & 30.5 & 45.8 & 42.1\\\\\n",
       "\t 90        & Sorbonne University                & France      & 41443 & 13.9 & 0.21 & 1.4390244 & 64.50 & 58.7 & 58.3 & 76.6 & 40.0 & 72.3\\\\\n",
       "\t 501–600   & University of Tsukuba              & Japan       & 15725 & 12.7 & 0.16 & 0.6129032 & 40.65 & 43.9 & 37.8 & 38.5 & 43.7 & 43.0\\\\\n",
       "\t 1001–1200 & University of Szeged               & Hungary     & 20023 & 12.5 & 0.22 & 1.2222222 & 27.05 & 23.2 & 15.5 & 33.3 & 39.6 & 60.8\\\\\n",
       "\\end{tabular}\n"
      ],
      "text/markdown": [
       "\n",
       "A tibble: 6 × 13\n",
       "\n",
       "| university_rank &lt;chr&gt; | name_of_university &lt;chr&gt; | location &lt;chr&gt; | no_of_student &lt;dbl&gt; | no_of_student_per_staff &lt;dbl&gt; | international_student &lt;dbl&gt; | female_male_ratio &lt;dbl&gt; | overall_score &lt;dbl&gt; | teaching_score &lt;dbl&gt; | research_score &lt;dbl&gt; | citations_score &lt;dbl&gt; | industry_income_score &lt;dbl&gt; | international_outlook_score &lt;dbl&gt; |\n",
       "|---|---|---|---|---|---|---|---|---|---|---|---|---|\n",
       "| 183       | Autonomous University of Barcelona | Spain       | 31933 | 12.7 | 0.16 | 1.5000000 | 55.60 | 35.1 | 38.8 | 91.1 | 43.0 | 67.1 |\n",
       "| 156       | TU Dresden                         | Germany     | 30382 | 30.8 | 0.16 | 0.8181818 | 57.40 | 48.8 | 50.7 | 69.1 | 92.4 | 60.5 |\n",
       "| 601–800   | Konkuk University                  | South Korea | 13375 | 26.2 | 0.14 | 0.9607843 | 36.60 | 30.6 | 37.8 | 30.5 | 45.8 | 42.1 |\n",
       "| 90        | Sorbonne University                | France      | 41443 | 13.9 | 0.21 | 1.4390244 | 64.50 | 58.7 | 58.3 | 76.6 | 40.0 | 72.3 |\n",
       "| 501–600   | University of Tsukuba              | Japan       | 15725 | 12.7 | 0.16 | 0.6129032 | 40.65 | 43.9 | 37.8 | 38.5 | 43.7 | 43.0 |\n",
       "| 1001–1200 | University of Szeged               | Hungary     | 20023 | 12.5 | 0.22 | 1.2222222 | 27.05 | 23.2 | 15.5 | 33.3 | 39.6 | 60.8 |\n",
       "\n"
      ],
      "text/plain": [
       "  university_rank name_of_university                 location    no_of_student\n",
       "1 183             Autonomous University of Barcelona Spain       31933        \n",
       "2 156             TU Dresden                         Germany     30382        \n",
       "3 601–800         Konkuk University                  South Korea 13375        \n",
       "4 90              Sorbonne University                France      41443        \n",
       "5 501–600         University of Tsukuba              Japan       15725        \n",
       "6 1001–1200       University of Szeged               Hungary     20023        \n",
       "  no_of_student_per_staff international_student female_male_ratio overall_score\n",
       "1 12.7                    0.16                  1.5000000         55.60        \n",
       "2 30.8                    0.16                  0.8181818         57.40        \n",
       "3 26.2                    0.14                  0.9607843         36.60        \n",
       "4 13.9                    0.21                  1.4390244         64.50        \n",
       "5 12.7                    0.16                  0.6129032         40.65        \n",
       "6 12.5                    0.22                  1.2222222         27.05        \n",
       "  teaching_score research_score citations_score industry_income_score\n",
       "1 35.1           38.8           91.1            43.0                 \n",
       "2 48.8           50.7           69.1            92.4                 \n",
       "3 30.6           37.8           30.5            45.8                 \n",
       "4 58.7           58.3           76.6            40.0                 \n",
       "5 43.9           37.8           38.5            43.7                 \n",
       "6 23.2           15.5           33.3            39.6                 \n",
       "  international_outlook_score\n",
       "1 67.1                       \n",
       "2 60.5                       \n",
       "3 42.1                       \n",
       "4 72.3                       \n",
       "5 43.0                       \n",
       "6 60.8                       "
      ]
     },
     "metadata": {},
     "output_type": "display_data"
    },
    {
     "data": {
      "text/html": [
       "<table class=\"dataframe\">\n",
       "<caption>A tibble: 6 × 13</caption>\n",
       "<thead>\n",
       "\t<tr><th scope=col>university_rank</th><th scope=col>name_of_university</th><th scope=col>location</th><th scope=col>no_of_student</th><th scope=col>no_of_student_per_staff</th><th scope=col>international_student</th><th scope=col>female_male_ratio</th><th scope=col>overall_score</th><th scope=col>teaching_score</th><th scope=col>research_score</th><th scope=col>citations_score</th><th scope=col>industry_income_score</th><th scope=col>international_outlook_score</th></tr>\n",
       "\t<tr><th scope=col>&lt;chr&gt;</th><th scope=col>&lt;chr&gt;</th><th scope=col>&lt;chr&gt;</th><th scope=col>&lt;dbl&gt;</th><th scope=col>&lt;dbl&gt;</th><th scope=col>&lt;dbl&gt;</th><th scope=col>&lt;dbl&gt;</th><th scope=col>&lt;dbl&gt;</th><th scope=col>&lt;dbl&gt;</th><th scope=col>&lt;dbl&gt;</th><th scope=col>&lt;dbl&gt;</th><th scope=col>&lt;dbl&gt;</th><th scope=col>&lt;dbl&gt;</th></tr>\n",
       "</thead>\n",
       "<tbody>\n",
       "\t<tr><td>6 </td><td>California Institute of Technology         </td><td>United States</td><td> 2237</td><td> 6.2</td><td>0.34</td><td>0.5873016</td><td>94.1</td><td>90.9</td><td>97.0</td><td>97.3</td><td>89.8</td><td>83.6</td></tr>\n",
       "\t<tr><td>7 </td><td>Princeton University                       </td><td>United States</td><td> 8279</td><td> 8.0</td><td>0.23</td><td>0.8518519</td><td>92.4</td><td>87.6</td><td>95.9</td><td>99.1</td><td>66.0</td><td>80.3</td></tr>\n",
       "\t<tr><td>8 </td><td>University of California, Berkeley         </td><td>United States</td><td>40921</td><td>18.4</td><td>0.24</td><td>1.0833333</td><td>92.1</td><td>86.4</td><td>95.8</td><td>99.0</td><td>76.8</td><td>78.4</td></tr>\n",
       "\t<tr><td>21</td><td>University of California, Los Angeles      </td><td>United States</td><td>42434</td><td> 9.7</td><td>0.16</td><td>1.2727273</td><td>85.8</td><td>80.4</td><td>88.9</td><td>95.4</td><td>58.8</td><td>65.0</td></tr>\n",
       "\t<tr><td>26</td><td>University of Washington                   </td><td>United States</td><td>47727</td><td>10.8</td><td>0.18</td><td>1.2222222</td><td>82.1</td><td>71.6</td><td>82.8</td><td>98.9</td><td>53.9</td><td>63.0</td></tr>\n",
       "\t<tr><td>36</td><td>Nanyang Technological University, Singapore</td><td>Singapore    </td><td>24651</td><td>15.1</td><td>0.25</td><td>0.9230769</td><td>77.0</td><td>60.9</td><td>77.9</td><td>87.2</td><td>84.5</td><td>94.5</td></tr>\n",
       "</tbody>\n",
       "</table>\n"
      ],
      "text/latex": [
       "A tibble: 6 × 13\n",
       "\\begin{tabular}{lllllllllllll}\n",
       " university\\_rank & name\\_of\\_university & location & no\\_of\\_student & no\\_of\\_student\\_per\\_staff & international\\_student & female\\_male\\_ratio & overall\\_score & teaching\\_score & research\\_score & citations\\_score & industry\\_income\\_score & international\\_outlook\\_score\\\\\n",
       " <chr> & <chr> & <chr> & <dbl> & <dbl> & <dbl> & <dbl> & <dbl> & <dbl> & <dbl> & <dbl> & <dbl> & <dbl>\\\\\n",
       "\\hline\n",
       "\t 6  & California Institute of Technology          & United States &  2237 &  6.2 & 0.34 & 0.5873016 & 94.1 & 90.9 & 97.0 & 97.3 & 89.8 & 83.6\\\\\n",
       "\t 7  & Princeton University                        & United States &  8279 &  8.0 & 0.23 & 0.8518519 & 92.4 & 87.6 & 95.9 & 99.1 & 66.0 & 80.3\\\\\n",
       "\t 8  & University of California, Berkeley          & United States & 40921 & 18.4 & 0.24 & 1.0833333 & 92.1 & 86.4 & 95.8 & 99.0 & 76.8 & 78.4\\\\\n",
       "\t 21 & University of California, Los Angeles       & United States & 42434 &  9.7 & 0.16 & 1.2727273 & 85.8 & 80.4 & 88.9 & 95.4 & 58.8 & 65.0\\\\\n",
       "\t 26 & University of Washington                    & United States & 47727 & 10.8 & 0.18 & 1.2222222 & 82.1 & 71.6 & 82.8 & 98.9 & 53.9 & 63.0\\\\\n",
       "\t 36 & Nanyang Technological University, Singapore & Singapore     & 24651 & 15.1 & 0.25 & 0.9230769 & 77.0 & 60.9 & 77.9 & 87.2 & 84.5 & 94.5\\\\\n",
       "\\end{tabular}\n"
      ],
      "text/markdown": [
       "\n",
       "A tibble: 6 × 13\n",
       "\n",
       "| university_rank &lt;chr&gt; | name_of_university &lt;chr&gt; | location &lt;chr&gt; | no_of_student &lt;dbl&gt; | no_of_student_per_staff &lt;dbl&gt; | international_student &lt;dbl&gt; | female_male_ratio &lt;dbl&gt; | overall_score &lt;dbl&gt; | teaching_score &lt;dbl&gt; | research_score &lt;dbl&gt; | citations_score &lt;dbl&gt; | industry_income_score &lt;dbl&gt; | international_outlook_score &lt;dbl&gt; |\n",
       "|---|---|---|---|---|---|---|---|---|---|---|---|---|\n",
       "| 6  | California Institute of Technology          | United States |  2237 |  6.2 | 0.34 | 0.5873016 | 94.1 | 90.9 | 97.0 | 97.3 | 89.8 | 83.6 |\n",
       "| 7  | Princeton University                        | United States |  8279 |  8.0 | 0.23 | 0.8518519 | 92.4 | 87.6 | 95.9 | 99.1 | 66.0 | 80.3 |\n",
       "| 8  | University of California, Berkeley          | United States | 40921 | 18.4 | 0.24 | 1.0833333 | 92.1 | 86.4 | 95.8 | 99.0 | 76.8 | 78.4 |\n",
       "| 21 | University of California, Los Angeles       | United States | 42434 |  9.7 | 0.16 | 1.2727273 | 85.8 | 80.4 | 88.9 | 95.4 | 58.8 | 65.0 |\n",
       "| 26 | University of Washington                    | United States | 47727 | 10.8 | 0.18 | 1.2222222 | 82.1 | 71.6 | 82.8 | 98.9 | 53.9 | 63.0 |\n",
       "| 36 | Nanyang Technological University, Singapore | Singapore     | 24651 | 15.1 | 0.25 | 0.9230769 | 77.0 | 60.9 | 77.9 | 87.2 | 84.5 | 94.5 |\n",
       "\n"
      ],
      "text/plain": [
       "  university_rank name_of_university                          location     \n",
       "1 6               California Institute of Technology          United States\n",
       "2 7               Princeton University                        United States\n",
       "3 8               University of California, Berkeley          United States\n",
       "4 21              University of California, Los Angeles       United States\n",
       "5 26              University of Washington                    United States\n",
       "6 36              Nanyang Technological University, Singapore Singapore    \n",
       "  no_of_student no_of_student_per_staff international_student female_male_ratio\n",
       "1  2237          6.2                    0.34                  0.5873016        \n",
       "2  8279          8.0                    0.23                  0.8518519        \n",
       "3 40921         18.4                    0.24                  1.0833333        \n",
       "4 42434          9.7                    0.16                  1.2727273        \n",
       "5 47727         10.8                    0.18                  1.2222222        \n",
       "6 24651         15.1                    0.25                  0.9230769        \n",
       "  overall_score teaching_score research_score citations_score\n",
       "1 94.1          90.9           97.0           97.3           \n",
       "2 92.4          87.6           95.9           99.1           \n",
       "3 92.1          86.4           95.8           99.0           \n",
       "4 85.8          80.4           88.9           95.4           \n",
       "5 82.1          71.6           82.8           98.9           \n",
       "6 77.0          60.9           77.9           87.2           \n",
       "  industry_income_score international_outlook_score\n",
       "1 89.8                  83.6                       \n",
       "2 66.0                  80.3                       \n",
       "3 76.8                  78.4                       \n",
       "4 58.8                  65.0                       \n",
       "5 53.9                  63.0                       \n",
       "6 84.5                  94.5                       "
      ]
     },
     "metadata": {},
     "output_type": "display_data"
    }
   ],
   "source": [
    "data_split <- initial_split(university_data_cleaned, prop = 0.7)\n",
    "uni_training <- training(data_split)\n",
    "uni_testing <- testing(data_split)\n",
    "head(uni_training)\n",
    "head(uni_testing)"
   ]
  },
  {
   "cell_type": "markdown",
   "id": "5c43fdcb-2587-49d5-93e8-dfe9ab58c250",
   "metadata": {},
   "source": [
    "Now we will run Lasso regularization on `uni_training` since the training data is used to train the model to fit the data and penalize large coefficients. By running lasso on the training data we will be able to find the value of the L1 penalty term ($\\lambda$) that provides the lowest cross-validation MSE."
   ]
  },
  {
   "cell_type": "code",
   "execution_count": 100,
   "id": "acdc921b-8f49-4049-81b8-42bd501fc3c8",
   "metadata": {},
   "outputs": [
    {
     "data": {
      "text/plain": [
       "\n",
       "Call:  cv.glmnet(x = uni_testing %>% select(-university_rank, -name_of_university,      -location, -overall_score) %>% as.matrix(), y = uni_testing$overall_score,      alpha = 1) \n",
       "\n",
       "Measure: Mean-Squared Error \n",
       "\n",
       "    Lambda Index Measure      SE Nonzero\n",
       "min 0.2205    44  0.1915 0.04553       5\n",
       "1se 0.2420    43  0.2268 0.05453       5"
      ]
     },
     "metadata": {},
     "output_type": "display_data"
    }
   ],
   "source": [
    "uni_lasso<-\n",
    "    cv.glmnet(uni_training %>% select(-university_rank, -name_of_university, -location, -overall_score) %>% as.matrix(), \n",
    "              uni_training$overall_score, \n",
    "              alpha=1)\n",
    "\n",
    "lasso_model"
   ]
  },
  {
   "cell_type": "markdown",
   "id": "32dff110-de78-4375-a0dc-af7923e378e8",
   "metadata": {},
   "source": [
    "Now that we ran the model, we will extract the coefficients of the model with the lowest cross-validation MSE and the names of the covariates."
   ]
  },
  {
   "cell_type": "code",
   "execution_count": 101,
   "id": "5c976dc9-9448-42e3-99ad-ea74f6edbad7",
   "metadata": {},
   "outputs": [
    {
     "data": {
      "text/plain": [
       "10 x 1 sparse Matrix of class \"dgCMatrix\"\n",
       "                                    s1\n",
       "(Intercept)                 0.12432155\n",
       "no_of_student               .         \n",
       "no_of_student_per_staff     .         \n",
       "international_student       .         \n",
       "female_male_ratio           .         \n",
       "teaching_score              0.28629476\n",
       "research_score              0.31195223\n",
       "citations_score             0.30045131\n",
       "industry_income_score       0.01653456\n",
       "international_outlook_score 0.07846905"
      ]
     },
     "metadata": {},
     "output_type": "display_data"
    },
    {
     "data": {
      "text/html": [
       "<style>\n",
       ".list-inline {list-style: none; margin:0; padding: 0}\n",
       ".list-inline>li {display: inline-block}\n",
       ".list-inline>li:not(:last-child)::after {content: \"\\00b7\"; padding: 0 .5ex}\n",
       "</style>\n",
       "<ol class=list-inline><li>'teaching_score'</li><li>'research_score'</li><li>'citations_score'</li><li>'industry_income_score'</li><li>'international_outlook_score'</li></ol>\n"
      ],
      "text/latex": [
       "\\begin{enumerate*}\n",
       "\\item 'teaching\\_score'\n",
       "\\item 'research\\_score'\n",
       "\\item 'citations\\_score'\n",
       "\\item 'industry\\_income\\_score'\n",
       "\\item 'international\\_outlook\\_score'\n",
       "\\end{enumerate*}\n"
      ],
      "text/markdown": [
       "1. 'teaching_score'\n",
       "2. 'research_score'\n",
       "3. 'citations_score'\n",
       "4. 'industry_income_score'\n",
       "5. 'international_outlook_score'\n",
       "\n",
       "\n"
      ],
      "text/plain": [
       "[1] \"teaching_score\"              \"research_score\"             \n",
       "[3] \"citations_score\"             \"industry_income_score\"      \n",
       "[5] \"international_outlook_score\""
      ]
     },
     "metadata": {},
     "output_type": "display_data"
    }
   ],
   "source": [
    "lasso_coef <-\n",
    "    coef(uni_lasso, s = uni_lasso$lambda.min)\n",
    "\n",
    "lasso_selected_covariates <-\n",
    "    as_tibble(\n",
    "        as.matrix(lasso_coef),\n",
    "        rownames='covariate') %>%\n",
    "        filter(covariate != '(Intercept)' & abs(s1) !=0) %>% \n",
    "        pull(covariate)\n",
    "lasso_coef\n",
    "lasso_selected_covariates"
   ]
  },
  {
   "cell_type": "markdown",
   "id": "0d76830b-29f2-42f4-a8f9-92efab479c37",
   "metadata": {},
   "source": [
    "Lasso regression should remove variables with high multicollinearity and is able to fit models on datasets with high multicollinearity. To verify this, we will check the variance inflation factor (VIF) of the lasso model"
   ]
  },
  {
   "cell_type": "code",
   "execution_count": 102,
   "id": "94151849-5397-45b9-8e59-1438cae271b7",
   "metadata": {},
   "outputs": [
    {
     "data": {
      "text/html": [
       "<style>\n",
       ".dl-inline {width: auto; margin:0; padding: 0}\n",
       ".dl-inline>dt, .dl-inline>dd {float: none; width: auto; display: inline-block}\n",
       ".dl-inline>dt::after {content: \":\\0020\"; padding-right: .5ex}\n",
       ".dl-inline>dt:not(:first-of-type) {padding-left: .5ex}\n",
       "</style><dl class=dl-inline><dt>teaching_score</dt><dd>5.11154415223235</dd><dt>research_score</dt><dd>7.1500188898315</dd><dt>citations_score</dt><dd>1.54897981699114</dd><dt>industry_income_score</dt><dd>1.58998987080833</dd><dt>international_outlook_score</dt><dd>1.75547560145654</dd></dl>\n"
      ],
      "text/latex": [
       "\\begin{description*}\n",
       "\\item[teaching\\textbackslash{}\\_score] 5.11154415223235\n",
       "\\item[research\\textbackslash{}\\_score] 7.1500188898315\n",
       "\\item[citations\\textbackslash{}\\_score] 1.54897981699114\n",
       "\\item[industry\\textbackslash{}\\_income\\textbackslash{}\\_score] 1.58998987080833\n",
       "\\item[international\\textbackslash{}\\_outlook\\textbackslash{}\\_score] 1.75547560145654\n",
       "\\end{description*}\n"
      ],
      "text/markdown": [
       "teaching_score\n",
       ":   5.11154415223235research_score\n",
       ":   7.1500188898315citations_score\n",
       ":   1.54897981699114industry_income_score\n",
       ":   1.58998987080833international_outlook_score\n",
       ":   1.75547560145654\n",
       "\n"
      ],
      "text/plain": [
       "             teaching_score              research_score \n",
       "                   5.111544                    7.150019 \n",
       "            citations_score       industry_income_score \n",
       "                   1.548980                    1.589990 \n",
       "international_outlook_score \n",
       "                   1.755476 "
      ]
     },
     "metadata": {},
     "output_type": "display_data"
    }
   ],
   "source": [
    "lasso_vif <- vif(lm(overall_score ~ . , data = uni_training %>% \n",
    "        select(contains(lasso_selected_covariates), overall_score)))\n",
    "lasso_vif"
   ]
  },
  {
   "cell_type": "markdown",
   "id": "e832340c-60e2-4a1d-a0d2-551205a23b69",
   "metadata": {},
   "source": [
    "Most of the variables selected in this model have low vif values indicating there is no issue of multicollinearity. However, `teaching_score` and `reasearch_score` both have high vif values which point to multicollinearity. Despite the high multicollinearity, the model could still be effective since lasso regression includeds variables that have high multicollinearity if they contribute significantly to the model. To verify the effectiveness of the model, we will fit an oridinary least squares model with the lasso selected variables and evaluate the $R^2$ value to determine the models effectiveness. To fit the OLS we will use the testing data which was kept separate from the training process as it provides an unbiased evaluation when comparing different models and a measure of how well the model does on unseen data. "
   ]
  },
  {
   "cell_type": "code",
   "execution_count": 103,
   "id": "909eef42-2011-4f6f-a95a-cc3112436d7a",
   "metadata": {},
   "outputs": [
    {
     "data": {
      "text/plain": [
       "\n",
       "Call:\n",
       "lm(formula = overall_score ~ ., data = uni_testing %>% select(contains(lasso_selected_covariates), \n",
       "    overall_score))\n",
       "\n",
       "Residuals:\n",
       "    Min      1Q  Median      3Q     Max \n",
       "-3.9253 -0.9410  0.0747  1.0298  9.8302 \n",
       "\n",
       "Coefficients:\n",
       "                            Estimate Std. Error t value Pr(>|t|)    \n",
       "(Intercept)                 0.045040   0.362985   0.124 0.901308    \n",
       "teaching_score              0.305862   0.012139  25.196  < 2e-16 ***\n",
       "research_score              0.295621   0.011346  26.055  < 2e-16 ***\n",
       "citations_score             0.298898   0.003349  89.238  < 2e-16 ***\n",
       "industry_income_score       0.025062   0.006746   3.715 0.000229 ***\n",
       "international_outlook_score 0.073828   0.004194  17.605  < 2e-16 ***\n",
       "---\n",
       "Signif. codes:  0 ‘***’ 0.001 ‘**’ 0.01 ‘*’ 0.05 ‘.’ 0.1 ‘ ’ 1\n",
       "\n",
       "Residual standard error: 1.535 on 439 degrees of freedom\n",
       "Multiple R-squared:  0.9899,\tAdjusted R-squared:  0.9898 \n",
       "F-statistic:  8588 on 5 and 439 DF,  p-value: < 2.2e-16\n"
      ]
     },
     "metadata": {},
     "output_type": "display_data"
    }
   ],
   "source": [
    "inference_model <- \n",
    "    lm(overall_score ~ .,\n",
    "        data = uni_testing %>% \n",
    "                   select(contains(lasso_selected_covariates), overall_score))\n",
    "summary(inference_model)"
   ]
  },
  {
   "cell_type": "markdown",
   "id": "2a1a96fb-17bd-4fd8-88d1-84f48461390d",
   "metadata": {},
   "source": [
    "We will now compare it to the full OLS model."
   ]
  },
  {
   "cell_type": "code",
   "execution_count": 105,
   "id": "f74806ab-e0b1-4559-bbb0-37ab203fe646",
   "metadata": {},
   "outputs": [
    {
     "data": {
      "text/plain": [
       "\n",
       "Call:\n",
       "lm(formula = overall_score ~ . - university_rank - name_of_university - \n",
       "    location, data = university_data_cleaned)\n",
       "\n",
       "Residuals:\n",
       "    Min      1Q  Median      3Q     Max \n",
       "-3.7973 -1.0143  0.0117  1.0134 10.1299 \n",
       "\n",
       "Coefficients:\n",
       "                              Estimate Std. Error t value Pr(>|t|)    \n",
       "(Intercept)                 -1.839e-01  2.461e-01  -0.747    0.455    \n",
       "no_of_student               -7.673e-07  1.527e-06  -0.502    0.615    \n",
       "no_of_student_per_staff     -1.652e-03  3.904e-03  -0.423    0.672    \n",
       "international_student       -1.340e-01  6.097e-01  -0.220    0.826    \n",
       "female_male_ratio            2.273e-02  6.806e-02   0.334    0.738    \n",
       "teaching_score               2.961e-01  7.276e-03  40.696  < 2e-16 ***\n",
       "research_score               3.042e-01  6.680e-03  45.530  < 2e-16 ***\n",
       "citations_score              3.009e-01  1.846e-03 163.008  < 2e-16 ***\n",
       "industry_income_score        2.255e-02  3.752e-03   6.008 2.36e-09 ***\n",
       "international_outlook_score  7.886e-02  3.603e-03  21.889  < 2e-16 ***\n",
       "---\n",
       "Signif. codes:  0 ‘***’ 0.001 ‘**’ 0.01 ‘*’ 0.05 ‘.’ 0.1 ‘ ’ 1\n",
       "\n",
       "Residual standard error: 1.545 on 1471 degrees of freedom\n",
       "Multiple R-squared:  0.9903,\tAdjusted R-squared:  0.9903 \n",
       "F-statistic: 1.672e+04 on 9 and 1471 DF,  p-value: < 2.2e-16\n"
      ]
     },
     "metadata": {},
     "output_type": "display_data"
    }
   ],
   "source": [
    "summary(university_lm)"
   ]
  },
  {
   "cell_type": "markdown",
   "id": "3f8bb3b3-c0bd-4362-bf1f-fd7b34074ca1",
   "metadata": {},
   "source": [
    "The adjusted $R^2$ in the full model is slightly higher than the model with the lasso selected variables which implies that the full model explains a slighlty higher proportion (0.9903) of the variance of `overall_score` than the model with lasso selected variables (0.9898). Since the $R^2$ between the full model and lasso model was relatively the same, it justifies the variables selected with the lasso model since it implies that the variables removed did not make a significant impact to the models ability to explain the variance in `overall_score`. This result is also consistent with the result of the $p$-values in the full model as the variables that were removed in the lasso regression are also shown as insignificant in the full model."
   ]
  },
  {
   "cell_type": "markdown",
   "id": "f17da039-93fe-4a4a-9390-af3560765555",
   "metadata": {},
   "source": [
    "### Discussion"
   ]
  },
  {
   "cell_type": "markdown",
   "id": "6c02a964-5be1-4cf5-ba15-ccae98882b5c",
   "metadata": {},
   "source": [
    "In this section, you’ll interpret the results you obtained in the previous section with respect to the main question/goal of your project.\n",
    "\n",
    "Summarize what you found and the implications/impact of your findings.\n",
    "If relevant, discuss whether your results were what you expected to find.\n",
    "Discuss how your model could be improved;\n",
    "Discuss future questions/research this study could lead to."
   ]
  },
  {
   "cell_type": "markdown",
   "id": "fc4fcfdd-6a4a-49cc-b9f3-97e11d55a9a0",
   "metadata": {},
   "source": [
    "### References"
   ]
  },
  {
   "cell_type": "markdown",
   "id": "5ae185c7-ca83-4ee7-b135-178e5e7db88f",
   "metadata": {},
   "source": [
    "At least two citations of literature relevant to the project. The citation format is your choice – just be consistent. Make sure to cite the source of your data as well."
   ]
  },
  {
   "cell_type": "code",
   "execution_count": null,
   "id": "6b942ec1-6e42-4ad5-8750-569997b742af",
   "metadata": {},
   "outputs": [],
   "source": []
  }
 ],
 "metadata": {
  "kernelspec": {
   "display_name": "R",
   "language": "R",
   "name": "ir"
  },
  "language_info": {
   "codemirror_mode": "r",
   "file_extension": ".r",
   "mimetype": "text/x-r-source",
   "name": "R",
   "pygments_lexer": "r",
   "version": "4.3.1"
  }
 },
 "nbformat": 4,
 "nbformat_minor": 5
}
