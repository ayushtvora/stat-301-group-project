{
 "cells": [
  {
   "cell_type": "markdown",
   "id": "c3eade57-dce7-4a4e-8f46-6eb5ab5d6489",
   "metadata": {},
   "source": [
    "# World University Rankings 2023 #"
   ]
  },
  {
   "cell_type": "markdown",
   "id": "353d8e3b-4c8a-4f90-a781-895daebda60b",
   "metadata": {},
   "source": [
    "## STAT 301 Group Project "
   ]
  },
  {
   "cell_type": "markdown",
   "id": "2ffd0964-29ee-4701-953b-697c59d20644",
   "metadata": {},
   "source": [
    "### Introduction"
   ]
  },
  {
   "cell_type": "markdown",
   "id": "7be4e065-9271-4f9b-8bf1-a0ad8f8109b7",
   "metadata": {},
   "source": [
    "Start with relevant background information on the topic to prepare those unfamiliar for the rest of your proposal.\n",
    "\n",
    "Formulate one or two questions for investigation and detail the dataset that will be utilized to address these questions.\n",
    "\n",
    "Additionally, align your question/objectives with the existing literature. To contextualize your study, include a minimum of two scientific publications (these should be listed in the References section).\n",
    "\n"
   ]
  },
  {
   "cell_type": "markdown",
   "id": "904f27c0-e93f-421b-a673-d3554ea3a70f",
   "metadata": {},
   "source": [
    "### Methods and Results"
   ]
  },
  {
   "cell_type": "markdown",
   "id": "a0066357-63bf-4aef-ac6d-3975b7b4722d",
   "metadata": {},
   "source": [
    "In this section, you will include:\n",
    "\n",
    "**a) “Exploratory Data Analysis (EDA)”**\n",
    "\n",
    "- Demonstrate that the dataset can be read into R.\n",
    "- Clean and wrangle your data into a tidy format.\n",
    "- Plot the relevant raw data, tailoring your plot to address your question.\n",
    "  - Make sure to explore the association of the explanatory variables with the response.\n",
    "- Any summary tables that are relevant to your analysis.\n",
    "- Be sure not to print output that takes up a lot of screen space.\n",
    "- Your EDA must be comprehensive with high quality plots.\n",
    "\n",
    "**b) “Methods: Plan”**\n",
    "\n",
    "- Describe in written English the methods you used to perform your analysis from beginning to end, and narrate the code that does the analysis.\n",
    "- If included, describe the “Feature Selection” process and how and why you choose the covariates of your final model.\n",
    "- Make sure to interpret/explain the results you obtain. It’s not enough to just say, “I fitted a linear model with these covariates, and my R-square is 0.87”.\n",
    "  - If inference is the aim of your project, a detailed interpretation of your fitted model is required, as well as a discussion of relevant quantities (e.g., are the coefficients significant? How does the model fit the data)?\n",
    "  - A careful model assessment must be conducted.\n",
    "  - If prediction is the project's aim, describe the test data used or how it was created.\n",
    "- Ensure your tables and/or figures are labelled with a figure/table number."
   ]
  },
  {
   "cell_type": "code",
   "execution_count": 6,
   "id": "6bc7ae89-e99c-4fd6-85d5-e1cf8f02640e",
   "metadata": {},
   "outputs": [],
   "source": [
    "library(tidyverse)\n",
    "library(repr)\n",
    "library(broom)\n",
    "library(GGally)\n",
    "library(car)\n",
    "library(rsample)\n",
    "library(leaps)\n",
    "library(glmnet)"
   ]
  },
  {
   "cell_type": "code",
   "execution_count": 106,
   "id": "36ea1a05-8099-4811-8e93-a3e5b56d9dd5",
   "metadata": {},
   "outputs": [
    {
     "name": "stderr",
     "output_type": "stream",
     "text": [
      "\u001b[1mRows: \u001b[22m\u001b[34m2341\u001b[39m \u001b[1mColumns: \u001b[22m\u001b[34m13\u001b[39m\n",
      "\u001b[36m──\u001b[39m \u001b[1mColumn specification\u001b[22m \u001b[36m────────────────────────────────────────────────────────\u001b[39m\n",
      "\u001b[1mDelimiter:\u001b[22m \",\"\n",
      "\u001b[31mchr\u001b[39m (11): University Rank, Name of University, Location, International Stude...\n",
      "\u001b[32mdbl\u001b[39m  (1): No of student per staff\n",
      "\u001b[32mnum\u001b[39m  (1): No of student\n",
      "\n",
      "\u001b[36mℹ\u001b[39m Use `spec()` to retrieve the full column specification for this data.\n",
      "\u001b[36mℹ\u001b[39m Specify the column types or set `show_col_types = FALSE` to quiet this message.\n"
     ]
    },
    {
     "data": {
      "text/html": [
       "<table class=\"dataframe\">\n",
       "<caption>A tibble: 6 × 13</caption>\n",
       "<thead>\n",
       "\t<tr><th scope=col>university_rank</th><th scope=col>name_of_university</th><th scope=col>location</th><th scope=col>no_of_student</th><th scope=col>no_of_student_per_staff</th><th scope=col>international_student</th><th scope=col>female_male_ratio</th><th scope=col>overall_score</th><th scope=col>teaching_score</th><th scope=col>research_score</th><th scope=col>citations_score</th><th scope=col>industry_income_score</th><th scope=col>international_outlook_score</th></tr>\n",
       "\t<tr><th scope=col>&lt;chr&gt;</th><th scope=col>&lt;chr&gt;</th><th scope=col>&lt;chr&gt;</th><th scope=col>&lt;dbl&gt;</th><th scope=col>&lt;dbl&gt;</th><th scope=col>&lt;chr&gt;</th><th scope=col>&lt;chr&gt;</th><th scope=col>&lt;chr&gt;</th><th scope=col>&lt;chr&gt;</th><th scope=col>&lt;chr&gt;</th><th scope=col>&lt;chr&gt;</th><th scope=col>&lt;chr&gt;</th><th scope=col>&lt;chr&gt;</th></tr>\n",
       "</thead>\n",
       "<tbody>\n",
       "\t<tr><td>1</td><td>University of Oxford                 </td><td>United Kingdom</td><td>20965</td><td>10.6</td><td>42%</td><td>48 : 52</td><td>96.4</td><td>92.3</td><td>99.7</td><td>99.0</td><td>74.9</td><td>96.2</td></tr>\n",
       "\t<tr><td>2</td><td>Harvard University                   </td><td>United States </td><td>21887</td><td> 9.6</td><td>25%</td><td>50 : 50</td><td>95.2</td><td>94.8</td><td>99.0</td><td>99.3</td><td>49.5</td><td>80.5</td></tr>\n",
       "\t<tr><td>3</td><td>University of Cambridge              </td><td>United Kingdom</td><td>20185</td><td>11.3</td><td>39%</td><td>47 : 53</td><td>94.8</td><td>90.9</td><td>99.5</td><td>97.0</td><td>54.2</td><td>95.8</td></tr>\n",
       "\t<tr><td>3</td><td>Stanford University                  </td><td>United States </td><td>16164</td><td> 7.1</td><td>24%</td><td>46 : 54</td><td>94.8</td><td>94.2</td><td>96.7</td><td>99.8</td><td>65.0</td><td>79.8</td></tr>\n",
       "\t<tr><td>5</td><td>Massachusetts Institute of Technology</td><td>United States </td><td>11415</td><td> 8.2</td><td>33%</td><td>40 : 60</td><td>94.2</td><td>90.7</td><td>93.6</td><td>99.8</td><td>90.9</td><td>89.3</td></tr>\n",
       "\t<tr><td>6</td><td>California Institute of Technology   </td><td>United States </td><td> 2237</td><td> 6.2</td><td>34%</td><td>37 : 63</td><td>94.1</td><td>90.9</td><td>97.0</td><td>97.3</td><td>89.8</td><td>83.6</td></tr>\n",
       "</tbody>\n",
       "</table>\n"
      ],
      "text/latex": [
       "A tibble: 6 × 13\n",
       "\\begin{tabular}{lllllllllllll}\n",
       " university\\_rank & name\\_of\\_university & location & no\\_of\\_student & no\\_of\\_student\\_per\\_staff & international\\_student & female\\_male\\_ratio & overall\\_score & teaching\\_score & research\\_score & citations\\_score & industry\\_income\\_score & international\\_outlook\\_score\\\\\n",
       " <chr> & <chr> & <chr> & <dbl> & <dbl> & <chr> & <chr> & <chr> & <chr> & <chr> & <chr> & <chr> & <chr>\\\\\n",
       "\\hline\n",
       "\t 1 & University of Oxford                  & United Kingdom & 20965 & 10.6 & 42\\% & 48 : 52 & 96.4 & 92.3 & 99.7 & 99.0 & 74.9 & 96.2\\\\\n",
       "\t 2 & Harvard University                    & United States  & 21887 &  9.6 & 25\\% & 50 : 50 & 95.2 & 94.8 & 99.0 & 99.3 & 49.5 & 80.5\\\\\n",
       "\t 3 & University of Cambridge               & United Kingdom & 20185 & 11.3 & 39\\% & 47 : 53 & 94.8 & 90.9 & 99.5 & 97.0 & 54.2 & 95.8\\\\\n",
       "\t 3 & Stanford University                   & United States  & 16164 &  7.1 & 24\\% & 46 : 54 & 94.8 & 94.2 & 96.7 & 99.8 & 65.0 & 79.8\\\\\n",
       "\t 5 & Massachusetts Institute of Technology & United States  & 11415 &  8.2 & 33\\% & 40 : 60 & 94.2 & 90.7 & 93.6 & 99.8 & 90.9 & 89.3\\\\\n",
       "\t 6 & California Institute of Technology    & United States  &  2237 &  6.2 & 34\\% & 37 : 63 & 94.1 & 90.9 & 97.0 & 97.3 & 89.8 & 83.6\\\\\n",
       "\\end{tabular}\n"
      ],
      "text/markdown": [
       "\n",
       "A tibble: 6 × 13\n",
       "\n",
       "| university_rank &lt;chr&gt; | name_of_university &lt;chr&gt; | location &lt;chr&gt; | no_of_student &lt;dbl&gt; | no_of_student_per_staff &lt;dbl&gt; | international_student &lt;chr&gt; | female_male_ratio &lt;chr&gt; | overall_score &lt;chr&gt; | teaching_score &lt;chr&gt; | research_score &lt;chr&gt; | citations_score &lt;chr&gt; | industry_income_score &lt;chr&gt; | international_outlook_score &lt;chr&gt; |\n",
       "|---|---|---|---|---|---|---|---|---|---|---|---|---|\n",
       "| 1 | University of Oxford                  | United Kingdom | 20965 | 10.6 | 42% | 48 : 52 | 96.4 | 92.3 | 99.7 | 99.0 | 74.9 | 96.2 |\n",
       "| 2 | Harvard University                    | United States  | 21887 |  9.6 | 25% | 50 : 50 | 95.2 | 94.8 | 99.0 | 99.3 | 49.5 | 80.5 |\n",
       "| 3 | University of Cambridge               | United Kingdom | 20185 | 11.3 | 39% | 47 : 53 | 94.8 | 90.9 | 99.5 | 97.0 | 54.2 | 95.8 |\n",
       "| 3 | Stanford University                   | United States  | 16164 |  7.1 | 24% | 46 : 54 | 94.8 | 94.2 | 96.7 | 99.8 | 65.0 | 79.8 |\n",
       "| 5 | Massachusetts Institute of Technology | United States  | 11415 |  8.2 | 33% | 40 : 60 | 94.2 | 90.7 | 93.6 | 99.8 | 90.9 | 89.3 |\n",
       "| 6 | California Institute of Technology    | United States  |  2237 |  6.2 | 34% | 37 : 63 | 94.1 | 90.9 | 97.0 | 97.3 | 89.8 | 83.6 |\n",
       "\n"
      ],
      "text/plain": [
       "  university_rank name_of_university                    location      \n",
       "1 1               University of Oxford                  United Kingdom\n",
       "2 2               Harvard University                    United States \n",
       "3 3               University of Cambridge               United Kingdom\n",
       "4 3               Stanford University                   United States \n",
       "5 5               Massachusetts Institute of Technology United States \n",
       "6 6               California Institute of Technology    United States \n",
       "  no_of_student no_of_student_per_staff international_student female_male_ratio\n",
       "1 20965         10.6                    42%                   48 : 52          \n",
       "2 21887          9.6                    25%                   50 : 50          \n",
       "3 20185         11.3                    39%                   47 : 53          \n",
       "4 16164          7.1                    24%                   46 : 54          \n",
       "5 11415          8.2                    33%                   40 : 60          \n",
       "6  2237          6.2                    34%                   37 : 63          \n",
       "  overall_score teaching_score research_score citations_score\n",
       "1 96.4          92.3           99.7           99.0           \n",
       "2 95.2          94.8           99.0           99.3           \n",
       "3 94.8          90.9           99.5           97.0           \n",
       "4 94.8          94.2           96.7           99.8           \n",
       "5 94.2          90.7           93.6           99.8           \n",
       "6 94.1          90.9           97.0           97.3           \n",
       "  industry_income_score international_outlook_score\n",
       "1 74.9                  96.2                       \n",
       "2 49.5                  80.5                       \n",
       "3 54.2                  95.8                       \n",
       "4 65.0                  79.8                       \n",
       "5 90.9                  89.3                       \n",
       "6 89.8                  83.6                       "
      ]
     },
     "metadata": {},
     "output_type": "display_data"
    },
    {
     "name": "stderr",
     "output_type": "stream",
     "text": [
      "Warning message:\n",
      "“\u001b[1m\u001b[22mThere were 6 warnings in `mutate()`.\n",
      "The first warning was:\n",
      "\u001b[1m\u001b[22m\u001b[36mℹ\u001b[39m In argument: `overall_score = as.numeric(overall_score)`.\n",
      "Caused by warning:\n",
      "\u001b[33m!\u001b[39m NAs introduced by coercion\n",
      "\u001b[1m\u001b[22m\u001b[36mℹ\u001b[39m Run `dplyr::last_dplyr_warnings()` to see the 5 remaining warnings.”\n"
     ]
    },
    {
     "data": {
      "text/html": [
       "<table class=\"dataframe\">\n",
       "<caption>A tibble: 6 × 13</caption>\n",
       "<thead>\n",
       "\t<tr><th scope=col>university_rank</th><th scope=col>name_of_university</th><th scope=col>location</th><th scope=col>no_of_student</th><th scope=col>no_of_student_per_staff</th><th scope=col>international_student</th><th scope=col>female_male_ratio</th><th scope=col>overall_score</th><th scope=col>teaching_score</th><th scope=col>research_score</th><th scope=col>citations_score</th><th scope=col>industry_income_score</th><th scope=col>international_outlook_score</th></tr>\n",
       "\t<tr><th scope=col>&lt;chr&gt;</th><th scope=col>&lt;chr&gt;</th><th scope=col>&lt;chr&gt;</th><th scope=col>&lt;dbl&gt;</th><th scope=col>&lt;dbl&gt;</th><th scope=col>&lt;dbl&gt;</th><th scope=col>&lt;dbl&gt;</th><th scope=col>&lt;dbl&gt;</th><th scope=col>&lt;dbl&gt;</th><th scope=col>&lt;dbl&gt;</th><th scope=col>&lt;dbl&gt;</th><th scope=col>&lt;dbl&gt;</th><th scope=col>&lt;dbl&gt;</th></tr>\n",
       "</thead>\n",
       "<tbody>\n",
       "\t<tr><td>1</td><td>University of Oxford                 </td><td>United Kingdom</td><td>20965</td><td>10.6</td><td>0.42</td><td>0.9230769</td><td>96.4</td><td>92.3</td><td>99.7</td><td>99.0</td><td>74.9</td><td>96.2</td></tr>\n",
       "\t<tr><td>2</td><td>Harvard University                   </td><td>United States </td><td>21887</td><td> 9.6</td><td>0.25</td><td>1.0000000</td><td>95.2</td><td>94.8</td><td>99.0</td><td>99.3</td><td>49.5</td><td>80.5</td></tr>\n",
       "\t<tr><td>3</td><td>University of Cambridge              </td><td>United Kingdom</td><td>20185</td><td>11.3</td><td>0.39</td><td>0.8867925</td><td>94.8</td><td>90.9</td><td>99.5</td><td>97.0</td><td>54.2</td><td>95.8</td></tr>\n",
       "\t<tr><td>3</td><td>Stanford University                  </td><td>United States </td><td>16164</td><td> 7.1</td><td>0.24</td><td>0.8518519</td><td>94.8</td><td>94.2</td><td>96.7</td><td>99.8</td><td>65.0</td><td>79.8</td></tr>\n",
       "\t<tr><td>5</td><td>Massachusetts Institute of Technology</td><td>United States </td><td>11415</td><td> 8.2</td><td>0.33</td><td>0.6666667</td><td>94.2</td><td>90.7</td><td>93.6</td><td>99.8</td><td>90.9</td><td>89.3</td></tr>\n",
       "\t<tr><td>6</td><td>California Institute of Technology   </td><td>United States </td><td> 2237</td><td> 6.2</td><td>0.34</td><td>0.5873016</td><td>94.1</td><td>90.9</td><td>97.0</td><td>97.3</td><td>89.8</td><td>83.6</td></tr>\n",
       "</tbody>\n",
       "</table>\n"
      ],
      "text/latex": [
       "A tibble: 6 × 13\n",
       "\\begin{tabular}{lllllllllllll}\n",
       " university\\_rank & name\\_of\\_university & location & no\\_of\\_student & no\\_of\\_student\\_per\\_staff & international\\_student & female\\_male\\_ratio & overall\\_score & teaching\\_score & research\\_score & citations\\_score & industry\\_income\\_score & international\\_outlook\\_score\\\\\n",
       " <chr> & <chr> & <chr> & <dbl> & <dbl> & <dbl> & <dbl> & <dbl> & <dbl> & <dbl> & <dbl> & <dbl> & <dbl>\\\\\n",
       "\\hline\n",
       "\t 1 & University of Oxford                  & United Kingdom & 20965 & 10.6 & 0.42 & 0.9230769 & 96.4 & 92.3 & 99.7 & 99.0 & 74.9 & 96.2\\\\\n",
       "\t 2 & Harvard University                    & United States  & 21887 &  9.6 & 0.25 & 1.0000000 & 95.2 & 94.8 & 99.0 & 99.3 & 49.5 & 80.5\\\\\n",
       "\t 3 & University of Cambridge               & United Kingdom & 20185 & 11.3 & 0.39 & 0.8867925 & 94.8 & 90.9 & 99.5 & 97.0 & 54.2 & 95.8\\\\\n",
       "\t 3 & Stanford University                   & United States  & 16164 &  7.1 & 0.24 & 0.8518519 & 94.8 & 94.2 & 96.7 & 99.8 & 65.0 & 79.8\\\\\n",
       "\t 5 & Massachusetts Institute of Technology & United States  & 11415 &  8.2 & 0.33 & 0.6666667 & 94.2 & 90.7 & 93.6 & 99.8 & 90.9 & 89.3\\\\\n",
       "\t 6 & California Institute of Technology    & United States  &  2237 &  6.2 & 0.34 & 0.5873016 & 94.1 & 90.9 & 97.0 & 97.3 & 89.8 & 83.6\\\\\n",
       "\\end{tabular}\n"
      ],
      "text/markdown": [
       "\n",
       "A tibble: 6 × 13\n",
       "\n",
       "| university_rank &lt;chr&gt; | name_of_university &lt;chr&gt; | location &lt;chr&gt; | no_of_student &lt;dbl&gt; | no_of_student_per_staff &lt;dbl&gt; | international_student &lt;dbl&gt; | female_male_ratio &lt;dbl&gt; | overall_score &lt;dbl&gt; | teaching_score &lt;dbl&gt; | research_score &lt;dbl&gt; | citations_score &lt;dbl&gt; | industry_income_score &lt;dbl&gt; | international_outlook_score &lt;dbl&gt; |\n",
       "|---|---|---|---|---|---|---|---|---|---|---|---|---|\n",
       "| 1 | University of Oxford                  | United Kingdom | 20965 | 10.6 | 0.42 | 0.9230769 | 96.4 | 92.3 | 99.7 | 99.0 | 74.9 | 96.2 |\n",
       "| 2 | Harvard University                    | United States  | 21887 |  9.6 | 0.25 | 1.0000000 | 95.2 | 94.8 | 99.0 | 99.3 | 49.5 | 80.5 |\n",
       "| 3 | University of Cambridge               | United Kingdom | 20185 | 11.3 | 0.39 | 0.8867925 | 94.8 | 90.9 | 99.5 | 97.0 | 54.2 | 95.8 |\n",
       "| 3 | Stanford University                   | United States  | 16164 |  7.1 | 0.24 | 0.8518519 | 94.8 | 94.2 | 96.7 | 99.8 | 65.0 | 79.8 |\n",
       "| 5 | Massachusetts Institute of Technology | United States  | 11415 |  8.2 | 0.33 | 0.6666667 | 94.2 | 90.7 | 93.6 | 99.8 | 90.9 | 89.3 |\n",
       "| 6 | California Institute of Technology    | United States  |  2237 |  6.2 | 0.34 | 0.5873016 | 94.1 | 90.9 | 97.0 | 97.3 | 89.8 | 83.6 |\n",
       "\n"
      ],
      "text/plain": [
       "  university_rank name_of_university                    location      \n",
       "1 1               University of Oxford                  United Kingdom\n",
       "2 2               Harvard University                    United States \n",
       "3 3               University of Cambridge               United Kingdom\n",
       "4 3               Stanford University                   United States \n",
       "5 5               Massachusetts Institute of Technology United States \n",
       "6 6               California Institute of Technology    United States \n",
       "  no_of_student no_of_student_per_staff international_student female_male_ratio\n",
       "1 20965         10.6                    0.42                  0.9230769        \n",
       "2 21887          9.6                    0.25                  1.0000000        \n",
       "3 20185         11.3                    0.39                  0.8867925        \n",
       "4 16164          7.1                    0.24                  0.8518519        \n",
       "5 11415          8.2                    0.33                  0.6666667        \n",
       "6  2237          6.2                    0.34                  0.5873016        \n",
       "  overall_score teaching_score research_score citations_score\n",
       "1 96.4          92.3           99.7           99.0           \n",
       "2 95.2          94.8           99.0           99.3           \n",
       "3 94.8          90.9           99.5           97.0           \n",
       "4 94.8          94.2           96.7           99.8           \n",
       "5 94.2          90.7           93.6           99.8           \n",
       "6 94.1          90.9           97.0           97.3           \n",
       "  industry_income_score international_outlook_score\n",
       "1 74.9                  96.2                       \n",
       "2 49.5                  80.5                       \n",
       "3 54.2                  95.8                       \n",
       "4 65.0                  79.8                       \n",
       "5 90.9                  89.3                       \n",
       "6 89.8                  83.6                       "
      ]
     },
     "metadata": {},
     "output_type": "display_data"
    }
   ],
   "source": [
    "# part a\n",
    "#loading and fixing column names\n",
    "university_data <- read_csv(\"uni_rankings_2023.csv\")\n",
    "colnames(university_data) <- c(\"university_rank\", \"name_of_university\", \"location\", \"no_of_student\", \"no_of_student_per_staff\", \n",
    "                               \"international_student\", \"female_male_ratio\", \"overall_score\", \"teaching_score\", \"research_score\",\n",
    "                               \"citations_score\",\"industry_income_score\", \"international_outlook_score\")\n",
    "head(university_data)\n",
    "\n",
    "# changing data from chr to dbl\n",
    "university_data_cleaned <- university_data |>\n",
    "mutate(international_student = as.numeric(gsub(\"%\", \"\", international_student)) / 100,\n",
    "      female_male_ratio = as.numeric(sub(\":.*\", \"\", female_male_ratio))/as.numeric(sub(\".*:\", \"\", female_male_ratio)),\n",
    "      overall_score = as.numeric(overall_score),\n",
    "      teaching_score = as.numeric(teaching_score),\n",
    "      research_score = as.numeric(research_score),\n",
    "      citations_score = as.numeric(citations_score),\n",
    "      industry_income_score = as.numeric(industry_income_score),\n",
    "      international_outlook_score = as.numeric(international_outlook_score)) |>\n",
    "drop_na()\n",
    "\n",
    "head(university_data_cleaned)"
   ]
  },
  {
   "cell_type": "markdown",
   "id": "626f0568-89be-4c9a-91fe-2861c9cbc0ca",
   "metadata": {},
   "source": [
    "### part b"
   ]
  },
  {
   "cell_type": "markdown",
   "id": "2c8b0ddf-20a1-47ea-ba6b-80e62b2e2877",
   "metadata": {},
   "source": [
    "We will first fit the full linear model."
   ]
  },
  {
   "cell_type": "code",
   "execution_count": 107,
   "id": "6ac02adf-9cfa-4f19-a860-5e854ceaaf0c",
   "metadata": {},
   "outputs": [
    {
     "data": {
      "text/html": [
       "<table class=\"dataframe\">\n",
       "<caption>A tibble: 10 × 5</caption>\n",
       "<thead>\n",
       "\t<tr><th scope=col>term</th><th scope=col>estimate</th><th scope=col>std.error</th><th scope=col>statistic</th><th scope=col>p.value</th></tr>\n",
       "\t<tr><th scope=col>&lt;chr&gt;</th><th scope=col>&lt;dbl&gt;</th><th scope=col>&lt;dbl&gt;</th><th scope=col>&lt;dbl&gt;</th><th scope=col>&lt;dbl&gt;</th></tr>\n",
       "</thead>\n",
       "<tbody>\n",
       "\t<tr><td>(Intercept)                </td><td> 1.850202e-02</td><td>3.456206e-02</td><td>  0.53532757</td><td> 5.933669e-01</td></tr>\n",
       "\t<tr><td>no_of_student              </td><td>-8.625404e-08</td><td>2.270879e-07</td><td> -0.37982662</td><td> 7.047136e-01</td></tr>\n",
       "\t<tr><td>no_of_student_per_staff    </td><td>-3.538851e-04</td><td>3.015935e-04</td><td> -1.17338432</td><td> 2.428551e-01</td></tr>\n",
       "\t<tr><td>international_student      </td><td> 1.294070e-03</td><td>3.714650e-02</td><td>  0.03483693</td><td> 9.722649e-01</td></tr>\n",
       "\t<tr><td>female_male_ratio          </td><td>-1.823315e-02</td><td>9.996851e-03</td><td> -1.82388907</td><td> 7.053866e-02</td></tr>\n",
       "\t<tr><td>teaching_score             </td><td> 2.988413e-01</td><td>5.299324e-04</td><td>563.92339403</td><td>3.234071e-216</td></tr>\n",
       "\t<tr><td>research_score             </td><td> 3.008783e-01</td><td>4.628687e-04</td><td>650.02951100</td><td>5.452256e-224</td></tr>\n",
       "\t<tr><td>citations_score            </td><td> 3.005338e-01</td><td>3.213449e-04</td><td>935.23775731</td><td>6.825761e-244</td></tr>\n",
       "\t<tr><td>industry_income_score      </td><td> 2.487489e-02</td><td>1.831504e-04</td><td>135.81670636</td><td>1.727166e-138</td></tr>\n",
       "\t<tr><td>international_outlook_score</td><td> 7.482483e-02</td><td>2.889544e-04</td><td>258.95029499</td><td>1.142898e-173</td></tr>\n",
       "</tbody>\n",
       "</table>\n"
      ],
      "text/latex": [
       "A tibble: 10 × 5\n",
       "\\begin{tabular}{lllll}\n",
       " term & estimate & std.error & statistic & p.value\\\\\n",
       " <chr> & <dbl> & <dbl> & <dbl> & <dbl>\\\\\n",
       "\\hline\n",
       "\t (Intercept)                 &  1.850202e-02 & 3.456206e-02 &   0.53532757 &  5.933669e-01\\\\\n",
       "\t no\\_of\\_student               & -8.625404e-08 & 2.270879e-07 &  -0.37982662 &  7.047136e-01\\\\\n",
       "\t no\\_of\\_student\\_per\\_staff     & -3.538851e-04 & 3.015935e-04 &  -1.17338432 &  2.428551e-01\\\\\n",
       "\t international\\_student       &  1.294070e-03 & 3.714650e-02 &   0.03483693 &  9.722649e-01\\\\\n",
       "\t female\\_male\\_ratio           & -1.823315e-02 & 9.996851e-03 &  -1.82388907 &  7.053866e-02\\\\\n",
       "\t teaching\\_score              &  2.988413e-01 & 5.299324e-04 & 563.92339403 & 3.234071e-216\\\\\n",
       "\t research\\_score              &  3.008783e-01 & 4.628687e-04 & 650.02951100 & 5.452256e-224\\\\\n",
       "\t citations\\_score             &  3.005338e-01 & 3.213449e-04 & 935.23775731 & 6.825761e-244\\\\\n",
       "\t industry\\_income\\_score       &  2.487489e-02 & 1.831504e-04 & 135.81670636 & 1.727166e-138\\\\\n",
       "\t international\\_outlook\\_score &  7.482483e-02 & 2.889544e-04 & 258.95029499 & 1.142898e-173\\\\\n",
       "\\end{tabular}\n"
      ],
      "text/markdown": [
       "\n",
       "A tibble: 10 × 5\n",
       "\n",
       "| term &lt;chr&gt; | estimate &lt;dbl&gt; | std.error &lt;dbl&gt; | statistic &lt;dbl&gt; | p.value &lt;dbl&gt; |\n",
       "|---|---|---|---|---|\n",
       "| (Intercept)                 |  1.850202e-02 | 3.456206e-02 |   0.53532757 |  5.933669e-01 |\n",
       "| no_of_student               | -8.625404e-08 | 2.270879e-07 |  -0.37982662 |  7.047136e-01 |\n",
       "| no_of_student_per_staff     | -3.538851e-04 | 3.015935e-04 |  -1.17338432 |  2.428551e-01 |\n",
       "| international_student       |  1.294070e-03 | 3.714650e-02 |   0.03483693 |  9.722649e-01 |\n",
       "| female_male_ratio           | -1.823315e-02 | 9.996851e-03 |  -1.82388907 |  7.053866e-02 |\n",
       "| teaching_score              |  2.988413e-01 | 5.299324e-04 | 563.92339403 | 3.234071e-216 |\n",
       "| research_score              |  3.008783e-01 | 4.628687e-04 | 650.02951100 | 5.452256e-224 |\n",
       "| citations_score             |  3.005338e-01 | 3.213449e-04 | 935.23775731 | 6.825761e-244 |\n",
       "| industry_income_score       |  2.487489e-02 | 1.831504e-04 | 135.81670636 | 1.727166e-138 |\n",
       "| international_outlook_score |  7.482483e-02 | 2.889544e-04 | 258.95029499 | 1.142898e-173 |\n",
       "\n"
      ],
      "text/plain": [
       "   term                        estimate      std.error    statistic   \n",
       "1  (Intercept)                  1.850202e-02 3.456206e-02   0.53532757\n",
       "2  no_of_student               -8.625404e-08 2.270879e-07  -0.37982662\n",
       "3  no_of_student_per_staff     -3.538851e-04 3.015935e-04  -1.17338432\n",
       "4  international_student        1.294070e-03 3.714650e-02   0.03483693\n",
       "5  female_male_ratio           -1.823315e-02 9.996851e-03  -1.82388907\n",
       "6  teaching_score               2.988413e-01 5.299324e-04 563.92339403\n",
       "7  research_score               3.008783e-01 4.628687e-04 650.02951100\n",
       "8  citations_score              3.005338e-01 3.213449e-04 935.23775731\n",
       "9  industry_income_score        2.487489e-02 1.831504e-04 135.81670636\n",
       "10 international_outlook_score  7.482483e-02 2.889544e-04 258.95029499\n",
       "   p.value      \n",
       "1   5.933669e-01\n",
       "2   7.047136e-01\n",
       "3   2.428551e-01\n",
       "4   9.722649e-01\n",
       "5   7.053866e-02\n",
       "6  3.234071e-216\n",
       "7  5.452256e-224\n",
       "8  6.825761e-244\n",
       "9  1.727166e-138\n",
       "10 1.142898e-173"
      ]
     },
     "metadata": {},
     "output_type": "display_data"
    }
   ],
   "source": [
    "# Main Developer: Kaichi\n",
    "\n",
    "# fitting the linear model\n",
    "university_lm <- lm(overall_score ~ . - university_rank - name_of_university - location, data = university_data_cleaned)\n",
    "uni_tidy_lm <- tidy(university_lm)\n",
    "uni_tidy_lm"
   ]
  },
  {
   "cell_type": "markdown",
   "id": "4f43290c-1a17-46eb-b0cf-8ffa0c893500",
   "metadata": {},
   "source": [
    "**Table 1**: Estimated Coefficients of `university_lm`"
   ]
  },
  {
   "cell_type": "markdown",
   "id": "e3d1f0fd-9e6b-4fd5-b461-288e8b3a431e",
   "metadata": {},
   "source": [
    "Now we will verify their vifs to identify if multicollinearity exists"
   ]
  },
  {
   "cell_type": "code",
   "execution_count": 108,
   "id": "faa89fb0-2db9-405f-ad78-c867319ffcb5",
   "metadata": {},
   "outputs": [
    {
     "data": {
      "text/html": [
       "<style>\n",
       ".dl-inline {width: auto; margin:0; padding: 0}\n",
       ".dl-inline>dt, .dl-inline>dd {float: none; width: auto; display: inline-block}\n",
       ".dl-inline>dt::after {content: \":\\0020\"; padding-right: .5ex}\n",
       ".dl-inline>dt:not(:first-of-type) {padding-left: .5ex}\n",
       "</style><dl class=dl-inline><dt>no_of_student</dt><dd>1.4215810333363</dd><dt>no_of_student_per_staff</dt><dd>1.4595951187658</dd><dt>international_student</dt><dd>3.00596229867457</dd><dt>female_male_ratio</dt><dd>1.59456070204609</dd><dt>teaching_score</dt><dd>9.42861107914553</dd><dt>research_score</dt><dd>9.26724527607537</dd><dt>citations_score</dt><dd>1.61694127118814</dd><dt>industry_income_score</dt><dd>1.53760390695446</dd><dt>international_outlook_score</dt><dd>3.12597890691303</dd></dl>\n"
      ],
      "text/latex": [
       "\\begin{description*}\n",
       "\\item[no\\textbackslash{}\\_of\\textbackslash{}\\_student] 1.4215810333363\n",
       "\\item[no\\textbackslash{}\\_of\\textbackslash{}\\_student\\textbackslash{}\\_per\\textbackslash{}\\_staff] 1.4595951187658\n",
       "\\item[international\\textbackslash{}\\_student] 3.00596229867457\n",
       "\\item[female\\textbackslash{}\\_male\\textbackslash{}\\_ratio] 1.59456070204609\n",
       "\\item[teaching\\textbackslash{}\\_score] 9.42861107914553\n",
       "\\item[research\\textbackslash{}\\_score] 9.26724527607537\n",
       "\\item[citations\\textbackslash{}\\_score] 1.61694127118814\n",
       "\\item[industry\\textbackslash{}\\_income\\textbackslash{}\\_score] 1.53760390695446\n",
       "\\item[international\\textbackslash{}\\_outlook\\textbackslash{}\\_score] 3.12597890691303\n",
       "\\end{description*}\n"
      ],
      "text/markdown": [
       "no_of_student\n",
       ":   1.4215810333363no_of_student_per_staff\n",
       ":   1.4595951187658international_student\n",
       ":   3.00596229867457female_male_ratio\n",
       ":   1.59456070204609teaching_score\n",
       ":   9.42861107914553research_score\n",
       ":   9.26724527607537citations_score\n",
       ":   1.61694127118814industry_income_score\n",
       ":   1.53760390695446international_outlook_score\n",
       ":   3.12597890691303\n",
       "\n"
      ],
      "text/plain": [
       "              no_of_student     no_of_student_per_staff \n",
       "                   1.421581                    1.459595 \n",
       "      international_student           female_male_ratio \n",
       "                   3.005962                    1.594561 \n",
       "             teaching_score              research_score \n",
       "                   9.428611                    9.267245 \n",
       "            citations_score       industry_income_score \n",
       "                   1.616941                    1.537604 \n",
       "international_outlook_score \n",
       "                   3.125979 "
      ]
     },
     "metadata": {},
     "output_type": "display_data"
    }
   ],
   "source": [
    "# Main Developer: Kaichi\n",
    "\n",
    "# check their vifs\n",
    "university_vif <- vif(university_lm)\n",
    "university_vif"
   ]
  },
  {
   "cell_type": "markdown",
   "id": "5df9625b-5832-497e-a66d-2dc91d3ec121",
   "metadata": {},
   "source": [
    "Research score and teaching score have concerningly high variance inflation factors, indicating we should remove these variables from the model. However, upon closer inspection, the two variables are highly correlated to each other, thus, removing the variable with the highest vif should suffice."
   ]
  },
  {
   "cell_type": "code",
   "execution_count": 117,
   "id": "226ff524-ea80-4f94-a059-49fbda49e6f4",
   "metadata": {},
   "outputs": [
    {
     "data": {
      "text/html": [
       "<style>\n",
       ".dl-inline {width: auto; margin:0; padding: 0}\n",
       ".dl-inline>dt, .dl-inline>dd {float: none; width: auto; display: inline-block}\n",
       ".dl-inline>dt::after {content: \":\\0020\"; padding-right: .5ex}\n",
       ".dl-inline>dt:not(:first-of-type) {padding-left: .5ex}\n",
       "</style><dl class=dl-inline><dt>no_of_student</dt><dd>1.3839670888683</dd><dt>no_of_student_per_staff</dt><dd>1.3889492352708</dd><dt>international_student</dt><dd>2.99945544485571</dd><dt>female_male_ratio</dt><dd>1.44659340604117</dd><dt>research_score</dt><dd>1.50052834105538</dd><dt>citations_score</dt><dd>1.58051215853554</dd><dt>industry_income_score</dt><dd>1.49800838045304</dd><dt>international_outlook_score</dt><dd>2.76520732419341</dd></dl>\n"
      ],
      "text/latex": [
       "\\begin{description*}\n",
       "\\item[no\\textbackslash{}\\_of\\textbackslash{}\\_student] 1.3839670888683\n",
       "\\item[no\\textbackslash{}\\_of\\textbackslash{}\\_student\\textbackslash{}\\_per\\textbackslash{}\\_staff] 1.3889492352708\n",
       "\\item[international\\textbackslash{}\\_student] 2.99945544485571\n",
       "\\item[female\\textbackslash{}\\_male\\textbackslash{}\\_ratio] 1.44659340604117\n",
       "\\item[research\\textbackslash{}\\_score] 1.50052834105538\n",
       "\\item[citations\\textbackslash{}\\_score] 1.58051215853554\n",
       "\\item[industry\\textbackslash{}\\_income\\textbackslash{}\\_score] 1.49800838045304\n",
       "\\item[international\\textbackslash{}\\_outlook\\textbackslash{}\\_score] 2.76520732419341\n",
       "\\end{description*}\n"
      ],
      "text/markdown": [
       "no_of_student\n",
       ":   1.3839670888683no_of_student_per_staff\n",
       ":   1.3889492352708international_student\n",
       ":   2.99945544485571female_male_ratio\n",
       ":   1.44659340604117research_score\n",
       ":   1.50052834105538citations_score\n",
       ":   1.58051215853554industry_income_score\n",
       ":   1.49800838045304international_outlook_score\n",
       ":   2.76520732419341\n",
       "\n"
      ],
      "text/plain": [
       "              no_of_student     no_of_student_per_staff \n",
       "                   1.383967                    1.388949 \n",
       "      international_student           female_male_ratio \n",
       "                   2.999455                    1.446593 \n",
       "             research_score             citations_score \n",
       "                   1.500528                    1.580512 \n",
       "      industry_income_score international_outlook_score \n",
       "                   1.498008                    2.765207 "
      ]
     },
     "metadata": {},
     "output_type": "display_data"
    }
   ],
   "source": [
    "# Main Developer: Kaichi\n",
    "\n",
    "teaching_removed_lm <- lm(overall_score ~ . - university_rank - name_of_university - location - teaching_score, \n",
    "                          data = university_data_cleaned)\n",
    "teaching_removed_vif <- vif(teaching_removed_lm)\n",
    "teaching_removed_vif"
   ]
  },
  {
   "cell_type": "markdown",
   "id": "33572df2-e87b-4a29-9fb8-677588b6b758",
   "metadata": {},
   "source": [
    "However, using only the vif may not result in the best fitted model; thus, we will use regularization techniques to select the best variables to include in our final model. Since this data has a large number of covariates where multicollinearity could potentially be an issue and we want to find the best variables to predict future values of `overall_score`, we will run Lasso regularization to select our varaiables for the final model. "
   ]
  },
  {
   "cell_type": "markdown",
   "id": "6e8f93cf-76ce-4f8b-bc79-0c1118998c6f",
   "metadata": {},
   "source": [
    "First we will split our data into training(70%) and testing(30%) data."
   ]
  },
  {
   "cell_type": "code",
   "execution_count": 121,
   "id": "3e61fd25-385e-472d-80a2-b3f5b39eebd4",
   "metadata": {},
   "outputs": [
    {
     "data": {
      "text/html": [
       "<table class=\"dataframe\">\n",
       "<caption>A tibble: 6 × 13</caption>\n",
       "<thead>\n",
       "\t<tr><th scope=col>university_rank</th><th scope=col>name_of_university</th><th scope=col>location</th><th scope=col>no_of_student</th><th scope=col>no_of_student_per_staff</th><th scope=col>international_student</th><th scope=col>female_male_ratio</th><th scope=col>overall_score</th><th scope=col>teaching_score</th><th scope=col>research_score</th><th scope=col>citations_score</th><th scope=col>industry_income_score</th><th scope=col>international_outlook_score</th></tr>\n",
       "\t<tr><th scope=col>&lt;chr&gt;</th><th scope=col>&lt;chr&gt;</th><th scope=col>&lt;chr&gt;</th><th scope=col>&lt;dbl&gt;</th><th scope=col>&lt;dbl&gt;</th><th scope=col>&lt;dbl&gt;</th><th scope=col>&lt;dbl&gt;</th><th scope=col>&lt;dbl&gt;</th><th scope=col>&lt;dbl&gt;</th><th scope=col>&lt;dbl&gt;</th><th scope=col>&lt;dbl&gt;</th><th scope=col>&lt;dbl&gt;</th><th scope=col>&lt;dbl&gt;</th></tr>\n",
       "</thead>\n",
       "<tbody>\n",
       "\t<tr><td>21 </td><td>University of California, Los Angeles                     </td><td>United States</td><td>42434</td><td> 9.7</td><td>0.16</td><td>1.2727273</td><td>85.8</td><td>80.4</td><td>88.9</td><td>95.4</td><td> 58.8</td><td>65.0</td></tr>\n",
       "\t<tr><td>117</td><td>Aarhus University                                         </td><td>Denmark      </td><td>26475</td><td>13.5</td><td>0.10</td><td>1.2222222</td><td>61.2</td><td>40.6</td><td>60.0</td><td>77.6</td><td> 74.1</td><td>77.9</td></tr>\n",
       "\t<tr><td>139</td><td>University of Würzburg                                    </td><td>Germany      </td><td>23754</td><td>40.7</td><td>0.10</td><td>1.3809524</td><td>58.4</td><td>40.7</td><td>45.2</td><td>87.8</td><td> 79.4</td><td>57.3</td></tr>\n",
       "\t<tr><td>44 </td><td>Monash University                                         </td><td>Australia    </td><td>58725</td><td>42.5</td><td>0.41</td><td>1.3255814</td><td>73.6</td><td>56.9</td><td>68.7</td><td>90.4</td><td> 78.4</td><td>91.0</td></tr>\n",
       "\t<tr><td>91 </td><td>Korea Advanced Institute of Science and Technology (KAIST)</td><td>South Korea  </td><td> 9946</td><td>10.7</td><td>0.09</td><td>0.2658228</td><td>64.2</td><td>64.5</td><td>66.0</td><td>65.7</td><td>100.0</td><td>38.2</td></tr>\n",
       "\t<tr><td>48 </td><td>University of Illinois at Urbana-Champaign                </td><td>United States</td><td>48674</td><td>17.4</td><td>0.22</td><td>0.9230769</td><td>72.7</td><td>67.1</td><td>78.9</td><td>78.1</td><td> 50.1</td><td>56.2</td></tr>\n",
       "</tbody>\n",
       "</table>\n"
      ],
      "text/latex": [
       "A tibble: 6 × 13\n",
       "\\begin{tabular}{lllllllllllll}\n",
       " university\\_rank & name\\_of\\_university & location & no\\_of\\_student & no\\_of\\_student\\_per\\_staff & international\\_student & female\\_male\\_ratio & overall\\_score & teaching\\_score & research\\_score & citations\\_score & industry\\_income\\_score & international\\_outlook\\_score\\\\\n",
       " <chr> & <chr> & <chr> & <dbl> & <dbl> & <dbl> & <dbl> & <dbl> & <dbl> & <dbl> & <dbl> & <dbl> & <dbl>\\\\\n",
       "\\hline\n",
       "\t 21  & University of California, Los Angeles                      & United States & 42434 &  9.7 & 0.16 & 1.2727273 & 85.8 & 80.4 & 88.9 & 95.4 &  58.8 & 65.0\\\\\n",
       "\t 117 & Aarhus University                                          & Denmark       & 26475 & 13.5 & 0.10 & 1.2222222 & 61.2 & 40.6 & 60.0 & 77.6 &  74.1 & 77.9\\\\\n",
       "\t 139 & University of Würzburg                                     & Germany       & 23754 & 40.7 & 0.10 & 1.3809524 & 58.4 & 40.7 & 45.2 & 87.8 &  79.4 & 57.3\\\\\n",
       "\t 44  & Monash University                                          & Australia     & 58725 & 42.5 & 0.41 & 1.3255814 & 73.6 & 56.9 & 68.7 & 90.4 &  78.4 & 91.0\\\\\n",
       "\t 91  & Korea Advanced Institute of Science and Technology (KAIST) & South Korea   &  9946 & 10.7 & 0.09 & 0.2658228 & 64.2 & 64.5 & 66.0 & 65.7 & 100.0 & 38.2\\\\\n",
       "\t 48  & University of Illinois at Urbana-Champaign                 & United States & 48674 & 17.4 & 0.22 & 0.9230769 & 72.7 & 67.1 & 78.9 & 78.1 &  50.1 & 56.2\\\\\n",
       "\\end{tabular}\n"
      ],
      "text/markdown": [
       "\n",
       "A tibble: 6 × 13\n",
       "\n",
       "| university_rank &lt;chr&gt; | name_of_university &lt;chr&gt; | location &lt;chr&gt; | no_of_student &lt;dbl&gt; | no_of_student_per_staff &lt;dbl&gt; | international_student &lt;dbl&gt; | female_male_ratio &lt;dbl&gt; | overall_score &lt;dbl&gt; | teaching_score &lt;dbl&gt; | research_score &lt;dbl&gt; | citations_score &lt;dbl&gt; | industry_income_score &lt;dbl&gt; | international_outlook_score &lt;dbl&gt; |\n",
       "|---|---|---|---|---|---|---|---|---|---|---|---|---|\n",
       "| 21  | University of California, Los Angeles                      | United States | 42434 |  9.7 | 0.16 | 1.2727273 | 85.8 | 80.4 | 88.9 | 95.4 |  58.8 | 65.0 |\n",
       "| 117 | Aarhus University                                          | Denmark       | 26475 | 13.5 | 0.10 | 1.2222222 | 61.2 | 40.6 | 60.0 | 77.6 |  74.1 | 77.9 |\n",
       "| 139 | University of Würzburg                                     | Germany       | 23754 | 40.7 | 0.10 | 1.3809524 | 58.4 | 40.7 | 45.2 | 87.8 |  79.4 | 57.3 |\n",
       "| 44  | Monash University                                          | Australia     | 58725 | 42.5 | 0.41 | 1.3255814 | 73.6 | 56.9 | 68.7 | 90.4 |  78.4 | 91.0 |\n",
       "| 91  | Korea Advanced Institute of Science and Technology (KAIST) | South Korea   |  9946 | 10.7 | 0.09 | 0.2658228 | 64.2 | 64.5 | 66.0 | 65.7 | 100.0 | 38.2 |\n",
       "| 48  | University of Illinois at Urbana-Champaign                 | United States | 48674 | 17.4 | 0.22 | 0.9230769 | 72.7 | 67.1 | 78.9 | 78.1 |  50.1 | 56.2 |\n",
       "\n"
      ],
      "text/plain": [
       "  university_rank name_of_university                                        \n",
       "1 21              University of California, Los Angeles                     \n",
       "2 117             Aarhus University                                         \n",
       "3 139             University of Würzburg                                    \n",
       "4 44              Monash University                                         \n",
       "5 91              Korea Advanced Institute of Science and Technology (KAIST)\n",
       "6 48              University of Illinois at Urbana-Champaign                \n",
       "  location      no_of_student no_of_student_per_staff international_student\n",
       "1 United States 42434          9.7                    0.16                 \n",
       "2 Denmark       26475         13.5                    0.10                 \n",
       "3 Germany       23754         40.7                    0.10                 \n",
       "4 Australia     58725         42.5                    0.41                 \n",
       "5 South Korea    9946         10.7                    0.09                 \n",
       "6 United States 48674         17.4                    0.22                 \n",
       "  female_male_ratio overall_score teaching_score research_score citations_score\n",
       "1 1.2727273         85.8          80.4           88.9           95.4           \n",
       "2 1.2222222         61.2          40.6           60.0           77.6           \n",
       "3 1.3809524         58.4          40.7           45.2           87.8           \n",
       "4 1.3255814         73.6          56.9           68.7           90.4           \n",
       "5 0.2658228         64.2          64.5           66.0           65.7           \n",
       "6 0.9230769         72.7          67.1           78.9           78.1           \n",
       "  industry_income_score international_outlook_score\n",
       "1  58.8                 65.0                       \n",
       "2  74.1                 77.9                       \n",
       "3  79.4                 57.3                       \n",
       "4  78.4                 91.0                       \n",
       "5 100.0                 38.2                       \n",
       "6  50.1                 56.2                       "
      ]
     },
     "metadata": {},
     "output_type": "display_data"
    }
   ],
   "source": [
    "# Main Developer: Kaichi\n",
    "\n",
    "data_split <- initial_split(university_data_cleaned, prop = 0.7) #splits the dataset into a 7:3 ratio\n",
    "uni_training <- training(data_split) #creates training data which includes 70% of original data\n",
    "uni_testing <- testing(data_split) #creates testing data which includes 30% of original data\n",
    "head(uni_training)"
   ]
  },
  {
   "cell_type": "markdown",
   "id": "70b02af8-7888-4d9f-b6e7-01424038b75d",
   "metadata": {},
   "source": [
    "**Table 2**: First 5 Rows of Training Data"
   ]
  },
  {
   "cell_type": "code",
   "execution_count": 122,
   "id": "7b75a681-9e28-4c58-a866-406375c6c1ea",
   "metadata": {},
   "outputs": [
    {
     "data": {
      "text/html": [
       "<table class=\"dataframe\">\n",
       "<caption>A tibble: 6 × 13</caption>\n",
       "<thead>\n",
       "\t<tr><th scope=col>university_rank</th><th scope=col>name_of_university</th><th scope=col>location</th><th scope=col>no_of_student</th><th scope=col>no_of_student_per_staff</th><th scope=col>international_student</th><th scope=col>female_male_ratio</th><th scope=col>overall_score</th><th scope=col>teaching_score</th><th scope=col>research_score</th><th scope=col>citations_score</th><th scope=col>industry_income_score</th><th scope=col>international_outlook_score</th></tr>\n",
       "\t<tr><th scope=col>&lt;chr&gt;</th><th scope=col>&lt;chr&gt;</th><th scope=col>&lt;chr&gt;</th><th scope=col>&lt;dbl&gt;</th><th scope=col>&lt;dbl&gt;</th><th scope=col>&lt;dbl&gt;</th><th scope=col>&lt;dbl&gt;</th><th scope=col>&lt;dbl&gt;</th><th scope=col>&lt;dbl&gt;</th><th scope=col>&lt;dbl&gt;</th><th scope=col>&lt;dbl&gt;</th><th scope=col>&lt;dbl&gt;</th><th scope=col>&lt;dbl&gt;</th></tr>\n",
       "</thead>\n",
       "<tbody>\n",
       "\t<tr><td>1 </td><td>University of Oxford                 </td><td>United Kingdom</td><td>20965</td><td>10.6</td><td>0.42</td><td>0.9230769</td><td>96.4</td><td>92.3</td><td>99.7</td><td>99.0</td><td>74.9</td><td>96.2</td></tr>\n",
       "\t<tr><td>5 </td><td>Massachusetts Institute of Technology</td><td>United States </td><td>11415</td><td> 8.2</td><td>0.33</td><td>0.6666667</td><td>94.2</td><td>90.7</td><td>93.6</td><td>99.8</td><td>90.9</td><td>89.3</td></tr>\n",
       "\t<tr><td>7 </td><td>Princeton University                 </td><td>United States </td><td> 8279</td><td> 8.0</td><td>0.23</td><td>0.8518519</td><td>92.4</td><td>87.6</td><td>95.9</td><td>99.1</td><td>66.0</td><td>80.3</td></tr>\n",
       "\t<tr><td>10</td><td>Imperial College London              </td><td>United Kingdom</td><td>18545</td><td>11.2</td><td>0.61</td><td>0.6666667</td><td>90.4</td><td>82.8</td><td>90.8</td><td>98.3</td><td>59.8</td><td>97.5</td></tr>\n",
       "\t<tr><td>13</td><td>The University of Chicago            </td><td>United States </td><td>15366</td><td> 6.0</td><td>0.36</td><td>0.8867925</td><td>88.9</td><td>86.5</td><td>88.8</td><td>97.7</td><td>56.2</td><td>74.2</td></tr>\n",
       "\t<tr><td>14</td><td>University of Pennsylvania           </td><td>United States </td><td>21453</td><td> 6.3</td><td>0.23</td><td>1.1276596</td><td>88.8</td><td>86.0</td><td>88.8</td><td>97.0</td><td>75.8</td><td>71.5</td></tr>\n",
       "</tbody>\n",
       "</table>\n"
      ],
      "text/latex": [
       "A tibble: 6 × 13\n",
       "\\begin{tabular}{lllllllllllll}\n",
       " university\\_rank & name\\_of\\_university & location & no\\_of\\_student & no\\_of\\_student\\_per\\_staff & international\\_student & female\\_male\\_ratio & overall\\_score & teaching\\_score & research\\_score & citations\\_score & industry\\_income\\_score & international\\_outlook\\_score\\\\\n",
       " <chr> & <chr> & <chr> & <dbl> & <dbl> & <dbl> & <dbl> & <dbl> & <dbl> & <dbl> & <dbl> & <dbl> & <dbl>\\\\\n",
       "\\hline\n",
       "\t 1  & University of Oxford                  & United Kingdom & 20965 & 10.6 & 0.42 & 0.9230769 & 96.4 & 92.3 & 99.7 & 99.0 & 74.9 & 96.2\\\\\n",
       "\t 5  & Massachusetts Institute of Technology & United States  & 11415 &  8.2 & 0.33 & 0.6666667 & 94.2 & 90.7 & 93.6 & 99.8 & 90.9 & 89.3\\\\\n",
       "\t 7  & Princeton University                  & United States  &  8279 &  8.0 & 0.23 & 0.8518519 & 92.4 & 87.6 & 95.9 & 99.1 & 66.0 & 80.3\\\\\n",
       "\t 10 & Imperial College London               & United Kingdom & 18545 & 11.2 & 0.61 & 0.6666667 & 90.4 & 82.8 & 90.8 & 98.3 & 59.8 & 97.5\\\\\n",
       "\t 13 & The University of Chicago             & United States  & 15366 &  6.0 & 0.36 & 0.8867925 & 88.9 & 86.5 & 88.8 & 97.7 & 56.2 & 74.2\\\\\n",
       "\t 14 & University of Pennsylvania            & United States  & 21453 &  6.3 & 0.23 & 1.1276596 & 88.8 & 86.0 & 88.8 & 97.0 & 75.8 & 71.5\\\\\n",
       "\\end{tabular}\n"
      ],
      "text/markdown": [
       "\n",
       "A tibble: 6 × 13\n",
       "\n",
       "| university_rank &lt;chr&gt; | name_of_university &lt;chr&gt; | location &lt;chr&gt; | no_of_student &lt;dbl&gt; | no_of_student_per_staff &lt;dbl&gt; | international_student &lt;dbl&gt; | female_male_ratio &lt;dbl&gt; | overall_score &lt;dbl&gt; | teaching_score &lt;dbl&gt; | research_score &lt;dbl&gt; | citations_score &lt;dbl&gt; | industry_income_score &lt;dbl&gt; | international_outlook_score &lt;dbl&gt; |\n",
       "|---|---|---|---|---|---|---|---|---|---|---|---|---|\n",
       "| 1  | University of Oxford                  | United Kingdom | 20965 | 10.6 | 0.42 | 0.9230769 | 96.4 | 92.3 | 99.7 | 99.0 | 74.9 | 96.2 |\n",
       "| 5  | Massachusetts Institute of Technology | United States  | 11415 |  8.2 | 0.33 | 0.6666667 | 94.2 | 90.7 | 93.6 | 99.8 | 90.9 | 89.3 |\n",
       "| 7  | Princeton University                  | United States  |  8279 |  8.0 | 0.23 | 0.8518519 | 92.4 | 87.6 | 95.9 | 99.1 | 66.0 | 80.3 |\n",
       "| 10 | Imperial College London               | United Kingdom | 18545 | 11.2 | 0.61 | 0.6666667 | 90.4 | 82.8 | 90.8 | 98.3 | 59.8 | 97.5 |\n",
       "| 13 | The University of Chicago             | United States  | 15366 |  6.0 | 0.36 | 0.8867925 | 88.9 | 86.5 | 88.8 | 97.7 | 56.2 | 74.2 |\n",
       "| 14 | University of Pennsylvania            | United States  | 21453 |  6.3 | 0.23 | 1.1276596 | 88.8 | 86.0 | 88.8 | 97.0 | 75.8 | 71.5 |\n",
       "\n"
      ],
      "text/plain": [
       "  university_rank name_of_university                    location      \n",
       "1 1               University of Oxford                  United Kingdom\n",
       "2 5               Massachusetts Institute of Technology United States \n",
       "3 7               Princeton University                  United States \n",
       "4 10              Imperial College London               United Kingdom\n",
       "5 13              The University of Chicago             United States \n",
       "6 14              University of Pennsylvania            United States \n",
       "  no_of_student no_of_student_per_staff international_student female_male_ratio\n",
       "1 20965         10.6                    0.42                  0.9230769        \n",
       "2 11415          8.2                    0.33                  0.6666667        \n",
       "3  8279          8.0                    0.23                  0.8518519        \n",
       "4 18545         11.2                    0.61                  0.6666667        \n",
       "5 15366          6.0                    0.36                  0.8867925        \n",
       "6 21453          6.3                    0.23                  1.1276596        \n",
       "  overall_score teaching_score research_score citations_score\n",
       "1 96.4          92.3           99.7           99.0           \n",
       "2 94.2          90.7           93.6           99.8           \n",
       "3 92.4          87.6           95.9           99.1           \n",
       "4 90.4          82.8           90.8           98.3           \n",
       "5 88.9          86.5           88.8           97.7           \n",
       "6 88.8          86.0           88.8           97.0           \n",
       "  industry_income_score international_outlook_score\n",
       "1 74.9                  96.2                       \n",
       "2 90.9                  89.3                       \n",
       "3 66.0                  80.3                       \n",
       "4 59.8                  97.5                       \n",
       "5 56.2                  74.2                       \n",
       "6 75.8                  71.5                       "
      ]
     },
     "metadata": {},
     "output_type": "display_data"
    }
   ],
   "source": [
    "head(uni_testing)"
   ]
  },
  {
   "cell_type": "markdown",
   "id": "e9ae0c04-90b8-4966-867b-b296fa2dbdc8",
   "metadata": {},
   "source": [
    "**Table 3**: First 5 Rows of Testing Data"
   ]
  },
  {
   "cell_type": "markdown",
   "id": "5c43fdcb-2587-49d5-93e8-dfe9ab58c250",
   "metadata": {},
   "source": [
    "Now we will run Lasso regularization on `uni_training` since the training data is used to train the model to fit the data and penalize large coefficients. By running lasso on the training data we will be able to find the value of the L1 penalty term ($\\lambda$) that provides the lowest cross-validation MSE."
   ]
  },
  {
   "cell_type": "code",
   "execution_count": 123,
   "id": "acdc921b-8f49-4049-81b8-42bd501fc3c8",
   "metadata": {},
   "outputs": [
    {
     "data": {
      "text/plain": [
       "\n",
       "Call:  cv.glmnet(x = uni_testing %>% select(-university_rank, -name_of_university,      -location, -overall_score) %>% as.matrix(), y = uni_testing$overall_score,      alpha = 1) \n",
       "\n",
       "Measure: Mean-Squared Error \n",
       "\n",
       "    Lambda Index Measure      SE Nonzero\n",
       "min 0.2205    44  0.1915 0.04553       5\n",
       "1se 0.2420    43  0.2268 0.05453       5"
      ]
     },
     "metadata": {},
     "output_type": "display_data"
    }
   ],
   "source": [
    "# Main Developer: Kaichi\n",
    "\n",
    "#run the lasso regression on the training set\n",
    "uni_lasso<-\n",
    "    cv.glmnet(uni_training %>% select(-university_rank, -name_of_university, -location, -overall_score) %>% as.matrix(), \n",
    "              uni_training$overall_score, \n",
    "              alpha=1)\n",
    "\n",
    "lasso_model"
   ]
  },
  {
   "cell_type": "markdown",
   "id": "32dff110-de78-4375-a0dc-af7923e378e8",
   "metadata": {},
   "source": [
    "Now that we ran the model, we will extract the coefficients of the model with the lowest cross-validation MSE and the names of the covariates."
   ]
  },
  {
   "cell_type": "code",
   "execution_count": 124,
   "id": "5c976dc9-9448-42e3-99ad-ea74f6edbad7",
   "metadata": {},
   "outputs": [
    {
     "data": {
      "text/plain": [
       "10 x 1 sparse Matrix of class \"dgCMatrix\"\n",
       "                                    s1\n",
       "(Intercept)                 3.07625261\n",
       "no_of_student               .         \n",
       "no_of_student_per_staff     .         \n",
       "international_student       .         \n",
       "female_male_ratio           .         \n",
       "teaching_score              0.27771788\n",
       "research_score              0.31398129\n",
       "citations_score             0.28652796\n",
       "industry_income_score       0.01364919\n",
       "international_outlook_score 0.06356860"
      ]
     },
     "metadata": {},
     "output_type": "display_data"
    }
   ],
   "source": [
    "# Main Developer: Kaichi\n",
    "\n",
    "lasso_coef <-\n",
    "    coef(uni_lasso, s = uni_lasso$lambda.min)\n",
    "\n",
    "lasso_selected_covariates <-\n",
    "    as_tibble(\n",
    "        as.matrix(lasso_coef),\n",
    "        rownames='covariate') %>%\n",
    "        filter(covariate != '(Intercept)' & abs(s1) !=0) %>% \n",
    "        pull(covariate)\n",
    "lasso_coef"
   ]
  },
  {
   "cell_type": "markdown",
   "id": "6920e819-cc4f-4aaf-9fd2-22477f78edd8",
   "metadata": {},
   "source": [
    "**Table 4**: Coefficients of Model with Lowest MSE"
   ]
  },
  {
   "cell_type": "code",
   "execution_count": 126,
   "id": "54daaefe-e248-4a2d-8d21-6bc1747aa826",
   "metadata": {},
   "outputs": [
    {
     "data": {
      "text/html": [
       "<style>\n",
       ".list-inline {list-style: none; margin:0; padding: 0}\n",
       ".list-inline>li {display: inline-block}\n",
       ".list-inline>li:not(:last-child)::after {content: \"\\00b7\"; padding: 0 .5ex}\n",
       "</style>\n",
       "<ol class=list-inline><li>'teaching_score'</li><li>'research_score'</li><li>'citations_score'</li><li>'industry_income_score'</li><li>'international_outlook_score'</li></ol>\n"
      ],
      "text/latex": [
       "\\begin{enumerate*}\n",
       "\\item 'teaching\\_score'\n",
       "\\item 'research\\_score'\n",
       "\\item 'citations\\_score'\n",
       "\\item 'industry\\_income\\_score'\n",
       "\\item 'international\\_outlook\\_score'\n",
       "\\end{enumerate*}\n"
      ],
      "text/markdown": [
       "1. 'teaching_score'\n",
       "2. 'research_score'\n",
       "3. 'citations_score'\n",
       "4. 'industry_income_score'\n",
       "5. 'international_outlook_score'\n",
       "\n",
       "\n"
      ],
      "text/plain": [
       "[1] \"teaching_score\"              \"research_score\"             \n",
       "[3] \"citations_score\"             \"industry_income_score\"      \n",
       "[5] \"international_outlook_score\""
      ]
     },
     "metadata": {},
     "output_type": "display_data"
    }
   ],
   "source": [
    "# Main Developer: Kaichi\n",
    "\n",
    "#obtain the selected covariates\n",
    "lasso_selected_covariates"
   ]
  },
  {
   "cell_type": "markdown",
   "id": "0d76830b-29f2-42f4-a8f9-92efab479c37",
   "metadata": {},
   "source": [
    "Lasso regression should remove variables with high multicollinearity and is able to fit models on datasets with high multicollinearity. To verify this, we will check the variance inflation factor (VIF) of the lasso model"
   ]
  },
  {
   "cell_type": "code",
   "execution_count": 127,
   "id": "94151849-5397-45b9-8e59-1438cae271b7",
   "metadata": {},
   "outputs": [
    {
     "data": {
      "text/html": [
       "<style>\n",
       ".dl-inline {width: auto; margin:0; padding: 0}\n",
       ".dl-inline>dt, .dl-inline>dd {float: none; width: auto; display: inline-block}\n",
       ".dl-inline>dt::after {content: \":\\0020\"; padding-right: .5ex}\n",
       ".dl-inline>dt:not(:first-of-type) {padding-left: .5ex}\n",
       "</style><dl class=dl-inline><dt>teaching_score</dt><dd>7.78101938887521</dd><dt>research_score</dt><dd>8.06743435053294</dd><dt>citations_score</dt><dd>1.21111266945838</dd><dt>industry_income_score</dt><dd>1.22224038453068</dd><dt>international_outlook_score</dt><dd>1.34055006936606</dd></dl>\n"
      ],
      "text/latex": [
       "\\begin{description*}\n",
       "\\item[teaching\\textbackslash{}\\_score] 7.78101938887521\n",
       "\\item[research\\textbackslash{}\\_score] 8.06743435053294\n",
       "\\item[citations\\textbackslash{}\\_score] 1.21111266945838\n",
       "\\item[industry\\textbackslash{}\\_income\\textbackslash{}\\_score] 1.22224038453068\n",
       "\\item[international\\textbackslash{}\\_outlook\\textbackslash{}\\_score] 1.34055006936606\n",
       "\\end{description*}\n"
      ],
      "text/markdown": [
       "teaching_score\n",
       ":   7.78101938887521research_score\n",
       ":   8.06743435053294citations_score\n",
       ":   1.21111266945838industry_income_score\n",
       ":   1.22224038453068international_outlook_score\n",
       ":   1.34055006936606\n",
       "\n"
      ],
      "text/plain": [
       "             teaching_score              research_score \n",
       "                   7.781019                    8.067434 \n",
       "            citations_score       industry_income_score \n",
       "                   1.211113                    1.222240 \n",
       "international_outlook_score \n",
       "                   1.340550 "
      ]
     },
     "metadata": {},
     "output_type": "display_data"
    }
   ],
   "source": [
    "# Main Developer: Kaichi\n",
    "\n",
    "lasso_vif <- vif(lm(overall_score ~ . , data = uni_training %>% \n",
    "        select(contains(lasso_selected_covariates), overall_score)))\n",
    "lasso_vif"
   ]
  },
  {
   "cell_type": "markdown",
   "id": "e832340c-60e2-4a1d-a0d2-551205a23b69",
   "metadata": {},
   "source": [
    "Most of the variables selected in this model have low vif values indicating there is no issue of multicollinearity. However, `teaching_score` and `reasearch_score` both have high vif values which point to multicollinearity. Despite the high multicollinearity, the model could still be effective since lasso regression includeds variables that have high multicollinearity if they contribute significantly to the model. To verify the effectiveness of the model, we will fit an oridinary least squares model with the lasso selected variables and evaluate the $R^2$ value to determine the models effectiveness. To fit the OLS we will use the testing data which was kept separate from the training process as it provides an unbiased evaluation when comparing different models and a measure of how well the model does on unseen data. "
   ]
  },
  {
   "cell_type": "code",
   "execution_count": 129,
   "id": "909eef42-2011-4f6f-a95a-cc3112436d7a",
   "metadata": {},
   "outputs": [
    {
     "data": {
      "text/plain": [
       "\n",
       "Call:\n",
       "lm(formula = overall_score ~ ., data = uni_testing %>% select(contains(lasso_selected_covariates), \n",
       "    overall_score))\n",
       "\n",
       "Residuals:\n",
       "     Min       1Q   Median       3Q      Max \n",
       "-0.05068 -0.02063  0.01030  0.01722  0.05708 \n",
       "\n",
       "Coefficients:\n",
       "                              Estimate Std. Error t value Pr(>|t|)    \n",
       "(Intercept)                 -0.0366695  0.0512154  -0.716    0.479    \n",
       "teaching_score               0.2998697  0.0007036 426.186   <2e-16 ***\n",
       "research_score               0.2996657  0.0006858 436.970   <2e-16 ***\n",
       "citations_score              0.3005105  0.0005030 597.434   <2e-16 ***\n",
       "industry_income_score        0.0249281  0.0002898  86.021   <2e-16 ***\n",
       "international_outlook_score  0.0754046  0.0003467 217.522   <2e-16 ***\n",
       "---\n",
       "Signif. codes:  0 ‘***’ 0.001 ‘**’ 0.01 ‘*’ 0.05 ‘.’ 0.1 ‘ ’ 1\n",
       "\n",
       "Residual standard error: 0.03133 on 35 degrees of freedom\n",
       "Multiple R-squared:      1,\tAdjusted R-squared:      1 \n",
       "F-statistic: 1.276e+06 on 5 and 35 DF,  p-value: < 2.2e-16\n"
      ]
     },
     "metadata": {},
     "output_type": "display_data"
    }
   ],
   "source": [
    "# Main Developer: Kaichi\n",
    "\n",
    "#fit OLS model using lasso selected covariates\n",
    "lasso_cov_model <- \n",
    "    lm(overall_score ~ .,\n",
    "        data = uni_testing %>% \n",
    "                   select(contains(lasso_selected_covariates), overall_score))\n",
    "summary(lasso_cov_model)"
   ]
  },
  {
   "cell_type": "markdown",
   "id": "dcd436c5-56cc-46c7-ba52-a553e835dc24",
   "metadata": {},
   "source": [
    "**Table 5**: Summary of OLS Model Using Lasso Selected Variables"
   ]
  },
  {
   "cell_type": "markdown",
   "id": "2a1a96fb-17bd-4fd8-88d1-84f48461390d",
   "metadata": {},
   "source": [
    "We will now compare it to the full OLS model."
   ]
  },
  {
   "cell_type": "code",
   "execution_count": 131,
   "id": "f74806ab-e0b1-4559-bbb0-37ab203fe646",
   "metadata": {},
   "outputs": [
    {
     "data": {
      "text/plain": [
       "\n",
       "Call:\n",
       "lm(formula = overall_score ~ . - university_rank - name_of_university - \n",
       "    location, data = university_data_cleaned)\n",
       "\n",
       "Residuals:\n",
       "      Min        1Q    Median        3Q       Max \n",
       "-0.084303 -0.025437  0.000312  0.022858  0.080683 \n",
       "\n",
       "Coefficients:\n",
       "                              Estimate Std. Error t value Pr(>|t|)    \n",
       "(Intercept)                  1.850e-02  3.456e-02   0.535   0.5934    \n",
       "no_of_student               -8.625e-08  2.271e-07  -0.380   0.7047    \n",
       "no_of_student_per_staff     -3.539e-04  3.016e-04  -1.173   0.2429    \n",
       "international_student        1.294e-03  3.715e-02   0.035   0.9723    \n",
       "female_male_ratio           -1.823e-02  9.997e-03  -1.824   0.0705 .  \n",
       "teaching_score               2.988e-01  5.299e-04 563.923   <2e-16 ***\n",
       "research_score               3.009e-01  4.629e-04 650.030   <2e-16 ***\n",
       "citations_score              3.005e-01  3.213e-04 935.238   <2e-16 ***\n",
       "industry_income_score        2.487e-02  1.832e-04 135.817   <2e-16 ***\n",
       "international_outlook_score  7.482e-02  2.890e-04 258.950   <2e-16 ***\n",
       "---\n",
       "Signif. codes:  0 ‘***’ 0.001 ‘**’ 0.01 ‘*’ 0.05 ‘.’ 0.1 ‘ ’ 1\n",
       "\n",
       "Residual standard error: 0.03275 on 126 degrees of freedom\n",
       "Multiple R-squared:      1,\tAdjusted R-squared:      1 \n",
       "F-statistic: 1.927e+06 on 9 and 126 DF,  p-value: < 2.2e-16\n"
      ]
     },
     "metadata": {},
     "output_type": "display_data"
    }
   ],
   "source": [
    "summary(university_lm)"
   ]
  },
  {
   "cell_type": "markdown",
   "id": "c1507336-fe47-417b-b4b2-510c1ab3efda",
   "metadata": {},
   "source": [
    "**Table 6**: Summary of Full OLS Model"
   ]
  },
  {
   "cell_type": "markdown",
   "id": "3f8bb3b3-c0bd-4362-bf1f-fd7b34074ca1",
   "metadata": {},
   "source": [
    "The adjusted $R^2$ in the full model is the same as the model with the lasso selected variables which implies that both the full model and model with lasso selected variables explain the variance `overall_score` equally than the model with both of the $R^2$ being 1. The $R^2$ being 1 implies that both models perfectly explain the variance of `overall_score`. Since the $R^2$ between the full model and lasso model was relatively the same, it justifies the variables selected with the lasso model since it implies that the variables removed did not make a significant impact to the models ability to explain the variance in `overall_score`. This result is also consistent with the result of the $p$-values in the full model as the variables that were removed in the lasso regression are also shown as insignificant in the full model."
   ]
  },
  {
   "cell_type": "markdown",
   "id": "f17da039-93fe-4a4a-9390-af3560765555",
   "metadata": {},
   "source": [
    "### Discussion"
   ]
  },
  {
   "cell_type": "markdown",
   "id": "6c02a964-5be1-4cf5-ba15-ccae98882b5c",
   "metadata": {},
   "source": [
    "In this section, you’ll interpret the results you obtained in the previous section with respect to the main question/goal of your project.\n",
    "\n",
    "Summarize what you found and the implications/impact of your findings.\n",
    "If relevant, discuss whether your results were what you expected to find.\n",
    "Discuss how your model could be improved;\n",
    "Discuss future questions/research this study could lead to."
   ]
  },
  {
   "cell_type": "markdown",
   "id": "fc4fcfdd-6a4a-49cc-b9f3-97e11d55a9a0",
   "metadata": {},
   "source": [
    "### References"
   ]
  },
  {
   "cell_type": "markdown",
   "id": "5ae185c7-ca83-4ee7-b135-178e5e7db88f",
   "metadata": {},
   "source": [
    "At least two citations of literature relevant to the project. The citation format is your choice – just be consistent. Make sure to cite the source of your data as well."
   ]
  },
  {
   "cell_type": "code",
   "execution_count": null,
   "id": "6b942ec1-6e42-4ad5-8750-569997b742af",
   "metadata": {},
   "outputs": [],
   "source": []
  }
 ],
 "metadata": {
  "kernelspec": {
   "display_name": "R",
   "language": "R",
   "name": "ir"
  },
  "language_info": {
   "codemirror_mode": "r",
   "file_extension": ".r",
   "mimetype": "text/x-r-source",
   "name": "R",
   "pygments_lexer": "r",
   "version": "4.3.1"
  }
 },
 "nbformat": 4,
 "nbformat_minor": 5
}
